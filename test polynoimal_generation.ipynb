{
 "cells": [
  {
   "cell_type": "code",
   "execution_count": 1,
   "metadata": {
    "collapsed": true
   },
   "outputs": [],
   "source": [
    "from multipole_test import operation as op\n",
    "import numpy as np"
   ]
  },
  {
   "cell_type": "code",
   "execution_count": 45,
   "metadata": {},
   "outputs": [],
   "source": [
    "p = 10\n",
    "z = np.float128(0.01224745)\n",
    "[P1lm, P2lm] = op.polynoimal_generation(p, z)"
   ]
  },
  {
   "cell_type": "code",
   "execution_count": 20,
   "metadata": {},
   "outputs": [
    {
     "data": {
      "text/plain": [
       "-0.00026031902138221534688"
      ]
     },
     "execution_count": 20,
     "metadata": {},
     "output_type": "execute_result"
    }
   ],
   "source": [
    "P1lm.Vp[5][5]"
   ]
  },
  {
   "cell_type": "code",
   "execution_count": 25,
   "metadata": {},
   "outputs": [
    {
     "data": {
      "text/plain": [
       "-0.4999624985857683"
      ]
     },
     "execution_count": 25,
     "metadata": {},
     "output_type": "execute_result"
    }
   ],
   "source": [
    "P1lm.getlm(1,1)"
   ]
  },
  {
   "cell_type": "code",
   "execution_count": 29,
   "metadata": {},
   "outputs": [
    {
     "data": {
      "text/plain": [
       "array([[ 1.        ,  0.        ,  0.        ,  0.        ],\n",
       "       [ 0.01224745, -0.4999625 ,  0.        ,  0.        ],\n",
       "       [-0.2498875 , -0.00612327,  0.12498125,  0.        ],\n",
       "       [-0.0030611 ,  0.06244844,  0.0015307 , -0.02082865]])"
      ]
     },
     "execution_count": 29,
     "metadata": {},
     "output_type": "execute_result"
    }
   ],
   "source": [
    "P1lm.Vp"
   ]
  },
  {
   "cell_type": "code",
   "execution_count": 30,
   "metadata": {},
   "outputs": [
    {
     "data": {
      "text/plain": [
       "array([[ 1.00000000e+00,  0.00000000e+00,  0.00000000e+00,\n",
       "         0.00000000e+00],\n",
       "       [ 1.22474500e-02, -9.99924997e-01,  0.00000000e+00,\n",
       "         0.00000000e+00],\n",
       "       [-9.99550000e-01, -3.67395942e-02,  2.99955000e+00,\n",
       "         0.00000000e+00],\n",
       "       [-1.10199493e-01,  2.99752516e+00,  1.83684193e-01,\n",
       "        -1.49966251e+01]])"
      ]
     },
     "execution_count": 30,
     "metadata": {},
     "output_type": "execute_result"
    }
   ],
   "source": [
    "P2lm.Vp"
   ]
  },
  {
   "cell_type": "code",
   "execution_count": 9,
   "metadata": {
    "collapsed": true
   },
   "outputs": [],
   "source": [
    "import numpy as np\n",
    "from scipy.special import factorial as fc\n",
    "from scipy.special import factorial2 as fc2\n"
   ]
  },
  {
   "cell_type": "code",
   "execution_count": 10,
   "metadata": {
    "collapsed": true
   },
   "outputs": [],
   "source": [
    "def Pmm(m, x):\n",
    "    return fc2(2*m-1) * np.power((1 - x*x), m/2) / fc(2*m)"
   ]
  },
  {
   "cell_type": "code",
   "execution_count": null,
   "metadata": {
    "collapsed": true
   },
   "outputs": [],
   "source": []
  },
  {
   "cell_type": "code",
   "execution_count": 21,
   "metadata": {},
   "outputs": [
    {
     "data": {
      "text/plain": [
       "0.0002603190213822153288"
      ]
     },
     "execution_count": 21,
     "metadata": {},
     "output_type": "execute_result"
    }
   ],
   "source": [
    "Pmm(5, np.float128(0.01224745))"
   ]
  },
  {
   "cell_type": "code",
   "execution_count": 39,
   "metadata": {},
   "outputs": [
    {
     "data": {
      "text/plain": [
       "0.49996249858576830016"
      ]
     },
     "execution_count": 39,
     "metadata": {},
     "output_type": "execute_result"
    }
   ],
   "source": [
    "Pmm(1, np.float64(0.01224745))"
   ]
  },
  {
   "cell_type": "code",
   "execution_count": 12,
   "metadata": {},
   "outputs": [
    {
     "data": {
      "text/plain": [
       "0.012247450000000000003"
      ]
     },
     "execution_count": 12,
     "metadata": {},
     "output_type": "execute_result"
    }
   ],
   "source": [
    "np.float128(0.01224745)"
   ]
  },
  {
   "cell_type": "code",
   "execution_count": 68,
   "metadata": {},
   "outputs": [
    {
     "data": {
      "text/plain": [
       "(0.4999624985857683+0j)"
      ]
     },
     "execution_count": 68,
     "metadata": {},
     "output_type": "execute_result"
    }
   ],
   "source": [
    "P1lm.Vn[0,0]"
   ]
  },
  {
   "cell_type": "code",
   "execution_count": 8,
   "metadata": {},
   "outputs": [
    {
     "data": {
      "text/plain": [
       "-0.0625"
      ]
     },
     "execution_count": 8,
     "metadata": {},
     "output_type": "execute_result"
    }
   ],
   "source": [
    "(0.5*3*0.5 - 1)/4"
   ]
  },
  {
   "cell_type": "code",
   "execution_count": 9,
   "metadata": {
    "collapsed": true
   },
   "outputs": [],
   "source": [
    "def Plm(P1, P2, x, l, m):\n",
    "    return (x * (2*l-1) * P1 - P2) / ((l+m) * (l-m))"
   ]
  },
  {
   "cell_type": "code",
   "execution_count": 10,
   "metadata": {},
   "outputs": [
    {
     "data": {
      "text/plain": [
       "-0.013531646875000004"
      ]
     },
     "execution_count": 10,
     "metadata": {},
     "output_type": "execute_result"
    }
   ],
   "source": [
    "Plm(-0.21650635, -0.4330127, 0.5, 3, 1)"
   ]
  },
  {
   "cell_type": "code",
   "execution_count": 36,
   "metadata": {},
   "outputs": [
    {
     "data": {
      "text/plain": [
       "numpy.complex128"
      ]
     },
     "execution_count": 36,
     "metadata": {},
     "output_type": "execute_result"
    }
   ],
   "source": [
    "type(np.power(0.3, 2)*Pmm(1, 0.5)*np.exp(-2*0.4*1j))"
   ]
  },
  {
   "cell_type": "code",
   "execution_count": 22,
   "metadata": {},
   "outputs": [
    {
     "data": {
      "text/plain": [
       "(0.6967067093471655-0.71735609089952279j)"
      ]
     },
     "execution_count": 22,
     "metadata": {},
     "output_type": "execute_result"
    }
   ],
   "source": [
    "np.exp(-2*0.4*1j)"
   ]
  },
  {
   "cell_type": "code",
   "execution_count": 25,
   "metadata": {},
   "outputs": [],
   "source": [
    "from scipy.special import factorial"
   ]
  },
  {
   "cell_type": "code",
   "execution_count": 38,
   "metadata": {},
   "outputs": [
    {
     "data": {
      "text/plain": [
       "numpy.float64"
      ]
     },
     "execution_count": 38,
     "metadata": {},
     "output_type": "execute_result"
    }
   ],
   "source": [
    "type(op.cartesian_to_spherical([0.25, 0.25, 0.25])[1])"
   ]
  },
  {
   "cell_type": "code",
   "execution_count": 50,
   "metadata": {},
   "outputs": [
    {
     "data": {
      "text/plain": [
       "0.95531661812450919"
      ]
     },
     "execution_count": 50,
     "metadata": {},
     "output_type": "execute_result"
    }
   ],
   "source": [
    "op.cartesian_to_spherical([0.25, 0.25, 0.25])[2]"
   ]
  },
  {
   "cell_type": "code",
   "execution_count": 51,
   "metadata": {},
   "outputs": [
    {
     "data": {
      "text/plain": [
       "0.95531661812450919"
      ]
     },
     "execution_count": 51,
     "metadata": {},
     "output_type": "execute_result"
    }
   ],
   "source": [
    "op.cartesian_to_spherical(np.array([0.25, 0.25, 0.25]))[2]"
   ]
  },
  {
   "cell_type": "code",
   "execution_count": 23,
   "metadata": {},
   "outputs": [],
   "source": [
    "import numpy as np\n",
    "from scipy.special import factorial2 as fc2\n",
    "\n",
    "\n",
    "def AL_polynoimal(p, x):\n",
    "    if p < 0:\n",
    "        raise Exception(\"Error: input level can not be nagative\")\n",
    "        \n",
    "    P = np.zeros(shape=(p+1, p+1), dtype=np.float128)\n",
    "    \n",
    "    for l in range(0, p+1):\n",
    "        P[l][l] = np.power(-1, l) * int(fc2(2*l-1)) * np.power(1-x*x, l/2)\n",
    "    \n",
    "    if p==0:\n",
    "        return P\n",
    "    elif p==1:\n",
    "        P[1][0] = x\n",
    "        return P\n",
    "    \n",
    "    for l in range(0, p+1):\n",
    "        for m in range(0, l):\n",
    "            P[l][m] = ((2*l-1) * x * P[l-1][m] - (l+m-1) * P[l-2][m]) / (l-m)\n",
    "    \n",
    "    return P"
   ]
  },
  {
   "cell_type": "code",
   "execution_count": 37,
   "metadata": {},
   "outputs": [
    {
     "data": {
      "text/plain": [
       "array([[ 1.00000000e+00,  0.00000000e+00,  0.00000000e+00,\n",
       "         0.00000000e+00,  0.00000000e+00,  0.00000000e+00,\n",
       "         0.00000000e+00,  0.00000000e+00,  0.00000000e+00,\n",
       "         0.00000000e+00,  0.00000000e+00],\n",
       "       [ 1.22474500e-02, -9.99924997e-01,  0.00000000e+00,\n",
       "         0.00000000e+00,  0.00000000e+00,  0.00000000e+00,\n",
       "         0.00000000e+00,  0.00000000e+00,  0.00000000e+00,\n",
       "         0.00000000e+00,  0.00000000e+00],\n",
       "       [-4.99775000e-01, -3.67395942e-02,  2.99955000e+00,\n",
       "         0.00000000e+00,  0.00000000e+00,  0.00000000e+00,\n",
       "         0.00000000e+00,  0.00000000e+00,  0.00000000e+00,\n",
       "         0.00000000e+00,  0.00000000e+00],\n",
       "       [-1.83665822e-02,  1.49876258e+00,  1.83684193e-01,\n",
       "        -1.49966251e+01,  0.00000000e+00,  0.00000000e+00,\n",
       "         0.00000000e+00,  0.00000000e+00,  0.00000000e+00,\n",
       "         0.00000000e+00,  0.00000000e+00],\n",
       "       [ 3.74437598e-01,  9.18168384e-02, -7.49100118e+00,\n",
       "        -1.28569291e+00,  1.04968502e+02,  0.00000000e+00,\n",
       "         0.00000000e+00,  0.00000000e+00,  0.00000000e+00,\n",
       "         0.00000000e+00,  0.00000000e+00],\n",
       "       [ 2.29478961e-02, -1.87092305e+00, -6.42605374e-01,\n",
       "         5.24173289e+01,  1.15703684e+01, -9.44645665e+02,\n",
       "         0.00000000e+00,  0.00000000e+00,  0.00000000e+00,\n",
       "         0.00000000e+00,  0.00000000e+00],\n",
       "       [-3.11516068e-01, -1.60591086e-01,  1.30876088e+01,\n",
       "         5.78243603e+00, -4.71578869e+02, -1.27264506e+02,\n",
       "         1.03903230e+04,  0.00000000e+00,  0.00000000e+00,\n",
       "         0.00000000e+00,  0.00000000e+00],\n",
       "       [-2.67551406e-02,  2.17848209e+00,  1.44492217e+00,\n",
       "        -1.17708825e+02, -6.35956619e+01,  5.18541983e+03,\n",
       "         1.65431449e+03, -1.35064067e+05,  0.00000000e+00,\n",
       "         0.00000000e+00,  0.00000000e+00],\n",
       "       [ 2.71962155e-01,  2.40705921e-01, -1.95871717e+01,\n",
       "        -1.58897709e+01,  1.29392107e+03,  8.26598875e+02,\n",
       "        -6.73851407e+04, -2.48128562e+04,  2.02580906e+06,\n",
       "         0.00000000e+00,  0.00000000e+00],\n",
       "       [ 3.00739393e-02, -2.44452778e+00, -2.64677158e+00,\n",
       "         2.15248119e+02,  2.06510183e+02, -1.68095886e+04,\n",
       "        -1.23968124e+04,  1.01039740e+06,  4.21786918e+05,\n",
       "        -3.44361710e+07,  0.00000000e+00],\n",
       "       [-2.44066114e-01, -3.30656068e-01,  2.68553726e+01,\n",
       "         3.43951174e+01, -2.79548645e+03, -3.09680031e+03,\n",
       "         2.51973088e+05,  2.10708914e+05, -1.71703018e+07,\n",
       "        -8.01335037e+06,  6.54238175e+08]], dtype=float128)"
      ]
     },
     "execution_count": 37,
     "metadata": {},
     "output_type": "execute_result"
    }
   ],
   "source": [
    "AL = AL_polynoimal(10, np.float128(0.01224745)) \n",
    "AL"
   ]
  },
  {
   "cell_type": "code",
   "execution_count": 43,
   "metadata": {},
   "outputs": [
    {
     "data": {
      "text/plain": [
       "0.17593293469669278287"
      ]
     },
     "execution_count": 43,
     "metadata": {},
     "output_type": "execute_result"
    }
   ],
   "source": [
    "AL[10][10] ** 2 / fc(20)"
   ]
  },
  {
   "cell_type": "code",
   "execution_count": 65,
   "metadata": {},
   "outputs": [],
   "source": [
    "from scipy.special import lpmn\n",
    "[P0lm, _] = lpmn(10, 10, np.float128(0.01224745))"
   ]
  },
  {
   "cell_type": "code",
   "execution_count": 63,
   "metadata": {},
   "outputs": [
    {
     "data": {
      "text/plain": [
       "0.86505201083288251217"
      ]
     },
     "execution_count": 63,
     "metadata": {},
     "output_type": "execute_result"
    }
   ],
   "source": [
    "x1 = 0.012223\n",
    "x2 = 0.963\n",
    "p = 10 \n",
    "[P1lm, _] = op.polynoimal_generation(p, x1)\n",
    "[_, P2lm] = op.polynoimal_generation(p, x2)\n",
    "\n",
    "\n",
    "sum(sum(P1lm.product(P2lm).Vp))"
   ]
  },
  {
   "cell_type": "code",
   "execution_count": 64,
   "metadata": {},
   "outputs": [
    {
     "data": {
      "text/plain": [
       "array([[ 1.00000000e+00,  0.00000000e+00,  0.00000000e+00,\n",
       "         0.00000000e+00,  0.00000000e+00,  0.00000000e+00,\n",
       "         0.00000000e+00,  0.00000000e+00,  0.00000000e+00,\n",
       "         0.00000000e+00,  0.00000000e+00],\n",
       "       [ 9.63000000e-01, -2.69501391e-01,  0.00000000e+00,\n",
       "         0.00000000e+00,  0.00000000e+00,  0.00000000e+00,\n",
       "         0.00000000e+00,  0.00000000e+00,  0.00000000e+00,\n",
       "         0.00000000e+00,  0.00000000e+00],\n",
       "       [ 1.78210700e+00, -7.78589520e-01,  2.17893000e-01,\n",
       "         0.00000000e+00,  0.00000000e+00,  0.00000000e+00,\n",
       "         0.00000000e+00,  0.00000000e+00,  0.00000000e+00,\n",
       "         0.00000000e+00,  0.00000000e+00],\n",
       "       [ 4.72884520e+00, -2.94040436e+00,  1.04915480e+00,\n",
       "        -2.93612333e-01,  0.00000000e+00,  0.00000000e+00,\n",
       "         0.00000000e+00,  0.00000000e+00,  0.00000000e+00,\n",
       "         0.00000000e+00,  0.00000000e+00],\n",
       "       [ 1.58381825e+01, -1.35925497e+01,  5.98288747e+00,\n",
       "        -1.97924074e+00,  5.53902527e-01,  0.00000000e+00,\n",
       "         0.00000000e+00,  0.00000000e+00,  0.00000000e+00,\n",
       "         0.00000000e+00,  0.00000000e+00],\n",
       "       [ 6.16080047e+01, -7.37005624e+01,  3.92638282e+01,\n",
       "        -1.50987932e+01,  4.80067320e+00, -1.34349752e+00,\n",
       "         0.00000000e+00,  0.00000000e+00,  0.00000000e+00,\n",
       "         0.00000000e+00,  0.00000000e+00],\n",
       "       [ 2.56659030e+02, -4.54488866e+02,  2.90281095e+02,\n",
       "        -1.28273664e+02,  4.58684085e+01, -1.42316692e+01,\n",
       "         3.98281895e+00,  0.00000000e+00,  0.00000000e+00,\n",
       "         0.00000000e+00,  0.00000000e+00],\n",
       "       [ 9.95226233e+02, -3.11022643e+03,  2.37758653e+03,\n",
       "        -1.19819059e+03,  4.78213142e+02, -1.63387794e+02,\n",
       "         4.98609104e+01, -1.39538782e+01,  0.00000000e+00,\n",
       "         0.00000000e+00,  0.00000000e+00],\n",
       "       [ 1.79975045e+03, -2.31117552e+04,  2.12815881e+04,\n",
       "        -1.21769164e+04,  5.39413135e+03, -2.01857662e+03,\n",
       "         6.68464205e+02, -2.01563771e+02,  5.64088440e+01,\n",
       "         0.00000000e+00,  0.00000000e+00],\n",
       "       [-3.42307643e+04, -1.82418279e+05,  2.05745687e+05,\n",
       "        -1.33447817e+05,  6.53530936e+04, -2.66739939e+04,\n",
       "         9.54732200e+03, -3.09049232e+03,  9.23469185e+02,\n",
       "        -2.58438453e+02,  0.00000000e+00],\n",
       "       [-7.72100081e+05, -1.48876684e+06,  2.12584656e+06,\n",
       "        -1.56495672e+06,  8.45147015e+05, -3.75013776e+05,\n",
       "         1.44606461e+05, -5.00966974e+04,  1.59377653e+04,\n",
       "        -4.72864838e+03,  1.32334093e+03]], dtype=float128)"
      ]
     },
     "execution_count": 64,
     "metadata": {},
     "output_type": "execute_result"
    }
   ],
   "source": [
    "P2lm.Vp"
   ]
  },
  {
   "cell_type": "code",
   "execution_count": 39,
   "metadata": {},
   "outputs": [
    {
     "data": {
      "text/plain": [
       "array([[ 0.00000000e+00,  0.00000000e+00,  0.00000000e+00,\n",
       "         0.00000000e+00,  0.00000000e+00,  0.00000000e+00,\n",
       "         0.00000000e+00,  0.00000000e+00,  0.00000000e+00,\n",
       "         0.00000000e+00,  0.00000000e+00],\n",
       "       [ 0.00000000e+00,  0.00000000e+00,  0.00000000e+00,\n",
       "         0.00000000e+00,  0.00000000e+00,  0.00000000e+00,\n",
       "         0.00000000e+00,  0.00000000e+00,  0.00000000e+00,\n",
       "         0.00000000e+00,  0.00000000e+00],\n",
       "       [-1.83230167e-17, -1.70423029e-18,  0.00000000e+00,\n",
       "         0.00000000e+00,  0.00000000e+00,  0.00000000e+00,\n",
       "         0.00000000e+00,  0.00000000e+00,  0.00000000e+00,\n",
       "         0.00000000e+00,  0.00000000e+00],\n",
       "       [-5.37018889e-19, -9.75781955e-19, -1.27664806e-17,\n",
       "         4.44089210e-16,  0.00000000e+00,  0.00000000e+00,\n",
       "         0.00000000e+00,  0.00000000e+00,  0.00000000e+00,\n",
       "         0.00000000e+00,  0.00000000e+00],\n",
       "       [ 1.14383329e-17,  1.25564164e-17, -2.84494650e-16,\n",
       "         1.48535698e-17,  3.10862447e-15,  0.00000000e+00,\n",
       "         0.00000000e+00,  0.00000000e+00,  0.00000000e+00,\n",
       "         0.00000000e+00,  0.00000000e+00],\n",
       "       [-2.01255028e-18,  1.33248447e-16,  1.58293517e-17,\n",
       "        -2.05738204e-15, -1.31838984e-16, -3.44169138e-14,\n",
       "         0.00000000e+00,  0.00000000e+00,  0.00000000e+00,\n",
       "         0.00000000e+00,  0.00000000e+00],\n",
       "       [-3.05745013e-17, -2.75116301e-18, -3.81639165e-17,\n",
       "        -4.60135402e-16,  3.05311332e-16, -1.48145385e-14,\n",
       "         1.50990331e-13,  0.00000000e+00,  0.00000000e+00,\n",
       "         0.00000000e+00,  0.00000000e+00],\n",
       "       [ 5.00596472e-18, -1.25767452e-16, -2.36139233e-16,\n",
       "        -5.32213162e-15, -2.42514342e-15, -1.98507877e-13,\n",
       "        -3.96349620e-14,  1.03597131e-11,  0.00000000e+00,\n",
       "         0.00000000e+00,  0.00000000e+00],\n",
       "       [ 1.45554142e-17,  1.51517254e-17, -6.59194921e-17,\n",
       "         2.68014777e-16,  1.16795462e-13,  1.39332990e-14,\n",
       "         3.28270744e-12,  2.43716158e-12,  4.77484718e-12,\n",
       "         0.00000000e+00,  0.00000000e+00],\n",
       "       [-5.13810186e-18,  3.80988643e-16,  1.12973866e-16,\n",
       "         2.11913820e-14, -1.26842981e-14, -1.06403775e-12,\n",
       "         1.86517468e-14, -1.51487711e-10,  1.08002496e-11,\n",
       "        -9.78616299e-10,  0.00000000e+00],\n",
       "       [-1.59377719e-17, -4.48046548e-17, -5.56846236e-16,\n",
       "         4.37150316e-16,  2.06945572e-13, -1.95843342e-13,\n",
       "        -8.32756086e-12, -3.39923645e-11,  1.67165126e-09,\n",
       "        -7.88986654e-10,  4.52273525e-08]], dtype=float128)"
      ]
     },
     "execution_count": 39,
     "metadata": {},
     "output_type": "execute_result"
    }
   ],
   "source": [
    "P0lm.transpose() - AL"
   ]
  },
  {
   "cell_type": "code",
   "execution_count": null,
   "metadata": {
    "collapsed": true
   },
   "outputs": [],
   "source": []
  }
 ],
 "metadata": {
  "anaconda-cloud": {},
  "kernelspec": {
   "display_name": "Python 3",
   "language": "python",
   "name": "python3"
  },
  "language_info": {
   "codemirror_mode": {
    "name": "ipython",
    "version": 3
   },
   "file_extension": ".py",
   "mimetype": "text/x-python",
   "name": "python",
   "nbconvert_exporter": "python",
   "pygments_lexer": "ipython3",
   "version": "3.5.4"
  }
 },
 "nbformat": 4,
 "nbformat_minor": 2
}
