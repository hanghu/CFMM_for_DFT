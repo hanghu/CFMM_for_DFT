{
 "cells": [
  {
   "cell_type": "code",
   "execution_count": 1,
   "metadata": {},
   "outputs": [],
   "source": [
    "from fast_multipole_method import operation as op\n",
    "import numpy as np"
   ]
  },
  {
   "cell_type": "code",
   "execution_count": 2,
   "metadata": {},
   "outputs": [],
   "source": [
    "x = np.array([0.12, 0.13, 0.115])\n",
    "p = 1"
   ]
  },
  {
   "cell_type": "code",
   "execution_count": 3,
   "metadata": {},
   "outputs": [],
   "source": [
    "y1 = np.array([0.125, 0.125, 0.125])\n",
    "r_y1_op = op.cartesian_to_spherical(y1-x)\n",
    "Mlm_y1_op = op.M_expansion(p, r_y1_op)\n",
    "\n",
    "r_y1 = op.cartesian_to_spherical(x - y1)\n",
    "Mlm_y1 = op.M_expansion(p, r_y1)"
   ]
  },
  {
   "cell_type": "code",
   "execution_count": 4,
   "metadata": {},
   "outputs": [
    {
     "data": {
      "text/plain": [
       "array([[ 0.    +0.    j,  1.    +0.    j,  0.    +0.    j],\n",
       "       [-0.0025+0.0025j,  0.01  +0.    j, -0.0025-0.0025j]])"
      ]
     },
     "execution_count": 4,
     "metadata": {},
     "output_type": "execute_result"
    }
   ],
   "source": [
    "Mlm_y1_op.V_matrix"
   ]
  },
  {
   "cell_type": "code",
   "execution_count": 5,
   "metadata": {},
   "outputs": [
    {
     "data": {
      "text/plain": [
       "array([[ 0.    +0.    j,  1.    +0.    j,  0.    +0.    j],\n",
       "       [ 0.0025-0.0025j, -0.01  +0.    j,  0.0025+0.0025j]])"
      ]
     },
     "execution_count": 5,
     "metadata": {},
     "output_type": "execute_result"
    }
   ],
   "source": [
    "Mlm_y1.V_matrix"
   ]
  },
  {
   "cell_type": "markdown",
   "metadata": {},
   "source": [
    "    O expansion on vectors with the oppsite direction are different by:\n",
    "    if l is odd, flip the sign of real part\n",
    "    if l is even, flip the sign of image part"
   ]
  },
  {
   "cell_type": "code",
   "execution_count": 6,
   "metadata": {
    "collapsed": true
   },
   "outputs": [],
   "source": [
    "y2 = np.array([0.25, 0.25, 0.25])\n",
    "r_y2 = op.cartesian_to_spherical(x-y2)\n",
    "Mlm_y2 = op.M_expansion(p, r_y2)"
   ]
  },
  {
   "cell_type": "code",
   "execution_count": 7,
   "metadata": {},
   "outputs": [],
   "source": [
    "y2 = np.array([0.25, 0.25, 0.25])\n",
    "r_y2 = op.cartesian_to_spherical(x-y2)\n",
    "Mlm_y2 = op.M_expansion(p, r_y2)\n",
    "y21 = y1 - y2\n",
    "y12 = y2 - y1\n",
    "Mlm_y1_t = op.M2M(Mlm_y2, y12)"
   ]
  },
  {
   "cell_type": "code",
   "execution_count": 8,
   "metadata": {},
   "outputs": [
    {
     "data": {
      "text/plain": [
       "array([[ 0.    +0.    j,  1.    +0.    j,  0.    +0.    j],\n",
       "       [ 0.0025-0.0025j, -0.01  +0.    j,  0.0025+0.0025j]])"
      ]
     },
     "execution_count": 8,
     "metadata": {},
     "output_type": "execute_result"
    }
   ],
   "source": [
    "Mlm_y1_t.V_matrix"
   ]
  },
  {
   "cell_type": "code",
   "execution_count": 9,
   "metadata": {},
   "outputs": [
    {
     "data": {
      "text/plain": [
       "array([[ 0.    +0.    j,  1.    +0.    j,  0.    +0.    j],\n",
       "       [ 0.0025-0.0025j, -0.01  +0.    j,  0.0025+0.0025j]])"
      ]
     },
     "execution_count": 9,
     "metadata": {},
     "output_type": "execute_result"
    }
   ],
   "source": [
    "Mlm_y1.V_matrix"
   ]
  },
  {
   "cell_type": "code",
   "execution_count": 10,
   "metadata": {},
   "outputs": [],
   "source": [
    "y3 = np.array([0.75, 0.75, 0.75])\n",
    "r_y3 = op.cartesian_to_spherical(x-y3)\n",
    "Llm_y3 = op.L_expansion(p, r_y3)"
   ]
  },
  {
   "cell_type": "code",
   "execution_count": 11,
   "metadata": {},
   "outputs": [],
   "source": [
    "Y31 = y1 - y3\n",
    "Llm_y3_t = op.M2L(Mlm_y1, Y31)"
   ]
  },
  {
   "cell_type": "code",
   "execution_count": 12,
   "metadata": {},
   "outputs": [
    {
     "data": {
      "text/plain": [
       "array([[ 0.        +0.       j,  0.91883371+0.       j,\n",
       "         0.        +0.       j],\n",
       "       [ 0.48873085-0.4808481j, -0.49267223+0.       j,\n",
       "         0.48873085+0.4808481j]])"
      ]
     },
     "execution_count": 12,
     "metadata": {},
     "output_type": "execute_result"
    }
   ],
   "source": [
    "Llm_y3_t.V_matrix"
   ]
  },
  {
   "cell_type": "code",
   "execution_count": 13,
   "metadata": {},
   "outputs": [
    {
     "data": {
      "text/plain": [
       "array([[ 0.        +0.        j,  0.91881459+0.        j,\n",
       "         0.        +0.        j],\n",
       "       [ 0.48867959-0.48092277j, -0.492558  +0.        j,\n",
       "         0.48867959+0.48092277j]])"
      ]
     },
     "execution_count": 13,
     "metadata": {},
     "output_type": "execute_result"
    }
   ],
   "source": [
    "Llm_y3.V_matrix"
   ]
  },
  {
   "cell_type": "code",
   "execution_count": 14,
   "metadata": {
    "collapsed": true
   },
   "outputs": [],
   "source": [
    "y4 = np.array([0.875, 0.875, 0.875])\n",
    "r_y4 = op.cartesian_to_spherical(x-y4)\n",
    "Llm_y4 = op.L_expansion(p, r_y4)"
   ]
  },
  {
   "cell_type": "code",
   "execution_count": 15,
   "metadata": {},
   "outputs": [
    {
     "ename": "NameError",
     "evalue": "name 'Tlm_X12' is not defined",
     "output_type": "error",
     "traceback": [
      "\u001b[0;31m---------------------------------------------------------------------------\u001b[0m",
      "\u001b[0;31mNameError\u001b[0m                                 Traceback (most recent call last)",
      "\u001b[0;32m<ipython-input-15-1fb4ce7f3dc3>\u001b[0m in \u001b[0;36m<module>\u001b[0;34m()\u001b[0m\n\u001b[1;32m      1\u001b[0m \u001b[0mY43\u001b[0m \u001b[0;34m=\u001b[0m \u001b[0my3\u001b[0m \u001b[0;34m-\u001b[0m \u001b[0my4\u001b[0m\u001b[0;34m\u001b[0m\u001b[0m\n\u001b[0;32m----> 2\u001b[0;31m \u001b[0mLlm_y4_t\u001b[0m \u001b[0;34m=\u001b[0m \u001b[0mop\u001b[0m\u001b[0;34m.\u001b[0m\u001b[0mL2L\u001b[0m\u001b[0;34m(\u001b[0m\u001b[0mLlm_y3\u001b[0m\u001b[0;34m,\u001b[0m \u001b[0mY43\u001b[0m\u001b[0;34m)\u001b[0m\u001b[0;34m\u001b[0m\u001b[0m\n\u001b[0m",
      "\u001b[0;32m/Users/hang/Desktop/FMM/CFMM_for_DFT_Calculations/fast_multipole_method.py\u001b[0m in \u001b[0;36mL2L\u001b[0;34m(Llm_x1, X21)\u001b[0m\n\u001b[1;32m    324\u001b[0m                 \u001b[0ml_power\u001b[0m \u001b[0;34m=\u001b[0m \u001b[0mLlm_l_power\u001b[0m\u001b[0;34m.\u001b[0m\u001b[0mV_matrix\u001b[0m \u001b[0;34m+\u001b[0m \u001b[0mj\u001b[0m\u001b[0;34m\u001b[0m\u001b[0m\n\u001b[1;32m    325\u001b[0m \u001b[0;34m\u001b[0m\u001b[0m\n\u001b[0;32m--> 326\u001b[0;31m                 \u001b[0mTlm_X12_subm\u001b[0m \u001b[0;34m=\u001b[0m \u001b[0mTlm_X12\u001b[0m\u001b[0;34m.\u001b[0m\u001b[0mget_sub_matrix\u001b[0m\u001b[0;34m(\u001b[0m\u001b[0mTlm_lr\u001b[0m\u001b[0;34m,\u001b[0m \u001b[0mTlm_mr\u001b[0m\u001b[0;34m)\u001b[0m\u001b[0;34m\u001b[0m\u001b[0m\n\u001b[0m\u001b[1;32m    327\u001b[0m                 \u001b[0mproducts\u001b[0m \u001b[0;34m=\u001b[0m \u001b[0mTlm_X12_subm\u001b[0m \u001b[0;34m*\u001b[0m \u001b[0mLlm_x1\u001b[0m\u001b[0;34m.\u001b[0m\u001b[0mV_matrix\u001b[0m \u001b[0;34m*\u001b[0m \u001b[0mnp\u001b[0m\u001b[0;34m.\u001b[0m\u001b[0mpower\u001b[0m\u001b[0;34m(\u001b[0m\u001b[0;36m1j\u001b[0m\u001b[0;34m,\u001b[0m \u001b[0mm_power\u001b[0m\u001b[0;34m)\u001b[0m\u001b[0;31m \u001b[0m\u001b[0;31m\\\u001b[0m\u001b[0;34m\u001b[0m\u001b[0m\n\u001b[1;32m    328\u001b[0m                     \u001b[0;34m*\u001b[0m \u001b[0mnp\u001b[0m\u001b[0;34m.\u001b[0m\u001b[0mpower\u001b[0m\u001b[0;34m(\u001b[0m\u001b[0;34m-\u001b[0m\u001b[0;36m1\u001b[0m\u001b[0;34m,\u001b[0m \u001b[0ml_power\u001b[0m\u001b[0;34m)\u001b[0m\u001b[0;34m\u001b[0m\u001b[0m\n",
      "\u001b[0;31mNameError\u001b[0m: name 'Tlm_X12' is not defined"
     ]
    }
   ],
   "source": [
    "Y43 = y3 - y4\n",
    "Llm_y4_t = op.L2L(Llm_y3, Y43)"
   ]
  },
  {
   "cell_type": "code",
   "execution_count": null,
   "metadata": {},
   "outputs": [],
   "source": [
    "Llm_y4_t.V_matrix"
   ]
  },
  {
   "cell_type": "code",
   "execution_count": null,
   "metadata": {},
   "outputs": [],
   "source": [
    "Llm_y4.V_matrix"
   ]
  },
  {
   "cell_type": "code",
   "execution_count": null,
   "metadata": {
    "collapsed": true
   },
   "outputs": [],
   "source": []
  },
  {
   "cell_type": "code",
   "execution_count": null,
   "metadata": {
    "collapsed": true
   },
   "outputs": [],
   "source": [
    "x = np.array([0.1, 0.1, 0.1])\n",
    "op.cartesian_to_spherical(x)"
   ]
  },
  {
   "cell_type": "code",
   "execution_count": null,
   "metadata": {
    "collapsed": true
   },
   "outputs": [],
   "source": [
    "x = [0.1, 0.1, 0.1]\n",
    "op.cartesian_to_spherical(x)"
   ]
  },
  {
   "cell_type": "code",
   "execution_count": null,
   "metadata": {
    "collapsed": true
   },
   "outputs": [],
   "source": [
    "r_power = np.power(r[])"
   ]
  },
  {
   "cell_type": "code",
   "execution_count": null,
   "metadata": {
    "collapsed": true
   },
   "outputs": [],
   "source": [
    "from scipy.special import lpmn, factorial, sph_harm"
   ]
  },
  {
   "cell_type": "code",
   "execution_count": null,
   "metadata": {
    "collapsed": true
   },
   "outputs": [],
   "source": [
    "sph_harm(                 )"
   ]
  }
 ],
 "metadata": {
  "anaconda-cloud": {},
  "kernelspec": {
   "display_name": "Python 3",
   "language": "python",
   "name": "python3"
  },
  "language_info": {
   "codemirror_mode": {
    "name": "ipython",
    "version": 3
   },
   "file_extension": ".py",
   "mimetype": "text/x-python",
   "name": "python",
   "nbconvert_exporter": "python",
   "pygments_lexer": "ipython3",
   "version": "3.5.4"
  }
 },
 "nbformat": 4,
 "nbformat_minor": 2
}
