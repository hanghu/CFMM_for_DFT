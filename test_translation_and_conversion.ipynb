{
 "cells": [
  {
   "cell_type": "code",
   "execution_count": 1,
   "metadata": {},
   "outputs": [],
   "source": [
    "from multipole_test import operation as op\n",
    "import numpy as np"
   ]
  },
  {
   "cell_type": "code",
   "execution_count": 33,
   "metadata": {},
   "outputs": [],
   "source": [
    "x = np.array([0.12, 0.13, 0.115])\n",
    "p = 4"
   ]
  },
  {
   "cell_type": "code",
   "execution_count": 3,
   "metadata": {
    "collapsed": true
   },
   "outputs": [],
   "source": [
    "y1 = np.array([0.125, 0.125, 0.125])\n",
    "r_y1_op = op.cartesian_to_spherical(y1-x)\n",
    "Olm_y1_op = op.O_expansion(p, r_y1_op)\n"
   ]
  },
  {
   "cell_type": "code",
   "execution_count": 4,
   "metadata": {},
   "outputs": [
    {
     "data": {
      "text/plain": [
       "array([[1.00000000e+00+0.00000000e+00j, 0.00000000e+00+0.00000000e+00j,\n",
       "        0.00000000e+00+0.00000000e+00j],\n",
       "       [8.66025404e-03+0.00000000e+00j, 3.53553391e-03-2.50000000e-03j,\n",
       "        0.00000000e+00+0.00000000e+00j],\n",
       "       [1.87500000e-05+0.00000000e+00j, 3.06186218e-05-2.16506351e-05j,\n",
       "        3.12500000e-06-8.83883476e-06j]])"
      ]
     },
     "execution_count": 4,
     "metadata": {},
     "output_type": "execute_result"
    }
   ],
   "source": [
    "Olm_y1_op.Vp"
   ]
  },
  {
   "cell_type": "code",
   "execution_count": null,
   "metadata": {},
   "outputs": [],
   "source": [
    "Olm_y1_op.Vn"
   ]
  },
  {
   "cell_type": "markdown",
   "metadata": {},
   "source": [
    "    O expansion on vectors with the oppsite direction are different by:\n",
    "    if l is odd, flip the sign of real part\n",
    "    if l is even, flip the sign of image part"
   ]
  },
  {
   "cell_type": "code",
   "execution_count": 34,
   "metadata": {},
   "outputs": [],
   "source": [
    "y1 = np.array([0.125, 0.125, 0.125])\n",
    "r_y1 = op.cartesian_to_spherical(x - y1)\n",
    "Olm_y1 = op.O_expansion(p, r_y1)"
   ]
  },
  {
   "cell_type": "code",
   "execution_count": 35,
   "metadata": {},
   "outputs": [
    {
     "data": {
      "text/plain": [
       "array([[ 1.00000000e+00+0.00000000e+00j,  0.00000000e+00+0.00000000e+00j,\n",
       "         0.00000000e+00+0.00000000e+00j,  0.00000000e+00+0.00000000e+00j,\n",
       "         0.00000000e+00+0.00000000e+00j],\n",
       "       [-8.66025404e-03+0.00000000e+00j, -3.53553391e-03-2.50000000e-03j,\n",
       "         0.00000000e+00+0.00000000e+00j,  0.00000000e+00+0.00000000e+00j,\n",
       "         0.00000000e+00+0.00000000e+00j],\n",
       "       [ 1.87500000e-05+0.00000000e+00j,  3.06186218e-05+2.16506351e-05j,\n",
       "         3.12500000e-06+8.83883476e-06j,  0.00000000e+00+0.00000000e+00j,\n",
       "         0.00000000e+00+0.00000000e+00j],\n",
       "       [ 5.41265877e-08+0.00000000e+00j, -9.94368911e-08-7.03125000e-08j,\n",
       "        -2.70632939e-08-7.65465545e-08j,  3.68284782e-09-1.30208333e-08j,\n",
       "         0.00000000e+00+0.00000000e+00j],\n",
       "       [-3.80859375e-10+0.00000000e+00j,  9.56831931e-11+6.76582347e-11j,\n",
       "         9.76562500e-11+2.76213586e-10j, -3.18943977e-11+1.12763724e-10j,\n",
       "        -1.13932292e-11+9.20711955e-12j]])"
      ]
     },
     "execution_count": 35,
     "metadata": {},
     "output_type": "execute_result"
    }
   ],
   "source": [
    "Olm_y1.Vp"
   ]
  },
  {
   "cell_type": "code",
   "execution_count": 36,
   "metadata": {},
   "outputs": [
    {
     "data": {
      "text/plain": [
       "array([[-3.53553391e-03+2.50000000e-03j,  0.00000000e+00+0.00000000e+00j,\n",
       "         0.00000000e+00+0.00000000e+00j,  0.00000000e+00+0.00000000e+00j],\n",
       "       [ 3.06186218e-05-2.16506351e-05j,  3.12500000e-06-8.83883476e-06j,\n",
       "         0.00000000e+00+0.00000000e+00j,  0.00000000e+00+0.00000000e+00j],\n",
       "       [-9.94368911e-08+7.03125000e-08j, -2.70632939e-08+7.65465545e-08j,\n",
       "         3.68284782e-09+1.30208333e-08j,  0.00000000e+00+0.00000000e+00j],\n",
       "       [ 9.56831931e-11-6.76582347e-11j,  9.76562500e-11-2.76213586e-10j,\n",
       "        -3.18943977e-11-1.12763724e-10j, -1.13932292e-11-9.20711955e-12j]])"
      ]
     },
     "execution_count": 36,
     "metadata": {},
     "output_type": "execute_result"
    }
   ],
   "source": [
    "Olm_y1.Vn"
   ]
  },
  {
   "cell_type": "code",
   "execution_count": 38,
   "metadata": {},
   "outputs": [],
   "source": [
    "y2 = np.array([0.25, 0.25, 0.25])\n",
    "r_y2 = op.cartesian_to_spherical(x-y2)\n",
    "Olm_y2 = op.O_expansion(p, r_y2)\n",
    "y21 = y1 - y2\n",
    "y12 = y2 - y1\n",
    "Olm_y1_t = op.O_to_O(Olm_y2, y12)"
   ]
  },
  {
   "cell_type": "code",
   "execution_count": 39,
   "metadata": {},
   "outputs": [
    {
     "data": {
      "text/plain": [
       "array([[ 1.00000000e+00+0.00000000e+00j,  0.00000000e+00+0.00000000e+00j,\n",
       "         0.00000000e+00+0.00000000e+00j,  0.00000000e+00+0.00000000e+00j,\n",
       "         0.00000000e+00+0.00000000e+00j],\n",
       "       [-1.04316154e-02+0.00000000e+00j, -1.58973311e-03-1.22500000e-01j,\n",
       "         0.00000000e+00+0.00000000e+00j,  0.00000000e+00+0.00000000e+00j,\n",
       "         0.00000000e+00+0.00000000e+00j],\n",
       "       [-1.49543680e-02+0.00000000e+00j,  1.65834844e-05+1.27787289e-03j,\n",
       "        -7.50186137e-03+1.94742306e-04j,  0.00000000e+00+0.00000000e+00j,\n",
       "         0.00000000e+00+0.00000000e+00j],\n",
       "       [ 1.56376600e-04+0.00000000e+00j,  1.18434788e-05+9.12622467e-04j,\n",
       "         7.82565326e-05-2.03147684e-06j,  1.19272966e-05+3.06222810e-04j,\n",
       "         0.00000000e+00+0.00000000e+00j],\n",
       "       [ 5.54997250e-05+0.00000000e+00j, -1.24148146e-07-9.56647869e-06j,\n",
       "         3.71230844e-05-9.63685505e-07j, -1.24420971e-07-3.19439858e-06j,\n",
       "         9.37333325e-06-4.86976594e-07j]])"
      ]
     },
     "execution_count": 39,
     "metadata": {},
     "output_type": "execute_result"
    }
   ],
   "source": [
    "Olm_y1_t.Vp"
   ]
  },
  {
   "cell_type": "code",
   "execution_count": 40,
   "metadata": {},
   "outputs": [
    {
     "data": {
      "text/plain": [
       "array([[-1.58973311e-03+1.22500000e-01j,  0.00000000e+00+0.00000000e+00j,\n",
       "         0.00000000e+00+0.00000000e+00j,  0.00000000e+00+0.00000000e+00j],\n",
       "       [ 1.65834844e-05-1.27787289e-03j, -7.50186137e-03-1.94742306e-04j,\n",
       "         0.00000000e+00+0.00000000e+00j,  0.00000000e+00+0.00000000e+00j],\n",
       "       [ 1.18434788e-05-9.12622467e-04j,  7.82565326e-05+2.03147684e-06j,\n",
       "         1.19272966e-05-3.06222810e-04j,  0.00000000e+00+0.00000000e+00j],\n",
       "       [-1.24148146e-07+9.56647869e-06j,  3.71230844e-05+9.63685505e-07j,\n",
       "        -1.24420971e-07+3.19439858e-06j,  9.37333325e-06+4.86976594e-07j]])"
      ]
     },
     "execution_count": 40,
     "metadata": {},
     "output_type": "execute_result"
    }
   ],
   "source": [
    "Olm_y1_t.Vn"
   ]
  },
  {
   "cell_type": "code",
   "execution_count": null,
   "metadata": {},
   "outputs": [],
   "source": [
    "op.Olm_X12_to_X21(Olm_y1)"
   ]
  },
  {
   "cell_type": "code",
   "execution_count": null,
   "metadata": {},
   "outputs": [],
   "source": [
    "Olm_y1.Vn"
   ]
  },
  {
   "cell_type": "code",
   "execution_count": null,
   "metadata": {},
   "outputs": [],
   "source": [
    "Olm_t = op.O_expansion(p, op.cartesian_to_spherical(Y12))\n",
    "Olm_t.Vp"
   ]
  },
  {
   "cell_type": "code",
   "execution_count": null,
   "metadata": {},
   "outputs": [],
   "source": [
    "Olm_t.Vn"
   ]
  },
  {
   "cell_type": "code",
   "execution_count": 37,
   "metadata": {
    "collapsed": true
   },
   "outputs": [],
   "source": [
    "y2 = np.array([0.25, 0.25, 0.25])\n",
    "r_y2 = op.cartesian_to_spherical(x-y2)\n",
    "Olm_y2 = op.O_expansion(p, r_y2)"
   ]
  },
  {
   "cell_type": "code",
   "execution_count": null,
   "metadata": {},
   "outputs": [],
   "source": [
    "Olm_y2.Vp"
   ]
  },
  {
   "cell_type": "code",
   "execution_count": null,
   "metadata": {},
   "outputs": [],
   "source": [
    "Olm_y2.Vn"
   ]
  },
  {
   "cell_type": "code",
   "execution_count": 41,
   "metadata": {},
   "outputs": [],
   "source": [
    "y3 = np.array([0.75, 0.75, 0.75])\n",
    "r_y3 = op.cartesian_to_spherical(x-y3)\n",
    "Mlm_y3 = op.M_expansion(p, r_y3)"
   ]
  },
  {
   "cell_type": "code",
   "execution_count": 42,
   "metadata": {},
   "outputs": [
    {
     "data": {
      "text/plain": [
       "array([[  0.91881459 +0.        j,   0.         +0.        j,\n",
       "          0.         +0.        j,   0.         +0.        j,\n",
       "          0.         +0.        j],\n",
       "       [ -0.60171025 +0.        j,   0.34549372 -0.48092277j,\n",
       "          0.         +0.        j,   0.         +0.        j,\n",
       "          0.         +0.        j],\n",
       "       [  0.40645612 +0.        j,  -0.67876733 +0.94483532j,\n",
       "         -0.36543    -1.0850228 j,   0.         +0.        j,\n",
       "          0.         +0.        j],\n",
       "       [  0.70101075 +0.        j,   1.34752608 -1.87573881j,\n",
       "          1.1965579  +3.55278062j,  -3.52664154 -1.08359704j,\n",
       "          0.         +0.        j],\n",
       "       [ -6.30177553 +0.        j,  -1.59301072 +2.21745025j,\n",
       "         -3.94266798-11.70644094j,  16.16660697 +4.967357  j,\n",
       "        -13.25285107+10.06913023j]])"
      ]
     },
     "execution_count": 42,
     "metadata": {},
     "output_type": "execute_result"
    }
   ],
   "source": [
    "Mlm_y3.Vp"
   ]
  },
  {
   "cell_type": "code",
   "execution_count": 48,
   "metadata": {},
   "outputs": [
    {
     "data": {
      "text/plain": [
       "array([[  0.34549372 +0.48092277j,   0.         +0.        j,\n",
       "          0.         +0.        j,   0.         +0.        j],\n",
       "       [ -0.67876733 -0.94483532j,  -0.36543    +1.0850228 j,\n",
       "          0.         +0.        j,   0.         +0.        j],\n",
       "       [  1.34752608 +1.87573881j,   1.1965579  -3.55278062j,\n",
       "         -3.52664154 +1.08359704j,   0.         +0.        j],\n",
       "       [ -1.59301072 -2.21745025j,  -3.94266798+11.70644094j,\n",
       "         16.16660697 -4.967357  j, -13.25285107-10.06913023j]])"
      ]
     },
     "execution_count": 48,
     "metadata": {},
     "output_type": "execute_result"
    }
   ],
   "source": [
    "Mlm_y3.Vn"
   ]
  },
  {
   "cell_type": "code",
   "execution_count": 44,
   "metadata": {},
   "outputs": [],
   "source": [
    "Y31 = y1 - y3\n",
    "Mlm_y3_t = op.O_to_M(Olm_y1, Y31)"
   ]
  },
  {
   "cell_type": "code",
   "execution_count": 45,
   "metadata": {},
   "outputs": [
    {
     "data": {
      "text/plain": [
       "array([[  0.92376043+0.00000000e+00j,   0.        +0.00000000e+00j,\n",
       "          0.        +0.00000000e+00j,   0.        +0.00000000e+00j,\n",
       "          0.        +0.00000000e+00j],\n",
       "       [ -0.59998445+0.00000000e+00j,   0.33967283-4.86281994e-01j,\n",
       "          0.        +0.00000000e+00j,   0.        +0.00000000e+00j,\n",
       "          0.        +0.00000000e+00j],\n",
       "       [  0.40046707+0.00000000e+00j,  -0.65520249+9.60106782e-01j,\n",
       "         -0.38880513-1.08134344e+00j,   0.        +0.00000000e+00j,\n",
       "          0.        +0.00000000e+00j],\n",
       "       [  0.71672492+3.98105485e-20j,   1.25875786-1.91987108e+00j,\n",
       "          1.30928914+3.51722704e+00j,  -3.57479522-9.91036319e-01j,\n",
       "          0.        +0.00000000e+00j],\n",
       "       [ -6.31754926+2.79534107e-19j,  -1.30914388+2.31522454e+00j,\n",
       "         -4.47547301-1.14725969e+01j,  16.39489642+4.34822122e+00j,\n",
       "        -12.98462803+1.06025306e+01j]])"
      ]
     },
     "execution_count": 45,
     "metadata": {},
     "output_type": "execute_result"
    }
   ],
   "source": [
    "Mlm_y3_t.Vp"
   ]
  },
  {
   "cell_type": "code",
   "execution_count": 46,
   "metadata": {
    "collapsed": true
   },
   "outputs": [],
   "source": [
    "y4 = np.array([0.875, 0.875, 0.875])\n",
    "r_y4 = op.cartesian_to_spherical(x-y4)\n",
    "Mlm_y4 = op.M_expansion(p, r_y4)"
   ]
  },
  {
   "cell_type": "code",
   "execution_count": 47,
   "metadata": {},
   "outputs": [
    {
     "data": {
      "text/plain": [
       "array([[ 0.76636791+0.        j,  0.        +0.        j,\n",
       "         0.        +0.        j,  0.        +0.        j,\n",
       "         0.        +0.        j],\n",
       "       [-0.41805715+0.        j,  0.24026797-0.33532675j,\n",
       "         0.        +0.        j,  0.        +0.        j,\n",
       "         0.        +0.        j],\n",
       "       [ 0.23405317+0.        j, -0.39320179+0.54876677j,\n",
       "        -0.21418694-0.63078015j,  0.        +0.        j,\n",
       "         0.        +0.        j],\n",
       "       [ 0.34374761+0.        j,  0.64912436-0.90594165j,\n",
       "         0.5841997 +1.7204671 j, -1.71575373-0.52020483j,\n",
       "         0.        +0.        j],\n",
       "       [-2.54978759+0.        j, -0.63122043+0.88095428j,\n",
       "        -1.60180392-4.71730972j,  6.55165982+1.98641858j,\n",
       "        -5.35872496+4.11349028j]])"
      ]
     },
     "execution_count": 47,
     "metadata": {},
     "output_type": "execute_result"
    }
   ],
   "source": [
    "Mlm_y4.Vp"
   ]
  },
  {
   "cell_type": "code",
   "execution_count": 49,
   "metadata": {},
   "outputs": [],
   "source": [
    "Y34 = y4 - y3\n",
    "Mlm_y4_t = op.M_to_M(Mlm_y3, Y34)"
   ]
  },
  {
   "cell_type": "code",
   "execution_count": 50,
   "metadata": {},
   "outputs": [
    {
     "data": {
      "text/plain": [
       "array([[  0.80438799-1.08420217e-19j,   0.        +0.00000000e+00j,\n",
       "          0.        +0.00000000e+00j,   0.        +0.00000000e+00j,\n",
       "          0.        +0.00000000e+00j],\n",
       "       [ -0.48540169+1.19262239e-18j,   0.18642536-3.89343414e-01j,\n",
       "          0.        +0.00000000e+00j,   0.        +0.00000000e+00j,\n",
       "          0.        +0.00000000e+00j],\n",
       "       [  0.32539927-3.46944695e-18j,  -0.34365276+6.80627396e-01j,\n",
       "         -0.36990151-5.49978990e-01j,   0.        +0.00000000e+00j,\n",
       "          0.        +0.00000000e+00j],\n",
       "       [ -0.12736996+0.00000000e+00j,   0.47625336-1.41334123e+00j,\n",
       "          1.82688469+9.71285269e-01j,  -1.56543319+1.71394440e+00j,\n",
       "          0.        +0.00000000e+00j],\n",
       "       [ -6.30177553+0.00000000e+00j,  -1.59301072+2.21745025e+00j,\n",
       "         -3.94266798-1.17064409e+01j,  16.16660697+4.96735700e+00j,\n",
       "        -13.25285107+1.00691302e+01j]])"
      ]
     },
     "execution_count": 50,
     "metadata": {},
     "output_type": "execute_result"
    }
   ],
   "source": [
    "Mlm_y4_t.Vp"
   ]
  },
  {
   "cell_type": "code",
   "execution_count": 51,
   "metadata": {},
   "outputs": [
    {
     "data": {
      "text/plain": [
       "array([[ 0.76636791+0.        j,  0.        +0.        j,\n",
       "         0.        +0.        j,  0.        +0.        j,\n",
       "         0.        +0.        j],\n",
       "       [-0.41805715+0.        j,  0.24026797-0.33532675j,\n",
       "         0.        +0.        j,  0.        +0.        j,\n",
       "         0.        +0.        j],\n",
       "       [ 0.23405317+0.        j, -0.39320179+0.54876677j,\n",
       "        -0.21418694-0.63078015j,  0.        +0.        j,\n",
       "         0.        +0.        j],\n",
       "       [ 0.34374761+0.        j,  0.64912436-0.90594165j,\n",
       "         0.5841997 +1.7204671 j, -1.71575373-0.52020483j,\n",
       "         0.        +0.        j],\n",
       "       [-2.54978759+0.        j, -0.63122043+0.88095428j,\n",
       "        -1.60180392-4.71730972j,  6.55165982+1.98641858j,\n",
       "        -5.35872496+4.11349028j]])"
      ]
     },
     "execution_count": 51,
     "metadata": {},
     "output_type": "execute_result"
    }
   ],
   "source": [
    "Mlm_y4.Vp"
   ]
  },
  {
   "cell_type": "code",
   "execution_count": null,
   "metadata": {
    "collapsed": true
   },
   "outputs": [],
   "source": [
    "x = np.array([0.1, 0.1, 0.1])\n",
    "op.cartesian_to_spherical(x)"
   ]
  },
  {
   "cell_type": "code",
   "execution_count": null,
   "metadata": {
    "collapsed": true
   },
   "outputs": [],
   "source": [
    "x = [0.1, 0.1, 0.1]\n",
    "op.cartesian_to_spherical(x)"
   ]
  },
  {
   "cell_type": "code",
   "execution_count": null,
   "metadata": {
    "collapsed": true
   },
   "outputs": [],
   "source": [
    "r_power = np.power(r[])"
   ]
  },
  {
   "cell_type": "code",
   "execution_count": 21,
   "metadata": {
    "collapsed": true
   },
   "outputs": [],
   "source": [
    "from scipy.special import lpmn, factorial, sph_harm"
   ]
  },
  {
   "cell_type": "code",
   "execution_count": null,
   "metadata": {
    "collapsed": true
   },
   "outputs": [],
   "source": [
    "sph_harm(                 )"
   ]
  }
 ],
 "metadata": {
  "anaconda-cloud": {},
  "kernelspec": {
   "display_name": "Python 3",
   "language": "python",
   "name": "python3"
  },
  "language_info": {
   "codemirror_mode": {
    "name": "ipython",
    "version": 3
   },
   "file_extension": ".py",
   "mimetype": "text/x-python",
   "name": "python",
   "nbconvert_exporter": "python",
   "pygments_lexer": "ipython3",
   "version": "3.5.4"
  }
 },
 "nbformat": 4,
 "nbformat_minor": 2
}
