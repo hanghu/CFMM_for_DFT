{
 "cells": [
  {
   "cell_type": "code",
   "execution_count": 1,
   "metadata": {
    "collapsed": true
   },
   "outputs": [],
   "source": [
    "from fast_multipole_method import operation as op\n",
    "import numpy as np"
   ]
  },
  {
   "cell_type": "code",
   "execution_count": 41,
   "metadata": {
    "collapsed": true
   },
   "outputs": [],
   "source": [
    "x = np.array([0.12, 0.13, 0.115])\n",
    "p = 2"
   ]
  },
  {
   "cell_type": "code",
   "execution_count": 42,
   "metadata": {
    "collapsed": true
   },
   "outputs": [],
   "source": [
    "y1 = np.array([0.125, 0.125, 0.125])\n",
    "r_y1_op = op.cartesian_to_spherical(y1-x)\n",
    "Mlm_y1_op = op.M_expansion(p, r_y1_op)\n",
    "\n",
    "r_y1 = op.cartesian_to_spherical(x - y1)\n",
    "Mlm_y1 = op.M_expansion(p, r_y1)"
   ]
  },
  {
   "cell_type": "code",
   "execution_count": 43,
   "metadata": {
    "collapsed": false
   },
   "outputs": [
    {
     "data": {
      "text/plain": [
       "array([[  0.00000000e+00 +0.00000000e+00j,\n",
       "          0.00000000e+00 +0.00000000e+00j,\n",
       "          1.00000000e+00 +0.00000000e+00j,\n",
       "          0.00000000e+00 +0.00000000e+00j,\n",
       "          0.00000000e+00 +0.00000000e+00j],\n",
       "       [  0.00000000e+00 +0.00000000e+00j,\n",
       "         -2.50000000e-03 +2.50000000e-03j,\n",
       "          1.00000000e-02 +0.00000000e+00j,\n",
       "         -2.50000000e-03 -2.50000000e-03j,\n",
       "          0.00000000e+00 +0.00000000e+00j],\n",
       "       [  3.82702125e-22 -6.25000000e-06j,\n",
       "         -2.50000000e-05 +2.50000000e-05j,\n",
       "          3.75000000e-05 +0.00000000e+00j,\n",
       "         -2.50000000e-05 -2.50000000e-05j,\n",
       "          3.82702125e-22 +6.25000000e-06j]])"
      ]
     },
     "execution_count": 43,
     "metadata": {},
     "output_type": "execute_result"
    }
   ],
   "source": [
    "Mlm_y1_op.V_matrix"
   ]
  },
  {
   "cell_type": "code",
   "execution_count": 44,
   "metadata": {
    "collapsed": false
   },
   "outputs": [
    {
     "data": {
      "text/plain": [
       "array([[  0.00000000e+00 +0.00000000e+00j,\n",
       "          0.00000000e+00 +0.00000000e+00j,\n",
       "          1.00000000e+00 +0.00000000e+00j,\n",
       "          0.00000000e+00 +0.00000000e+00j,\n",
       "          0.00000000e+00 +0.00000000e+00j],\n",
       "       [  0.00000000e+00 +0.00000000e+00j,\n",
       "          2.50000000e-03 -2.50000000e-03j,\n",
       "         -1.00000000e-02 +0.00000000e+00j,\n",
       "          2.50000000e-03 +2.50000000e-03j,\n",
       "          0.00000000e+00 +0.00000000e+00j],\n",
       "       [ -1.14810637e-21 -6.25000000e-06j,\n",
       "         -2.50000000e-05 +2.50000000e-05j,\n",
       "          3.75000000e-05 +0.00000000e+00j,\n",
       "         -2.50000000e-05 -2.50000000e-05j,\n",
       "         -1.14810637e-21 +6.25000000e-06j]])"
      ]
     },
     "execution_count": 44,
     "metadata": {},
     "output_type": "execute_result"
    }
   ],
   "source": [
    "Mlm_y1.V_matrix"
   ]
  },
  {
   "cell_type": "markdown",
   "metadata": {},
   "source": [
    "    O expansion on vectors with the oppsite direction are different by:\n",
    "    if l is odd, flip the sign of real part\n",
    "    if l is even, flip the sign of image part"
   ]
  },
  {
   "cell_type": "code",
   "execution_count": 45,
   "metadata": {
    "collapsed": true
   },
   "outputs": [],
   "source": [
    "y2 = np.array([0.25, 0.25, 0.25])\n",
    "r_y2 = op.cartesian_to_spherical(x-y2)\n",
    "Mlm_y2 = op.M_expansion(p, r_y2)"
   ]
  },
  {
   "cell_type": "code",
   "execution_count": 46,
   "metadata": {
    "collapsed": true
   },
   "outputs": [],
   "source": [
    "y2 = np.array([0.25, 0.25, 0.25])\n",
    "r_y2 = op.cartesian_to_spherical(x-y2)\n",
    "Mlm_y2 = op.M_expansion(p, r_y2)\n",
    "y21 = y1 - y2\n",
    "y12 = y2 - y1\n",
    "Mlm_y1_t = op.M2M(Mlm_y2, y12)"
   ]
  },
  {
   "cell_type": "code",
   "execution_count": 47,
   "metadata": {
    "collapsed": false
   },
   "outputs": [
    {
     "data": {
      "text/plain": [
       "array([[  0.00000000e+00 +0.00000000e+00j,\n",
       "          0.00000000e+00 +0.00000000e+00j,\n",
       "          1.00000000e+00 +0.00000000e+00j,\n",
       "          0.00000000e+00 +0.00000000e+00j,\n",
       "          0.00000000e+00 +0.00000000e+00j],\n",
       "       [  0.00000000e+00 +0.00000000e+00j,\n",
       "          2.50000000e-03 -2.50000000e-03j,\n",
       "         -1.00000000e-02 +0.00000000e+00j,\n",
       "          2.50000000e-03 +2.50000000e-03j,\n",
       "          0.00000000e+00 +0.00000000e+00j],\n",
       "       [ -1.08420217e-19 -6.25000000e-06j,\n",
       "         -2.50000000e-05 +2.50000000e-05j,\n",
       "          3.75000000e-05 +0.00000000e+00j,\n",
       "         -2.50000000e-05 -2.50000000e-05j,\n",
       "         -8.60718238e-20 +6.25000000e-06j]])"
      ]
     },
     "execution_count": 47,
     "metadata": {},
     "output_type": "execute_result"
    }
   ],
   "source": [
    "Mlm_y1_t.V_matrix"
   ]
  },
  {
   "cell_type": "code",
   "execution_count": 48,
   "metadata": {
    "collapsed": false
   },
   "outputs": [
    {
     "data": {
      "text/plain": [
       "array([[  0.00000000e+00 +0.00000000e+00j,\n",
       "          0.00000000e+00 +0.00000000e+00j,\n",
       "          1.00000000e+00 +0.00000000e+00j,\n",
       "          0.00000000e+00 +0.00000000e+00j,\n",
       "          0.00000000e+00 +0.00000000e+00j],\n",
       "       [  0.00000000e+00 +0.00000000e+00j,\n",
       "          2.50000000e-03 -2.50000000e-03j,\n",
       "         -1.00000000e-02 +0.00000000e+00j,\n",
       "          2.50000000e-03 +2.50000000e-03j,\n",
       "          0.00000000e+00 +0.00000000e+00j],\n",
       "       [ -1.14810637e-21 -6.25000000e-06j,\n",
       "         -2.50000000e-05 +2.50000000e-05j,\n",
       "          3.75000000e-05 +0.00000000e+00j,\n",
       "         -2.50000000e-05 -2.50000000e-05j,\n",
       "         -1.14810637e-21 +6.25000000e-06j]])"
      ]
     },
     "execution_count": 48,
     "metadata": {},
     "output_type": "execute_result"
    }
   ],
   "source": [
    "Mlm_y1.V_matrix"
   ]
  },
  {
   "cell_type": "code",
   "execution_count": 49,
   "metadata": {
    "collapsed": true
   },
   "outputs": [],
   "source": [
    "y3 = np.array([0.75, 0.75, 0.75])\n",
    "r_y3 = op.cartesian_to_spherical(x-y3)\n",
    "Llm_y3 = op.L_expansion(p, r_y3)"
   ]
  },
  {
   "cell_type": "code",
   "execution_count": 50,
   "metadata": {
    "collapsed": true
   },
   "outputs": [],
   "source": [
    "Y31 = y1 - y3\n",
    "Llm_y3_t = op.M2L(Mlm_y1, Y31)"
   ]
  },
  {
   "cell_type": "code",
   "execution_count": 51,
   "metadata": {
    "collapsed": false
   },
   "outputs": [
    {
     "data": {
      "text/plain": [
       "array([[ 0.00000000 +0.00000000e+00j,  0.00000000 +0.00000000e+00j,\n",
       "         0.91881400 -3.62009681e-21j,  0.00000000 +0.00000000e+00j,\n",
       "         0.00000000 +0.00000000e+00j],\n",
       "       [ 0.00000000 +0.00000000e+00j,  0.48867830 -4.80921669e-01j,\n",
       "        -0.49255662 +9.65359151e-21j,  0.48867830 +4.80921669e-01j,\n",
       "         0.00000000 +0.00000000e+00j],\n",
       "       [ 0.02455216 -1.53468915e+00j, -0.78591004 +7.73432163e-01j,\n",
       "         0.01646900 -2.05943285e-20j, -0.78591004 -7.73432163e-01j,\n",
       "         0.02455216 +1.53468915e+00j]])"
      ]
     },
     "execution_count": 51,
     "metadata": {},
     "output_type": "execute_result"
    }
   ],
   "source": [
    "Llm_y3_t.V_matrix"
   ]
  },
  {
   "cell_type": "code",
   "execution_count": 52,
   "metadata": {
    "collapsed": false
   },
   "outputs": [
    {
     "data": {
      "text/plain": [
       "array([[ 0.00000000+0.j        ,  0.00000000+0.j        ,\n",
       "         0.91881459+0.j        ,  0.00000000+0.j        ,  0.00000000+0.j        ],\n",
       "       [ 0.00000000+0.j        ,  0.48867959-0.48092277j,\n",
       "        -0.49255800+0.j        ,  0.48867959+0.48092277j,  0.00000000+0.j        ],\n",
       "       [ 0.02455674-1.53469794j, -0.78591387+0.77343904j,\n",
       "         0.01646939+0.j        , -0.78591387-0.77343904j,\n",
       "         0.02455674+1.53469794j]])"
      ]
     },
     "execution_count": 52,
     "metadata": {},
     "output_type": "execute_result"
    }
   ],
   "source": [
    "Llm_y3.V_matrix"
   ]
  },
  {
   "cell_type": "code",
   "execution_count": 33,
   "metadata": {
    "collapsed": true
   },
   "outputs": [],
   "source": [
    "y4 = np.array([0.875, 0.875, 0.875])\n",
    "r_y4 = op.cartesian_to_spherical(x-y4)\n",
    "Llm_y4 = op.L_expansion(p, r_y4)"
   ]
  },
  {
   "cell_type": "code",
   "execution_count": 34,
   "metadata": {
    "collapsed": false
   },
   "outputs": [],
   "source": [
    "Y43 = y3 - y4\n",
    "Llm_y4_t = op.L2L(Llm_y3, Y43)"
   ]
  },
  {
   "cell_type": "code",
   "execution_count": 35,
   "metadata": {
    "collapsed": false
   },
   "outputs": [
    {
     "data": {
      "text/plain": [
       "array([[  0.00000000e+00 +0.00000000e+00j,\n",
       "          0.00000000e+00 +0.00000000e+00j,\n",
       "          0.00000000e+00 +0.00000000e+00j,\n",
       "          0.00000000e+00 +0.00000000e+00j,\n",
       "          0.00000000e+00 +0.00000000e+00j,\n",
       "          7.66320459e-01 +1.99052743e-20j,\n",
       "          0.00000000e+00 +0.00000000e+00j,\n",
       "          0.00000000e+00 +0.00000000e+00j,\n",
       "          0.00000000e+00 +0.00000000e+00j,\n",
       "          0.00000000e+00 +0.00000000e+00j,\n",
       "          0.00000000e+00 +0.00000000e+00j],\n",
       "       [  0.00000000e+00 +0.00000000e+00j,\n",
       "          0.00000000e+00 +0.00000000e+00j,\n",
       "          0.00000000e+00 +0.00000000e+00j,\n",
       "          0.00000000e+00 +0.00000000e+00j,\n",
       "          3.40572600e-01 -3.36031548e-01j,\n",
       "         -3.42843126e-01 +4.23516474e-20j,\n",
       "          3.40572600e-01 +3.36031548e-01j,\n",
       "          0.00000000e+00 +0.00000000e+00j,\n",
       "          0.00000000e+00 +0.00000000e+00j,\n",
       "          0.00000000e+00 +0.00000000e+00j,\n",
       "          0.00000000e+00 +0.00000000e+00j],\n",
       "       [  0.00000000e+00 +0.00000000e+00j,\n",
       "          0.00000000e+00 +0.00000000e+00j,\n",
       "          0.00000000e+00 +0.00000000e+00j,\n",
       "          1.08845343e-02 -8.64429550e-01j,\n",
       "         -4.40425834e-01 +4.34920022e-01j,\n",
       "          7.28812820e-03 +0.00000000e+00j,\n",
       "         -4.40425834e-01 -4.34920022e-01j,\n",
       "          1.08845343e-02 +8.64429550e-01j,\n",
       "          0.00000000e+00 +0.00000000e+00j,\n",
       "          0.00000000e+00 +0.00000000e+00j,\n",
       "          0.00000000e+00 +0.00000000e+00j],\n",
       "       [  0.00000000e+00 +0.00000000e+00j,\n",
       "          0.00000000e+00 +0.00000000e+00j,\n",
       "         -2.37087060e+00 -2.48719085e+00j,\n",
       "         -3.94346899e-02 +2.46813230e+00j,\n",
       "          5.21299442e-01 -5.13012180e-01j,\n",
       "          9.71512653e-01 -1.35525272e-20j,\n",
       "          5.21299442e-01 +5.13012180e-01j,\n",
       "         -3.94346899e-02 -2.46813230e+00j,\n",
       "         -2.37087060e+00 +2.48719085e+00j,\n",
       "          0.00000000e+00 +0.00000000e+00j,\n",
       "          0.00000000e+00 +0.00000000e+00j],\n",
       "       [  0.00000000e+00 +0.00000000e+00j,\n",
       "         -2.95372269e-01 +1.82081089e-01j,\n",
       "          1.71593969e-01 +3.05327519e-02j,\n",
       "         -2.86065969e-02 -4.11624646e-03j,\n",
       "          3.84992087e-02 -4.43357799e-02j,\n",
       "         -1.64271952e-02 +0.00000000e+00j,\n",
       "          3.84992087e-02 +4.43357799e-02j,\n",
       "         -2.86065969e-02 +4.11624646e-03j,\n",
       "          1.71593969e-01 -3.05327519e-02j,\n",
       "         -2.95372269e-01 -1.82081089e-01j,\n",
       "          0.00000000e+00 +0.00000000e+00j],\n",
       "       [ -1.47625874e+02 +1.36264444e+02j,\n",
       "          1.44253223e+02 +4.61758082e+00j,\n",
       "         -4.81859826e+01 -5.05561995e+01j,\n",
       "         -2.47764460e-02 +1.54842877e+00j,\n",
       "         -2.08806608e+01 +2.05492217e+01j,\n",
       "          8.04787809e+00 +0.00000000e+00j,\n",
       "         -2.08806608e+01 -2.05492217e+01j,\n",
       "         -2.47764460e-02 -1.54842877e+00j,\n",
       "         -4.81859826e+01 +5.05561995e+01j,\n",
       "          1.44253223e+02 -4.61758082e+00j,\n",
       "         -1.47625874e+02 -1.36264444e+02j]])"
      ]
     },
     "execution_count": 35,
     "metadata": {},
     "output_type": "execute_result"
    }
   ],
   "source": [
    "Llm_y4_t.V_matrix"
   ]
  },
  {
   "cell_type": "code",
   "execution_count": 16,
   "metadata": {
    "collapsed": false
   },
   "outputs": [
    {
     "data": {
      "text/plain": [
       "array([[ 0.00000000+0.j       ,  0.73604455+0.j       ,  0.00000000+0.j       ],\n",
       "       [ 0.29401628-0.2908884j, -0.29558021+0.j       ,\n",
       "         0.29401628+0.2908884j]])"
      ]
     },
     "execution_count": 16,
     "metadata": {},
     "output_type": "execute_result"
    }
   ],
   "source": [
    "Llm_y4_t.V_matrix"
   ]
  },
  {
   "cell_type": "code",
   "execution_count": 36,
   "metadata": {
    "collapsed": false
   },
   "outputs": [
    {
     "data": {
      "text/plain": [
       "array([[  0.00000000e+00 +0.j        ,   0.00000000e+00 +0.j        ,\n",
       "          0.00000000e+00 +0.j        ,   0.00000000e+00 +0.j        ,\n",
       "          0.00000000e+00 +0.j        ,   7.66367905e-01 +0.j        ,\n",
       "          0.00000000e+00 +0.j        ,   0.00000000e+00 +0.j        ,\n",
       "          0.00000000e+00 +0.j        ,   0.00000000e+00 +0.j        ,\n",
       "          0.00000000e+00 +0.j        ],\n",
       "       [  0.00000000e+00 +0.j        ,   0.00000000e+00 +0.j        ,\n",
       "          0.00000000e+00 +0.j        ,   0.00000000e+00 +0.j        ,\n",
       "          3.39827779e-01 -0.33532675j,  -3.42078294e-01 +0.j        ,\n",
       "          3.39827779e-01 +0.33532675j,   0.00000000e+00 +0.j        ,\n",
       "          0.00000000e+00 +0.j        ,   0.00000000e+00 +0.j        ,\n",
       "          0.00000000e+00 +0.j        ],\n",
       "       [  0.00000000e+00 +0.j        ,   0.00000000e+00 +0.j        ,\n",
       "          0.00000000e+00 +0.j        ,   1.18959480e-02 -0.89215645j,\n",
       "         -4.55059664e-01 +0.44903238j,   7.97028516e-03 +0.j        ,\n",
       "         -4.55059664e-01 -0.44903238j,   1.18959480e-02 +0.89215645j,\n",
       "          0.00000000e+00 +0.j        ,   0.00000000e+00 +0.j        ,\n",
       "          0.00000000e+00 +0.j        ],\n",
       "       [  0.00000000e+00 +0.j        ,   0.00000000e+00 +0.j        ,\n",
       "         -1.92545477e+00 -2.00405426j,  -2.65495565e-02 +1.99112824j,\n",
       "          4.16846319e-01 -0.41132518j,   7.85849173e-01 +0.j        ,\n",
       "          4.16846319e-01 +0.41132518j,  -2.65495565e-02 -1.99112824j,\n",
       "         -1.92545477e+00 +2.00405426j,   0.00000000e+00 +0.j        ,\n",
       "          0.00000000e+00 +0.j        ],\n",
       "       [  0.00000000e+00 +0.j        ,  -1.21147455e+01 -0.32313169j,\n",
       "          6.01616267e+00 +6.26175003j,   4.80215550e-02 -3.60145655j,\n",
       "          8.35670804e-01 -0.82460232j,  -2.49754804e+00 +0.j        ,\n",
       "          8.35670804e-01 +0.82460232j,   4.80215550e-02 +3.60145655j,\n",
       "          6.01616267e+00 -6.26175003j,  -1.21147455e+01 +0.32313169j,\n",
       "          0.00000000e+00 +0.j        ],\n",
       "       [ -4.96204702e+01+46.41804761j,   4.86681698e+01 +1.29810634j,\n",
       "         -1.62525294e+01-16.91597823j,  -5.79846602e-03 +0.43486562j,\n",
       "         -7.02944415e+00 +6.93633893j,   2.64860177e+00 +0.j        ,\n",
       "         -7.02944415e+00 -6.93633893j,  -5.79846602e-03 -0.43486562j,\n",
       "         -1.62525294e+01+16.91597823j,   4.86681698e+01 -1.29810634j,\n",
       "         -4.96204702e+01-46.41804761j]])"
      ]
     },
     "execution_count": 36,
     "metadata": {},
     "output_type": "execute_result"
    }
   ],
   "source": [
    "Llm_y4.V_matrix"
   ]
  },
  {
   "cell_type": "code",
   "execution_count": null,
   "metadata": {
    "collapsed": true
   },
   "outputs": [],
   "source": []
  },
  {
   "cell_type": "code",
   "execution_count": 18,
   "metadata": {
    "collapsed": false
   },
   "outputs": [
    {
     "data": {
      "text/plain": [
       "array([ 0.17320508,  0.95531662,  0.78539816])"
      ]
     },
     "execution_count": 18,
     "metadata": {},
     "output_type": "execute_result"
    }
   ],
   "source": [
    "x = np.array([0.1, 0.1, 0.1])\n",
    "op.cartesian_to_spherical(x)"
   ]
  },
  {
   "cell_type": "code",
   "execution_count": 19,
   "metadata": {
    "collapsed": false
   },
   "outputs": [
    {
     "data": {
      "text/plain": [
       "array([ 0.17320508,  0.95531662,  0.78539816])"
      ]
     },
     "execution_count": 19,
     "metadata": {},
     "output_type": "execute_result"
    }
   ],
   "source": [
    "x = [0.1, 0.1, 0.1]\n",
    "op.cartesian_to_spherical(x)"
   ]
  },
  {
   "cell_type": "code",
   "execution_count": 20,
   "metadata": {
    "collapsed": false
   },
   "outputs": [
    {
     "ename": "SyntaxError",
     "evalue": "invalid syntax (<ipython-input-20-763464502a9d>, line 1)",
     "output_type": "error",
     "traceback": [
      "\u001b[0;36m  File \u001b[0;32m\"<ipython-input-20-763464502a9d>\"\u001b[0;36m, line \u001b[0;32m1\u001b[0m\n\u001b[0;31m    r_power = np.power(r[])\u001b[0m\n\u001b[0m                         ^\u001b[0m\n\u001b[0;31mSyntaxError\u001b[0m\u001b[0;31m:\u001b[0m invalid syntax\n"
     ]
    }
   ],
   "source": [
    "r_power = np.power(r[])"
   ]
  },
  {
   "cell_type": "code",
   "execution_count": null,
   "metadata": {
    "collapsed": true
   },
   "outputs": [],
   "source": [
    "from scipy.special import lpmn, factorial, sph_harm"
   ]
  },
  {
   "cell_type": "code",
   "execution_count": null,
   "metadata": {
    "collapsed": true
   },
   "outputs": [],
   "source": [
    "sph_harm(                 )"
   ]
  }
 ],
 "metadata": {
  "anaconda-cloud": {},
  "kernelspec": {
   "display_name": "Python [default]",
   "language": "python",
   "name": "python3"
  },
  "language_info": {
   "codemirror_mode": {
    "name": "ipython",
    "version": 3
   },
   "file_extension": ".py",
   "mimetype": "text/x-python",
   "name": "python",
   "nbconvert_exporter": "python",
   "pygments_lexer": "ipython3",
   "version": "3.5.2"
  }
 },
 "nbformat": 4,
 "nbformat_minor": 2
}
