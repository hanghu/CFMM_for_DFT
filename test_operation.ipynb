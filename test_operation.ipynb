{
 "cells": [
  {
   "cell_type": "code",
   "execution_count": 1,
   "metadata": {
    "collapsed": true
   },
   "outputs": [],
   "source": [
    "from multipole import operation as op\n",
    "import numpy as np"
   ]
  },
  {
   "cell_type": "code",
   "execution_count": 2,
   "metadata": {},
   "outputs": [],
   "source": [
    "x = np.array([0.12, 0.13, 0.115])\n",
    "p = 5"
   ]
  },
  {
   "cell_type": "code",
   "execution_count": 3,
   "metadata": {},
   "outputs": [],
   "source": [
    "y1 = np.array([0.125, 0.125, 0.125])\n",
    "r_y1 = op.cartesian_to_spherical(x - y1)\n",
    "Olm_y1 = op.O_expansion(p, r_y1)"
   ]
  },
  {
   "cell_type": "code",
   "execution_count": 4,
   "metadata": {},
   "outputs": [
    {
     "data": {
      "text/plain": [
       "array([[ 1.00000000e+00+0.00000000e+00j,  0.00000000e+00+0.00000000e+00j,\n",
       "         0.00000000e+00+0.00000000e+00j,  0.00000000e+00+0.00000000e+00j,\n",
       "         0.00000000e+00+0.00000000e+00j,  0.00000000e+00+0.00000000e+00j],\n",
       "       [-8.66025404e-03+0.00000000e+00j,  3.53553391e-03+2.50000000e-03j,\n",
       "         0.00000000e+00+0.00000000e+00j,  0.00000000e+00+0.00000000e+00j,\n",
       "         0.00000000e+00+0.00000000e+00j,  0.00000000e+00+0.00000000e+00j],\n",
       "       [ 1.87500000e-05+0.00000000e+00j, -3.06186218e-05-2.16506351e-05j,\n",
       "         3.12500000e-06+8.83883476e-06j,  0.00000000e+00+0.00000000e+00j,\n",
       "         0.00000000e+00+0.00000000e+00j,  0.00000000e+00+0.00000000e+00j],\n",
       "       [ 5.41265877e-08+0.00000000e+00j,  9.94368911e-08+7.03125000e-08j,\n",
       "        -2.70632939e-08-7.65465545e-08j, -3.68284782e-09+1.30208333e-08j,\n",
       "         0.00000000e+00+0.00000000e+00j,  0.00000000e+00+0.00000000e+00j],\n",
       "       [-3.80859375e-10+0.00000000e+00j, -9.56831931e-11-6.76582347e-11j,\n",
       "         9.76562500e-11+2.76213586e-10j,  3.18943977e-11-1.12763724e-10j,\n",
       "        -1.13932292e-11+9.20711955e-12j,  0.00000000e+00+0.00000000e+00j],\n",
       "       [ 8.62642492e-13+0.00000000e+00j, -3.10740285e-13-2.19726563e-13j,\n",
       "        -1.69145587e-13-4.78415965e-13j, -1.20843444e-13+4.27246094e-13j,\n",
       "         9.86682589e-14-7.97359942e-14j, -1.26597894e-14+8.13802083e-16j]])"
      ]
     },
     "execution_count": 4,
     "metadata": {},
     "output_type": "execute_result"
    }
   ],
   "source": [
    "Olm_y1.Vp"
   ]
  },
  {
   "cell_type": "code",
   "execution_count": 5,
   "metadata": {
    "collapsed": true
   },
   "outputs": [],
   "source": [
    "y1 = np.array([0.125, 0.125, 0.125])\n",
    "r_y1_op = op.cartesian_to_spherical(y1-x)\n",
    "Olm_y1_op = op.O_expansion(p, r_y1_op)\n"
   ]
  },
  {
   "cell_type": "code",
   "execution_count": 6,
   "metadata": {},
   "outputs": [
    {
     "data": {
      "text/plain": [
       "array([[ 1.00000000e+00+0.00000000e+00j,  0.00000000e+00+0.00000000e+00j,\n",
       "         0.00000000e+00+0.00000000e+00j,  0.00000000e+00+0.00000000e+00j,\n",
       "         0.00000000e+00+0.00000000e+00j,  0.00000000e+00+0.00000000e+00j],\n",
       "       [ 8.66025404e-03+0.00000000e+00j, -3.53553391e-03+2.50000000e-03j,\n",
       "         0.00000000e+00+0.00000000e+00j,  0.00000000e+00+0.00000000e+00j,\n",
       "         0.00000000e+00+0.00000000e+00j,  0.00000000e+00+0.00000000e+00j],\n",
       "       [ 1.87500000e-05+0.00000000e+00j, -3.06186218e-05+2.16506351e-05j,\n",
       "         3.12500000e-06-8.83883476e-06j,  0.00000000e+00+0.00000000e+00j,\n",
       "         0.00000000e+00+0.00000000e+00j,  0.00000000e+00+0.00000000e+00j],\n",
       "       [-5.41265877e-08+0.00000000e+00j, -9.94368911e-08+7.03125000e-08j,\n",
       "         2.70632939e-08-7.65465545e-08j,  3.68284782e-09+1.30208333e-08j,\n",
       "         0.00000000e+00+0.00000000e+00j,  0.00000000e+00+0.00000000e+00j],\n",
       "       [-3.80859375e-10+0.00000000e+00j, -9.56831931e-11+6.76582347e-11j,\n",
       "         9.76562500e-11-2.76213586e-10j,  3.18943977e-11+1.12763724e-10j,\n",
       "        -1.13932292e-11-9.20711955e-12j,  0.00000000e+00+0.00000000e+00j],\n",
       "       [-8.62642492e-13+0.00000000e+00j,  3.10740285e-13-2.19726563e-13j,\n",
       "         1.69145587e-13-4.78415965e-13j,  1.20843444e-13+4.27246094e-13j,\n",
       "        -9.86682589e-14-7.97359942e-14j,  1.26597894e-14+8.13802083e-16j]])"
      ]
     },
     "execution_count": 6,
     "metadata": {},
     "output_type": "execute_result"
    }
   ],
   "source": [
    "Olm_y1_op.Vp"
   ]
  },
  {
   "cell_type": "markdown",
   "metadata": {},
   "source": [
    "O or M expansion on vectors with oppsite direction only vary on sign of (-1)^l"
   ]
  },
  {
   "cell_type": "code",
   "execution_count": 7,
   "metadata": {},
   "outputs": [],
   "source": [
    "y2 = np.array([0.25, 0.25, 0.25])\n",
    "r_y2 = op.cartesian_to_spherical(x-y2)\n",
    "Olm_y2 = op.O_expansion(p, r_y2)"
   ]
  },
  {
   "cell_type": "code",
   "execution_count": 8,
   "metadata": {},
   "outputs": [
    {
     "data": {
      "text/plain": [
       "array([[ 1.00000000e+00+0.00000000e+00j,  0.00000000e+00+0.00000000e+00j,\n",
       "         0.00000000e+00+0.00000000e+00j,  0.00000000e+00+0.00000000e+00j,\n",
       "         0.00000000e+00+0.00000000e+00j,  0.00000000e+00+0.00000000e+00j],\n",
       "       [-1.63524724e-01+0.00000000e+00j,  4.57839069e-02+6.00000000e-02j,\n",
       "         0.00000000e+00+0.00000000e+00j,  0.00000000e+00+0.00000000e+00j,\n",
       "         0.00000000e+00+0.00000000e+00j,  0.00000000e+00+0.00000000e+00j],\n",
       "       [ 7.67400160e-03+0.00000000e+00j, -7.48680076e-03-9.81148346e-03j,\n",
       "        -7.51916933e-04+2.74703442e-03j,  0.00000000e+00+0.00000000e+00j,\n",
       "         0.00000000e+00+0.00000000e+00j,  0.00000000e+00+0.00000000e+00j],\n",
       "       [ 2.02679666e-04+0.00000000e+00j,  4.81742145e-04+6.31325080e-04j,\n",
       "         1.22957009e-04-4.49208046e-04j, -6.64159199e-05+2.68849840e-05j,\n",
       "         0.00000000e+00+0.00000000e+00j,  0.00000000e+00+0.00000000e+00j],\n",
       "       [-3.82535553e-05+0.00000000e+00j, -1.20435635e-05-1.57831399e-05j,\n",
       "        -8.62557426e-06+3.15124561e-05j,  1.08606450e-05-4.39635960e-06j,\n",
       "        -1.16346983e-06-6.88513898e-07j,  0.00000000e+00+0.00000000e+00j],\n",
       "       [ 1.85043633e-06+0.00000000e+00j, -2.55562338e-07-3.34915504e-07j,\n",
       "         3.14524095e-07-1.14907442e-06j, -7.93412961e-07+3.21171412e-07j,\n",
       "         1.90256084e-07+1.12589045e-07j, -2.39147216e-09-2.02662093e-08j]])"
      ]
     },
     "execution_count": 8,
     "metadata": {},
     "output_type": "execute_result"
    }
   ],
   "source": [
    "Olm_y2.Vp"
   ]
  },
  {
   "cell_type": "code",
   "execution_count": 13,
   "metadata": {},
   "outputs": [],
   "source": [
    "Y12 = y1 - y2\n",
    "Olm_y2_t = op.O_to_O(Olm_y1, Y12)"
   ]
  },
  {
   "cell_type": "code",
   "execution_count": 14,
   "metadata": {},
   "outputs": [
    {
     "data": {
      "text/plain": [
       "array([[ 1.00000000e+00+0.00000000e+00j,  0.00000000e+00+0.00000000e+00j,\n",
       "         0.00000000e+00+0.00000000e+00j,  0.00000000e+00+0.00000000e+00j,\n",
       "         0.00000000e+00+0.00000000e+00j,  0.00000000e+00+0.00000000e+00j],\n",
       "       [-1.61753363e-01+0.00000000e+00j,  4.77297077e-02+6.50000000e-02j,\n",
       "         0.00000000e+00+0.00000000e+00j,  0.00000000e+00+0.00000000e+00j,\n",
       "         0.00000000e+00+0.00000000e+00j,  0.00000000e+00+0.00000000e+00j],\n",
       "       [ 6.57895021e-03+0.00000000e+00j, -7.72044074e-03-1.05139686e-02j,\n",
       "        -9.73437500e-04+3.10243100e-03j,  0.00000000e+00+0.00000000e+00j,\n",
       "         0.00000000e+00+0.00000000e+00j,  0.00000000e+00+0.00000000e+00j],\n",
       "       [ 3.46545785e-04+0.00000000e+00j,  4.69207499e-04+6.38983326e-04j,\n",
       "         1.57456789e-04-5.01828648e-04j, -8.27066342e-05+2.82682292e-05j,\n",
       "         0.00000000e+00+0.00000000e+00j,  0.00000000e+00+0.00000000e+00j],\n",
       "       [-4.59782630e-05+0.00000000e+00j, -8.56296656e-06-1.16613500e-05j,\n",
       "        -1.06244540e-05+3.38610702e-05j,  1.33780762e-05-4.57248113e-06j,\n",
       "        -1.44624959e-06-1.00667423e-06j,  0.00000000e+00+0.00000000e+00j],\n",
       "       [ 1.95410599e-06+0.00000000e+00j, -5.00661579e-07-6.81818603e-07j,\n",
       "         3.45300126e-07-1.10050190e-06j, -9.47511514e-07+3.23849143e-07j,\n",
       "         2.33935735e-07+1.62832942e-07j, -7.19049135e-10-2.84108980e-08j]])"
      ]
     },
     "execution_count": 14,
     "metadata": {},
     "output_type": "execute_result"
    }
   ],
   "source": [
    "Olm_y2_t.Vp"
   ]
  },
  {
   "cell_type": "code",
   "execution_count": null,
   "metadata": {},
   "outputs": [],
   "source": [
    "y3 = np.array([0.75, 0.75, 0.75])\n",
    "r_y3 = op.cartesian_to_spherical(x-y3)\n",
    "Mlm_y3 = op.M_expansion(p, r_y3)"
   ]
  },
  {
   "cell_type": "code",
   "execution_count": null,
   "metadata": {},
   "outputs": [],
   "source": [
    "Mlm_y3.Vp"
   ]
  },
  {
   "cell_type": "code",
   "execution_count": null,
   "metadata": {},
   "outputs": [],
   "source": [
    "Y13 = y3 - y1\n",
    "Mlm_y3_t = op.O_to_M(Olm_y1, Y13)"
   ]
  },
  {
   "cell_type": "code",
   "execution_count": null,
   "metadata": {},
   "outputs": [],
   "source": [
    "Mlm_y3_t.Vp"
   ]
  },
  {
   "cell_type": "code",
   "execution_count": null,
   "metadata": {},
   "outputs": [],
   "source": [
    "y4 = np.array([0.875, 0.875, 0.875])\n",
    "r_y4 = op.cartesian_to_spherical(x-y4)\n",
    "Mlm_y4 = op.M_expansion(p, r_y4)"
   ]
  },
  {
   "cell_type": "code",
   "execution_count": null,
   "metadata": {},
   "outputs": [],
   "source": [
    "Mlm_y4.Vp"
   ]
  },
  {
   "cell_type": "code",
   "execution_count": null,
   "metadata": {},
   "outputs": [],
   "source": [
    "Y34 = y4 - y3\n",
    "Mlm_y4_t = op.M_to_M(Mlm_y3, Y34)"
   ]
  },
  {
   "cell_type": "code",
   "execution_count": null,
   "metadata": {},
   "outputs": [],
   "source": [
    "Mlm_y4_t.Vp"
   ]
  },
  {
   "cell_type": "code",
   "execution_count": null,
   "metadata": {},
   "outputs": [],
   "source": [
    "x = np.array([0.1, 0.1, 0.1])\n",
    "op.cartesian_to_spherical(x)"
   ]
  },
  {
   "cell_type": "code",
   "execution_count": null,
   "metadata": {},
   "outputs": [],
   "source": [
    "x = [0.1, 0.1, 0.1]\n",
    "op.cartesian_to_spherical(x)"
   ]
  },
  {
   "cell_type": "code",
   "execution_count": null,
   "metadata": {
    "collapsed": true
   },
   "outputs": [],
   "source": [
    "r_power = np.power(r[])"
   ]
  },
  {
   "cell_type": "code",
   "execution_count": null,
   "metadata": {
    "collapsed": true
   },
   "outputs": [],
   "source": []
  }
 ],
 "metadata": {
  "anaconda-cloud": {},
  "kernelspec": {
   "display_name": "Python 3",
   "language": "python",
   "name": "python3"
  },
  "language_info": {
   "codemirror_mode": {
    "name": "ipython",
    "version": 3
   },
   "file_extension": ".py",
   "mimetype": "text/x-python",
   "name": "python",
   "nbconvert_exporter": "python",
   "pygments_lexer": "ipython3",
   "version": "3.5.4"
  }
 },
 "nbformat": 4,
 "nbformat_minor": 2
}
