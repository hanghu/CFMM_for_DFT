{
 "cells": [
  {
   "cell_type": "code",
   "execution_count": 1,
   "metadata": {
    "collapsed": true
   },
   "outputs": [],
   "source": [
    "import os\n",
    "import sys\n",
    "module_path = os.path.abspath(os.path.join('..'))\n",
    "if module_path not in sys.path:\n",
    "    sys.path.append(module_path)\n",
    "import numpy as np"
   ]
  },
  {
   "cell_type": "code",
   "execution_count": 2,
   "metadata": {
    "collapsed": true
   },
   "outputs": [],
   "source": [
    "from fmm_source import ggq_dist\n",
    "from basic_operations import Vlm"
   ]
  },
  {
   "cell_type": "code",
   "execution_count": 3,
   "metadata": {
    "collapsed": true
   },
   "outputs": [],
   "source": [
    "a = ggq_dist([0.4, 0.5, 0.3], 0.4, 1, [0, 1, 1])"
   ]
  },
  {
   "cell_type": "code",
   "execution_count": 4,
   "metadata": {
    "collapsed": true
   },
   "outputs": [],
   "source": [
    "from contracted_basis import CAO_basis"
   ]
  },
  {
   "cell_type": "code",
   "execution_count": 5,
   "metadata": {},
   "outputs": [],
   "source": [
    "mu = CAO_basis(np.array([0.5, 0.5, 0.5]), \"C\", 2, np.array([1, 0, 0]))"
   ]
  },
  {
   "cell_type": "code",
   "execution_count": 6,
   "metadata": {},
   "outputs": [],
   "source": [
    "nu = CAO_basis(np.array([0.5, 0.5, 0.5]), \"C\", 2, np.array([0, 1, 0]))"
   ]
  },
  {
   "cell_type": "code",
   "execution_count": 7,
   "metadata": {
    "collapsed": true
   },
   "outputs": [],
   "source": [
    "from contracted_basis import shell_pair"
   ]
  },
  {
   "cell_type": "code",
   "execution_count": 8,
   "metadata": {
    "collapsed": true
   },
   "outputs": [],
   "source": [
    "sp = shell_pair(mu, nu)"
   ]
  },
  {
   "cell_type": "code",
   "execution_count": 9,
   "metadata": {},
   "outputs": [
    {
     "data": {
      "text/plain": [
       "array([[[0.5, 0.5, 0.5],\n",
       "        [0.5, 0.5, 0.5],\n",
       "        [0.5, 0.5, 0.5]],\n",
       "\n",
       "       [[0.5, 0.5, 0.5],\n",
       "        [0.5, 0.5, 0.5],\n",
       "        [0.5, 0.5, 0.5]],\n",
       "\n",
       "       [[0.5, 0.5, 0.5],\n",
       "        [0.5, 0.5, 0.5],\n",
       "        [0.5, 0.5, 0.5]]])"
      ]
     },
     "execution_count": 9,
     "metadata": {},
     "output_type": "execute_result"
    }
   ],
   "source": [
    "sp.X_p"
   ]
  },
  {
   "cell_type": "code",
   "execution_count": 10,
   "metadata": {},
   "outputs": [
    {
     "data": {
      "text/plain": [
       "array([[0.02430988, 0.09474778, 0.06111253],\n",
       "       [0.09474778, 0.3692795 , 0.23818612],\n",
       "       [0.06111253, 0.23818612, 0.1536306 ]])"
      ]
     },
     "execution_count": 10,
     "metadata": {},
     "output_type": "execute_result"
    }
   ],
   "source": [
    "sp.d"
   ]
  },
  {
   "cell_type": "code",
   "execution_count": 11,
   "metadata": {},
   "outputs": [
    {
     "data": {
      "text/plain": [
       "array([[5.8824988, 3.6247325, 3.1635393],\n",
       "       [3.6247325, 1.3669662, 0.905773 ],\n",
       "       [3.1635393, 0.905773 , 0.4445798]])"
      ]
     },
     "execution_count": 11,
     "metadata": {},
     "output_type": "execute_result"
    }
   ],
   "source": [
    "sp.a_p"
   ]
  },
  {
   "cell_type": "code",
   "execution_count": 12,
   "metadata": {},
   "outputs": [
    {
     "data": {
      "text/plain": [
       "array([[1.4706247 , 0.55460486, 0.20667043],\n",
       "       [0.55460486, 0.34174155, 0.16773672],\n",
       "       [0.20667043, 0.16773672, 0.11114495]])"
      ]
     },
     "execution_count": 12,
     "metadata": {},
     "output_type": "execute_result"
    }
   ],
   "source": [
    "sp.a_k"
   ]
  },
  {
   "cell_type": "code",
   "execution_count": 13,
   "metadata": {},
   "outputs": [
    {
     "name": "stdout",
     "output_type": "stream",
     "text": [
      "t= 0 ; C_t= 0.0\n",
      "t= 1 ; C_t= nan\n",
      "u= 0 ; C_u= 0.0\n",
      "u= 1 ; C_u= 1.0\n",
      "v: [0, 0]\n",
      "v= 0 ; C_v= 1.0\n",
      "t= 0 ; C_t= 0.0\n",
      "t= 1 ; C_t= nan\n",
      "u= 0 ; C_u= 0.0\n",
      "u= 1 ; C_u= 1.0\n",
      "v: [0, 0]\n",
      "v= 0 ; C_v= 1.0\n",
      "t= 0 ; C_t= 0.0\n",
      "t= 1 ; C_t= nan\n",
      "u= 0 ; C_u= 0.0\n",
      "u= 1 ; C_u= 1.0\n",
      "v: [0, 0]\n",
      "v= 0 ; C_v= 1.0\n",
      "t= 0 ; C_t= 0.0\n",
      "t= 1 ; C_t= nan\n",
      "u= 0 ; C_u= 0.0\n",
      "u= 1 ; C_u= 1.0\n",
      "v: [0, 0]\n",
      "v= 0 ; C_v= 1.0\n",
      "t= 0 ; C_t= 0.0\n",
      "t= 1 ; C_t= nan\n",
      "u= 0 ; C_u= 0.0\n",
      "u= 1 ; C_u= 1.0\n",
      "v: [0, 0]\n",
      "v= 0 ; C_v= 1.0\n",
      "t= 0 ; C_t= 0.0\n",
      "t= 1 ; C_t= nan\n",
      "u= 0 ; C_u= 0.0\n",
      "u= 1 ; C_u= 1.0\n",
      "v: [0, 0]\n",
      "v= 0 ; C_v= 1.0\n",
      "t= 0 ; C_t= 0.0\n",
      "t= 1 ; C_t= nan\n",
      "u= 0 ; C_u= 0.0\n",
      "u= 1 ; C_u= 1.0\n",
      "v: [0, 0]\n",
      "v= 0 ; C_v= 1.0\n",
      "t= 0 ; C_t= 0.0\n",
      "t= 1 ; C_t= nan\n",
      "u= 0 ; C_u= 0.0\n",
      "u= 1 ; C_u= 1.0\n",
      "v: [0, 0]\n",
      "v= 0 ; C_v= 1.0\n",
      "t= 0 ; C_t= 0.0\n",
      "t= 1 ; C_t= nan\n",
      "u= 0 ; C_u= 0.0\n",
      "u= 1 ; C_u= 1.0\n",
      "v: [0, 0]\n",
      "v= 0 ; C_v= 1.0\n"
     ]
    },
    {
     "name": "stderr",
     "output_type": "stream",
     "text": [
      "/Users/hang/Desktop/FMM/CFMM_for_DFT/CFMM_for_DFT/contracted_basis.py:74: RuntimeWarning: divide by zero encountered in power\n",
      "  * binom(self.nu.pow[0], t-i) * np.power(X_p[0] - self.nu.x[0], self.nu.pow[0]-t+i)\n",
      "/Users/hang/Desktop/FMM/CFMM_for_DFT/CFMM_for_DFT/contracted_basis.py:74: RuntimeWarning: invalid value encountered in double_scalars\n",
      "  * binom(self.nu.pow[0], t-i) * np.power(X_p[0] - self.nu.x[0], self.nu.pow[0]-t+i)\n"
     ]
    }
   ],
   "source": [
    "sp.Mlm_init(3)"
   ]
  },
  {
   "cell_type": "code",
   "execution_count": 14,
   "metadata": {},
   "outputs": [
    {
     "data": {
      "text/plain": [
       "array([[ 0. +0.j,  0. +0.j,  0. +0.j,  0. +0.j,  0. +0.j,  0. +0.j,\n",
       "         0. +0.j],\n",
       "       [ 0. +0.j,  0. +0.j,  0. +0.j, nan+nanj,  0. +0.j,  0. +0.j,\n",
       "         0. +0.j],\n",
       "       [ 0. +0.j, nan+nanj,  0. +0.j,  0. +0.j,  0. +0.j, nan+nanj,\n",
       "         0. +0.j],\n",
       "       [ 0. +0.j,  0. +0.j,  0. +0.j,  0. +0.j,  0. +0.j,  0. +0.j,\n",
       "         0. +0.j]])"
      ]
     },
     "execution_count": 14,
     "metadata": {},
     "output_type": "execute_result"
    }
   ],
   "source": [
    "sp.Mlm[0][0].V_matrix"
   ]
  },
  {
   "cell_type": "code",
   "execution_count": 15,
   "metadata": {},
   "outputs": [
    {
     "data": {
      "text/plain": [
       "1"
      ]
     },
     "execution_count": 15,
     "metadata": {},
     "output_type": "execute_result"
    }
   ],
   "source": [
    "np.power(1, 0)"
   ]
  },
  {
   "cell_type": "code",
   "execution_count": null,
   "metadata": {
    "collapsed": true
   },
   "outputs": [],
   "source": []
  }
 ],
 "metadata": {
  "kernelspec": {
   "display_name": "Python 3",
   "language": "python",
   "name": "python3"
  },
  "language_info": {
   "codemirror_mode": {
    "name": "ipython",
    "version": 3
   },
   "file_extension": ".py",
   "mimetype": "text/x-python",
   "name": "python",
   "nbconvert_exporter": "python",
   "pygments_lexer": "ipython3",
   "version": "3.5.4"
  }
 },
 "nbformat": 4,
 "nbformat_minor": 2
}
