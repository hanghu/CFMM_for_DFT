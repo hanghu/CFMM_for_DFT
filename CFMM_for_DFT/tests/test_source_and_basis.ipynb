{
 "cells": [
  {
   "cell_type": "code",
   "execution_count": 1,
   "metadata": {
    "collapsed": true
   },
   "outputs": [],
   "source": [
    "import os\n",
    "import sys\n",
    "module_path = os.path.abspath(os.path.join('..'))\n",
    "if module_path not in sys.path:\n",
    "    sys.path.append(module_path)\n",
    "import numpy as np"
   ]
  },
  {
   "cell_type": "code",
   "execution_count": 2,
   "metadata": {},
   "outputs": [],
   "source": [
    "from fmm_source import ggq_dist\n",
    "from basic_operations import Vlm\n",
    "from contracted_basis import CAO_basis, shell_pair"
   ]
  },
  {
   "cell_type": "code",
   "execution_count": 3,
   "metadata": {
    "collapsed": true
   },
   "outputs": [],
   "source": [
    "a = ggq_dist([0.4, 0.5, 0.3], 0.4, 1, [0, 1, 1])"
   ]
  },
  {
   "cell_type": "code",
   "execution_count": 4,
   "metadata": {},
   "outputs": [],
   "source": [
    "mu = CAO_basis(np.array([0.5, 0.5, 0.5]), \"C\", 2, np.array([0, 0, 0]))"
   ]
  },
  {
   "cell_type": "code",
   "execution_count": 5,
   "metadata": {},
   "outputs": [],
   "source": [
    "nu = CAO_basis(np.array([0.5, 0.5, 0.25]), \"C\", 2, np.array([0, 0, 0]))"
   ]
  },
  {
   "cell_type": "code",
   "execution_count": 6,
   "metadata": {
    "collapsed": true
   },
   "outputs": [],
   "source": [
    "sp = shell_pair(mu, nu)"
   ]
  },
  {
   "cell_type": "code",
   "execution_count": 7,
   "metadata": {},
   "outputs": [
    {
     "data": {
      "text/plain": [
       "array([[[0.5       , 0.5       , 0.375     ],\n",
       "        [0.5       , 0.5       , 0.45285976],\n",
       "        [0.5       , 0.5       , 0.48243345]],\n",
       "\n",
       "       [[0.5       , 0.5       , 0.29714024],\n",
       "        [0.5       , 0.5       , 0.375     ],\n",
       "        [0.5       , 0.5       , 0.43864636]],\n",
       "\n",
       "       [[0.5       , 0.5       , 0.26756655],\n",
       "        [0.5       , 0.5       , 0.31135364],\n",
       "        [0.5       , 0.5       , 0.375     ]]])"
      ]
     },
     "execution_count": 7,
     "metadata": {},
     "output_type": "execute_result"
    }
   ],
   "source": [
    "sp.X_p"
   ]
  },
  {
   "cell_type": "code",
   "execution_count": 8,
   "metadata": {},
   "outputs": [
    {
     "data": {
      "text/plain": [
       "array([[ 0.00999345, -0.03993819, -0.0699886 ],\n",
       "       [-0.03993819,  0.1596105 ,  0.27970511],\n",
       "       [-0.0699886 ,  0.27970511,  0.49016167]])"
      ]
     },
     "execution_count": 8,
     "metadata": {},
     "output_type": "execute_result"
    }
   ],
   "source": [
    "sp.d"
   ]
  },
  {
   "cell_type": "code",
   "execution_count": 9,
   "metadata": {},
   "outputs": [
    {
     "data": {
      "text/plain": [
       "array([[5.8824988, 3.6247325, 3.1635393],\n",
       "       [3.6247325, 1.3669662, 0.905773 ],\n",
       "       [3.1635393, 0.905773 , 0.4445798]])"
      ]
     },
     "execution_count": 9,
     "metadata": {},
     "output_type": "execute_result"
    }
   ],
   "source": [
    "sp.a_p"
   ]
  },
  {
   "cell_type": "code",
   "execution_count": 10,
   "metadata": {},
   "outputs": [
    {
     "data": {
      "text/plain": [
       "array([[1.4706247 , 0.55460486, 0.20667043],\n",
       "       [0.55460486, 0.34174155, 0.16773672],\n",
       "       [0.20667043, 0.16773672, 0.11114495]])"
      ]
     },
     "execution_count": 10,
     "metadata": {},
     "output_type": "execute_result"
    }
   ],
   "source": [
    "sp.a_k"
   ]
  },
  {
   "cell_type": "code",
   "execution_count": 11,
   "metadata": {},
   "outputs": [],
   "source": [
    "sp.Mlm_init(3)"
   ]
  },
  {
   "cell_type": "code",
   "execution_count": 12,
   "metadata": {},
   "outputs": [
    {
     "data": {
      "text/plain": [
       "array([[0.       +0.j, 0.       +0.j, 0.       +0.j, 0.7793939+0.j,\n",
       "        0.       +0.j, 0.       +0.j, 0.       +0.j],\n",
       "       [0.       +0.j, 0.       +0.j, 0.       +0.j, 0.       +0.j,\n",
       "        0.       +0.j, 0.       +0.j, 0.       +0.j],\n",
       "       [0.       +0.j, 0.       +0.j, 0.       +0.j, 0.       +0.j,\n",
       "        0.       +0.j, 0.       +0.j, 0.       +0.j],\n",
       "       [0.       +0.j, 0.       +0.j, 0.       +0.j, 0.       +0.j,\n",
       "        0.       +0.j, 0.       +0.j, 0.       +0.j]])"
      ]
     },
     "execution_count": 12,
     "metadata": {},
     "output_type": "execute_result"
    }
   ],
   "source": [
    "sp.Mlm[1][0].V_matrix"
   ]
  },
  {
   "cell_type": "code",
   "execution_count": 13,
   "metadata": {},
   "outputs": [],
   "source": [
    "from fast_multipole_method import fmm_box\n",
    "b = fmm_box(np.array([0.4, 0.4, 0.4]))"
   ]
  },
  {
   "cell_type": "code",
   "execution_count": 14,
   "metadata": {},
   "outputs": [],
   "source": [
    "\n",
    "a = sp.M_expansion_to_box(b,3)"
   ]
  },
  {
   "cell_type": "code",
   "execution_count": 15,
   "metadata": {},
   "outputs": [
    {
     "data": {
      "text/plain": [
       "array([[0.5       , 0.5       , 0.375     ],\n",
       "       [0.5       , 0.5       , 0.45285976],\n",
       "       [0.5       , 0.5       , 0.48243345],\n",
       "       [0.5       , 0.5       , 0.29714024],\n",
       "       [0.5       , 0.5       , 0.375     ],\n",
       "       [0.5       , 0.5       , 0.43864636],\n",
       "       [0.5       , 0.5       , 0.26756655],\n",
       "       [0.5       , 0.5       , 0.31135364],\n",
       "       [0.5       , 0.5       , 0.375     ]])"
      ]
     },
     "execution_count": 15,
     "metadata": {},
     "output_type": "execute_result"
    }
   ],
   "source": [
    "sp.X_p"
   ]
  },
  {
   "cell_type": "code",
   "execution_count": 16,
   "metadata": {},
   "outputs": [
    {
     "data": {
      "text/plain": [
       "array([<basic_operations.Vlm object at 0x10f859908>,\n",
       "       <basic_operations.Vlm object at 0x10f8598d0>,\n",
       "       <basic_operations.Vlm object at 0x10f859898>,\n",
       "       <basic_operations.Vlm object at 0x10f859860>,\n",
       "       <basic_operations.Vlm object at 0x10f859828>,\n",
       "       <basic_operations.Vlm object at 0x10f859668>,\n",
       "       <basic_operations.Vlm object at 0x10f8596a0>,\n",
       "       <basic_operations.Vlm object at 0x10f859550>,\n",
       "       <basic_operations.Vlm object at 0x10f859780>], dtype=object)"
      ]
     },
     "execution_count": 16,
     "metadata": {},
     "output_type": "execute_result"
    }
   ],
   "source": [
    "sp.Mlm"
   ]
  },
  {
   "cell_type": "code",
   "execution_count": 17,
   "metadata": {},
   "outputs": [
    {
     "data": {
      "text/plain": [
       "array([[ 0.00000000e+00+0.00000000e+00j,  0.00000000e+00+0.00000000e+00j,\n",
       "         0.00000000e+00+0.00000000e+00j,  3.87177431e+01+0.00000000e+00j,\n",
       "         0.00000000e+00+0.00000000e+00j,  0.00000000e+00+0.00000000e+00j,\n",
       "         0.00000000e+00+0.00000000e+00j],\n",
       "       [ 0.00000000e+00+0.00000000e+00j,  0.00000000e+00+0.00000000e+00j,\n",
       "        -1.93588716e+00-1.93588716e+00j, -9.67943578e-01+0.00000000e+00j,\n",
       "        -1.93588716e+00+1.93588716e+00j,  0.00000000e+00+0.00000000e+00j,\n",
       "         0.00000000e+00+0.00000000e+00j],\n",
       "       [ 0.00000000e+00+0.00000000e+00j,  5.92694502e-18+9.67943578e-02j,\n",
       "         4.83971789e-02+4.83971789e-02j, -1.39595717e-01+0.00000000e+00j,\n",
       "         4.83971789e-02-4.83971789e-02j,  5.92694502e-18-9.67943578e-02j,\n",
       "         0.00000000e+00+0.00000000e+00j],\n",
       "       [ 1.61323930e-03-1.61323930e-03j, -1.48173626e-19-2.41985895e-03j,\n",
       "         2.14006797e-03+2.14006797e-03j,  3.69154784e-03+0.00000000e+00j,\n",
       "         2.14006797e-03-2.14006797e-03j, -1.48173626e-19+2.41985895e-03j,\n",
       "         1.61323930e-03+1.61323930e-03j]])"
      ]
     },
     "execution_count": 17,
     "metadata": {},
     "output_type": "execute_result"
    }
   ],
   "source": [
    "a.V_matrix"
   ]
  },
  {
   "cell_type": "code",
   "execution_count": null,
   "metadata": {
    "collapsed": true
   },
   "outputs": [],
   "source": []
  }
 ],
 "metadata": {
  "kernelspec": {
   "display_name": "Python 3",
   "language": "python",
   "name": "python3"
  },
  "language_info": {
   "codemirror_mode": {
    "name": "ipython",
    "version": 3
   },
   "file_extension": ".py",
   "mimetype": "text/x-python",
   "name": "python",
   "nbconvert_exporter": "python",
   "pygments_lexer": "ipython3",
   "version": "3.5.4"
  }
 },
 "nbformat": 4,
 "nbformat_minor": 2
}
