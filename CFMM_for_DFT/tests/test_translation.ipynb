{
 "cells": [
  {
   "cell_type": "code",
   "execution_count": 1,
   "metadata": {
    "collapsed": true
   },
   "outputs": [],
   "source": [
    "import os\n",
    "import sys\n",
    "module_path = os.path.abspath(os.path.join('..'))\n",
    "if module_path not in sys.path:\n",
    "    sys.path.append(module_path)\n",
    "from fast_multipole_method import operation as op\n",
    "import numpy as np"
   ]
  },
  {
   "cell_type": "code",
   "execution_count": 2,
   "metadata": {
    "collapsed": true
   },
   "outputs": [],
   "source": [
    "x = np.array([0.12, 0.13, 0.115])\n",
    "p = 2"
   ]
  },
  {
   "cell_type": "code",
   "execution_count": 3,
   "metadata": {
    "collapsed": true
   },
   "outputs": [],
   "source": [
    "y1 = np.array([0.125, 0.125, 0.125])\n",
    "r_y1_op = op.cartesian_to_spherical(y1-x)\n",
    "Mlm_y1_op = op.M_expansion(p, r_y1_op)\n",
    "\n",
    "r_y1 = op.cartesian_to_spherical(x - y1)\n",
    "Mlm_y1 = op.M_expansion(p, r_y1)"
   ]
  },
  {
   "cell_type": "code",
   "execution_count": 4,
   "metadata": {},
   "outputs": [
    {
     "data": {
      "text/plain": [
       "array([[ 0.00000000e+00+0.00e+00j,  0.00000000e+00+0.00e+00j,\n",
       "         1.00000000e+00+0.00e+00j,  0.00000000e+00+0.00e+00j,\n",
       "         0.00000000e+00+0.00e+00j],\n",
       "       [ 0.00000000e+00+0.00e+00j, -2.50000000e-03+2.50e-03j,\n",
       "         1.00000000e-02+0.00e+00j, -2.50000000e-03-2.50e-03j,\n",
       "         0.00000000e+00+0.00e+00j],\n",
       "       [ 3.82702125e-22-6.25e-06j, -2.50000000e-05+2.50e-05j,\n",
       "         3.75000000e-05+0.00e+00j, -2.50000000e-05-2.50e-05j,\n",
       "         3.82702125e-22+6.25e-06j]])"
      ]
     },
     "execution_count": 4,
     "metadata": {},
     "output_type": "execute_result"
    }
   ],
   "source": [
    "Mlm_y1_op.V_matrix"
   ]
  },
  {
   "cell_type": "code",
   "execution_count": 5,
   "metadata": {},
   "outputs": [
    {
     "data": {
      "text/plain": [
       "array([[ 0.00000000e+00+0.00e+00j,  0.00000000e+00+0.00e+00j,\n",
       "         1.00000000e+00+0.00e+00j,  0.00000000e+00+0.00e+00j,\n",
       "         0.00000000e+00+0.00e+00j],\n",
       "       [ 0.00000000e+00+0.00e+00j,  2.50000000e-03-2.50e-03j,\n",
       "        -1.00000000e-02+0.00e+00j,  2.50000000e-03+2.50e-03j,\n",
       "         0.00000000e+00+0.00e+00j],\n",
       "       [-1.14810637e-21-6.25e-06j, -2.50000000e-05+2.50e-05j,\n",
       "         3.75000000e-05+0.00e+00j, -2.50000000e-05-2.50e-05j,\n",
       "        -1.14810637e-21+6.25e-06j]])"
      ]
     },
     "execution_count": 5,
     "metadata": {},
     "output_type": "execute_result"
    }
   ],
   "source": [
    "Mlm_y1.V_matrix"
   ]
  },
  {
   "cell_type": "markdown",
   "metadata": {},
   "source": [
    "    O expansion on vectors with the oppsite direction are different by:\n",
    "    if l is odd, flip the sign of real part\n",
    "    if l is even, flip the sign of image part"
   ]
  },
  {
   "cell_type": "code",
   "execution_count": 6,
   "metadata": {
    "collapsed": true
   },
   "outputs": [],
   "source": [
    "y2 = np.array([0.25, 0.25, 0.25])\n",
    "r_y2 = op.cartesian_to_spherical(x-y2)\n",
    "Mlm_y2 = op.M_expansion(p, r_y2)"
   ]
  },
  {
   "cell_type": "code",
   "execution_count": 7,
   "metadata": {
    "collapsed": true
   },
   "outputs": [],
   "source": [
    "y2 = np.array([0.25, 0.25, 0.25])\n",
    "r_y2 = op.cartesian_to_spherical(x-y2)\n",
    "Mlm_y2 = op.M_expansion(p, r_y2)\n",
    "y21 = y1 - y2\n",
    "y12 = y2 - y1\n",
    "Mlm_y1_t = op.M2M(Mlm_y2, y12)"
   ]
  },
  {
   "cell_type": "code",
   "execution_count": 8,
   "metadata": {},
   "outputs": [
    {
     "data": {
      "text/plain": [
       "array([[ 0.00000000e+00+0.00e+00j,  0.00000000e+00+0.00e+00j,\n",
       "         1.00000000e+00+0.00e+00j,  0.00000000e+00+0.00e+00j,\n",
       "         0.00000000e+00+0.00e+00j],\n",
       "       [ 0.00000000e+00+0.00e+00j,  2.50000000e-03-2.50e-03j,\n",
       "        -1.00000000e-02+0.00e+00j,  2.50000000e-03+2.50e-03j,\n",
       "         0.00000000e+00+0.00e+00j],\n",
       "       [-1.08420217e-19-6.25e-06j, -2.50000000e-05+2.50e-05j,\n",
       "         3.75000000e-05+0.00e+00j, -2.50000000e-05-2.50e-05j,\n",
       "        -8.60718238e-20+6.25e-06j]])"
      ]
     },
     "execution_count": 8,
     "metadata": {},
     "output_type": "execute_result"
    }
   ],
   "source": [
    "Mlm_y1_t.V_matrix"
   ]
  },
  {
   "cell_type": "code",
   "execution_count": 9,
   "metadata": {},
   "outputs": [
    {
     "data": {
      "text/plain": [
       "array([[ 0.00000000e+00+0.00e+00j,  0.00000000e+00+0.00e+00j,\n",
       "         1.00000000e+00+0.00e+00j,  0.00000000e+00+0.00e+00j,\n",
       "         0.00000000e+00+0.00e+00j],\n",
       "       [ 0.00000000e+00+0.00e+00j,  2.50000000e-03-2.50e-03j,\n",
       "        -1.00000000e-02+0.00e+00j,  2.50000000e-03+2.50e-03j,\n",
       "         0.00000000e+00+0.00e+00j],\n",
       "       [-1.14810637e-21-6.25e-06j, -2.50000000e-05+2.50e-05j,\n",
       "         3.75000000e-05+0.00e+00j, -2.50000000e-05-2.50e-05j,\n",
       "        -1.14810637e-21+6.25e-06j]])"
      ]
     },
     "execution_count": 9,
     "metadata": {},
     "output_type": "execute_result"
    }
   ],
   "source": [
    "Mlm_y1.V_matrix"
   ]
  },
  {
   "cell_type": "code",
   "execution_count": 10,
   "metadata": {
    "collapsed": true
   },
   "outputs": [],
   "source": [
    "y3 = np.array([0.75, 0.75, 0.75])\n",
    "r_y3 = op.cartesian_to_spherical(x-y3)\n",
    "Llm_y3 = op.L_expansion(p, r_y3)"
   ]
  },
  {
   "cell_type": "code",
   "execution_count": 11,
   "metadata": {
    "collapsed": true
   },
   "outputs": [],
   "source": [
    "Y31 = y1 - y3\n",
    "Llm_y3_t = op.M2L(Mlm_y1, Y31)"
   ]
  },
  {
   "cell_type": "code",
   "execution_count": 12,
   "metadata": {},
   "outputs": [
    {
     "data": {
      "text/plain": [
       "array([[ 0.        +0.00000000e+00j,  0.        +0.00000000e+00j,\n",
       "         0.918814  -3.62009681e-21j,  0.        +0.00000000e+00j,\n",
       "         0.        +0.00000000e+00j],\n",
       "       [ 0.        +0.00000000e+00j,  0.4886783 -4.80921669e-01j,\n",
       "        -0.49255662+9.65359151e-21j,  0.4886783 +4.80921669e-01j,\n",
       "         0.        +0.00000000e+00j],\n",
       "       [ 0.02455216-1.53468915e+00j, -0.78591004+7.73432163e-01j,\n",
       "         0.016469  -2.05943285e-20j, -0.78591004-7.73432163e-01j,\n",
       "         0.02455216+1.53468915e+00j]])"
      ]
     },
     "execution_count": 12,
     "metadata": {},
     "output_type": "execute_result"
    }
   ],
   "source": [
    "Llm_y3_t.V_matrix"
   ]
  },
  {
   "cell_type": "code",
   "execution_count": 13,
   "metadata": {},
   "outputs": [
    {
     "data": {
      "text/plain": [
       "array([[ 0.        +0.        j,  0.        +0.        j,\n",
       "         0.91881459+0.        j,  0.        +0.        j,\n",
       "         0.        +0.        j],\n",
       "       [ 0.        +0.        j,  0.48867959-0.48092277j,\n",
       "        -0.492558  +0.        j,  0.48867959+0.48092277j,\n",
       "         0.        +0.        j],\n",
       "       [ 0.02455674-1.53469794j, -0.78591387+0.77343904j,\n",
       "         0.01646939+0.        j, -0.78591387-0.77343904j,\n",
       "         0.02455674+1.53469794j]])"
      ]
     },
     "execution_count": 13,
     "metadata": {},
     "output_type": "execute_result"
    }
   ],
   "source": [
    "Llm_y3.V_matrix"
   ]
  },
  {
   "cell_type": "code",
   "execution_count": 14,
   "metadata": {
    "collapsed": true
   },
   "outputs": [],
   "source": [
    "y4 = np.array([0.875, 0.875, 0.875])\n",
    "r_y4 = op.cartesian_to_spherical(x-y4)\n",
    "Llm_y4 = op.L_expansion(p, r_y4)"
   ]
  },
  {
   "cell_type": "code",
   "execution_count": 15,
   "metadata": {},
   "outputs": [],
   "source": [
    "Y43 = y3 - y4\n",
    "Llm_y4_t = op.L2L(Llm_y3, Y43)"
   ]
  },
  {
   "cell_type": "code",
   "execution_count": 16,
   "metadata": {},
   "outputs": [
    {
     "data": {
      "text/plain": [
       "array([[ 0.        +0.00000000e+00j,  0.        +0.00000000e+00j,\n",
       "         0.77239926-1.35525272e-20j,  0.        +0.00000000e+00j,\n",
       "         0.        +0.00000000e+00j],\n",
       "       [ 0.        +0.00000000e+00j,  0.29401628-2.90888404e-01j,\n",
       "        -0.29558021+0.00000000e+00j,  0.29401628+2.90888404e-01j,\n",
       "         0.        +0.00000000e+00j],\n",
       "       [ 0.02455674-1.53469794e+00j, -0.78591387+7.73439043e-01j,\n",
       "         0.01646939+0.00000000e+00j, -0.78591387-7.73439043e-01j,\n",
       "         0.02455674+1.53469794e+00j]])"
      ]
     },
     "execution_count": 16,
     "metadata": {},
     "output_type": "execute_result"
    }
   ],
   "source": [
    "Llm_y4_t.V_matrix"
   ]
  },
  {
   "cell_type": "code",
   "execution_count": 17,
   "metadata": {},
   "outputs": [
    {
     "data": {
      "text/plain": [
       "array([[ 0.        +0.00000000e+00j,  0.        +0.00000000e+00j,\n",
       "         0.77239926-1.35525272e-20j,  0.        +0.00000000e+00j,\n",
       "         0.        +0.00000000e+00j],\n",
       "       [ 0.        +0.00000000e+00j,  0.29401628-2.90888404e-01j,\n",
       "        -0.29558021+0.00000000e+00j,  0.29401628+2.90888404e-01j,\n",
       "         0.        +0.00000000e+00j],\n",
       "       [ 0.02455674-1.53469794e+00j, -0.78591387+7.73439043e-01j,\n",
       "         0.01646939+0.00000000e+00j, -0.78591387-7.73439043e-01j,\n",
       "         0.02455674+1.53469794e+00j]])"
      ]
     },
     "execution_count": 17,
     "metadata": {},
     "output_type": "execute_result"
    }
   ],
   "source": [
    "Llm_y4_t.V_matrix"
   ]
  },
  {
   "cell_type": "code",
   "execution_count": 18,
   "metadata": {},
   "outputs": [
    {
     "data": {
      "text/plain": [
       "array([[ 0.        +0.        j,  0.        +0.        j,\n",
       "         0.76636791+0.        j,  0.        +0.        j,\n",
       "         0.        +0.        j],\n",
       "       [ 0.        +0.        j,  0.33982778-0.33532675j,\n",
       "        -0.34207829+0.        j,  0.33982778+0.33532675j,\n",
       "         0.        +0.        j],\n",
       "       [ 0.01189595-0.89215645j, -0.45505966+0.44903238j,\n",
       "         0.00797029+0.        j, -0.45505966-0.44903238j,\n",
       "         0.01189595+0.89215645j]])"
      ]
     },
     "execution_count": 18,
     "metadata": {},
     "output_type": "execute_result"
    }
   ],
   "source": [
    "Llm_y4.V_matrix"
   ]
  },
  {
   "cell_type": "code",
   "execution_count": null,
   "metadata": {
    "collapsed": true
   },
   "outputs": [],
   "source": []
  },
  {
   "cell_type": "code",
   "execution_count": 19,
   "metadata": {},
   "outputs": [
    {
     "data": {
      "text/plain": [
       "array([0.17320508, 0.95531662, 0.78539816])"
      ]
     },
     "execution_count": 19,
     "metadata": {},
     "output_type": "execute_result"
    }
   ],
   "source": [
    "x = np.array([0.1, 0.1, 0.1])\n",
    "op.cartesian_to_spherical(x)"
   ]
  },
  {
   "cell_type": "code",
   "execution_count": 20,
   "metadata": {},
   "outputs": [
    {
     "data": {
      "text/plain": [
       "array([0.17320508, 0.95531662, 0.78539816])"
      ]
     },
     "execution_count": 20,
     "metadata": {},
     "output_type": "execute_result"
    }
   ],
   "source": [
    "x = [0.1, 0.1, 0.1]\n",
    "op.cartesian_to_spherical(x)"
   ]
  }
 ],
 "metadata": {
  "anaconda-cloud": {},
  "kernelspec": {
   "display_name": "Python 3",
   "language": "python",
   "name": "python3"
  },
  "language_info": {
   "codemirror_mode": {
    "name": "ipython",
    "version": 3
   },
   "file_extension": ".py",
   "mimetype": "text/x-python",
   "name": "python",
   "nbconvert_exporter": "python",
   "pygments_lexer": "ipython3",
   "version": "3.5.4"
  }
 },
 "nbformat": 4,
 "nbformat_minor": 2
}
