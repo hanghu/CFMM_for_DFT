{
 "cells": [
  {
   "cell_type": "code",
   "execution_count": 1,
   "metadata": {
    "collapsed": true
   },
   "outputs": [],
   "source": [
    "import os\n",
    "import sys\n",
    "module_path = os.path.abspath(os.path.join('..'))\n",
    "if module_path not in sys.path:\n",
    "    sys.path.append(module_path)\n",
    "from fast_multipole_method import operation as op\n",
    "import numpy as np"
   ]
  },
  {
   "cell_type": "code",
   "execution_count": 2,
   "metadata": {
    "collapsed": true
   },
   "outputs": [],
   "source": [
    "x1 = np.array([0.13, 0.14, 0.09])\n",
    "x2 = np.array([0.83, 0.76, 0.92])\n",
    "y1 = np.array([0.125, 0.125, 0.125])\n",
    "y2 = np.array([0.25, 0.25, 0.25])\n",
    "y3 = np.array([0.75, 0.75, 0.75])\n",
    "y4 = np.array([0.875, 0.875, 0.875])"
   ]
  },
  {
   "cell_type": "code",
   "execution_count": 3,
   "metadata": {},
   "outputs": [
    {
     "data": {
      "text/plain": [
       "0.7997952786096606"
      ]
     },
     "execution_count": 3,
     "metadata": {},
     "output_type": "execute_result"
    }
   ],
   "source": [
    "analytical = 1 / op.distance_cal(x1, x2)\n",
    "analytical"
   ]
  },
  {
   "cell_type": "code",
   "execution_count": 4,
   "metadata": {
    "collapsed": true
   },
   "outputs": [],
   "source": [
    "p = range(1,50)\n",
    "error = []\n",
    "for i in range(0,len(p)):\n",
    "    r1_y1 = op.cartesian_to_spherical(x1 - y1)\n",
    "    r2_y1 = op.cartesian_to_spherical(x2 - y1)\n",
    "    Mlm_1_y1 = op.M_expansion(p[i], r1_y1)\n",
    "    Llm_2_y1 = op.L_expansion(p[i], r2_y1)\n",
    "    error.append(np.abs(Mlm_1_y1.product(Llm_2_y1).sum().real - analytical)/analytical)"
   ]
  },
  {
   "cell_type": "code",
   "execution_count": 5,
   "metadata": {
    "collapsed": true
   },
   "outputs": [],
   "source": [
    "import matplotlib.pyplot as plt\n",
    "plt.style.use('ggplot')\n",
    "%matplotlib inline"
   ]
  },
  {
   "cell_type": "code",
   "execution_count": 6,
   "metadata": {},
   "outputs": [
    {
     "data": {
      "text/plain": [
       "[<matplotlib.lines.Line2D at 0x150c45d7f0>]"
      ]
     },
     "execution_count": 6,
     "metadata": {},
     "output_type": "execute_result"
    },
    {
     "data": {
      "image/png": "[encoded data removed]",
      "text/plain": [
       "<matplotlib.figure.Figure at 0x150b613630>"
      ]
     },
     "metadata": {},
     "output_type": "display_data"
    }
   ],
   "source": [
    "plt.semilogy(p, error)"
   ]
  },
  {
   "cell_type": "code",
   "execution_count": 7,
   "metadata": {},
   "outputs": [
    {
     "data": {
      "text/plain": [
       "[<matplotlib.lines.Line2D at 0x150ce25ef0>]"
      ]
     },
     "execution_count": 7,
     "metadata": {},
     "output_type": "execute_result"
    },
    {
     "data": {
      "image/png": "[encoded data removed]",
      "text/plain": [
       "<matplotlib.figure.Figure at 0x150c9c1278>"
      ]
     },
     "metadata": {},
     "output_type": "display_data"
    }
   ],
   "source": [
    "plt.plot(p, error)"
   ]
  },
  {
   "cell_type": "code",
   "execution_count": 8,
   "metadata": {},
   "outputs": [
    {
     "data": {
      "text/plain": [
       "array([[ 0.00000000e+00+0.000000e+00j,  0.00000000e+00+0.000000e+00j,\n",
       "         0.00000000e+00+0.000000e+00j,  1.00000000e+00+0.000000e+00j,\n",
       "         0.00000000e+00+0.000000e+00j,  0.00000000e+00+0.000000e+00j,\n",
       "         0.00000000e+00+0.000000e+00j],\n",
       "       [ 0.00000000e+00+0.000000e+00j,  0.00000000e+00+0.000000e+00j,\n",
       "        -2.50000000e-03-7.500000e-03j, -3.50000000e-02+0.000000e+00j,\n",
       "        -2.50000000e-03+7.500000e-03j,  0.00000000e+00+0.000000e+00j,\n",
       "         0.00000000e+00+0.000000e+00j],\n",
       "       [ 0.00000000e+00+0.000000e+00j, -2.50000000e-05+1.875000e-05j,\n",
       "         8.75000000e-05+2.625000e-04j,  5.50000000e-04+0.000000e+00j,\n",
       "         8.75000000e-05-2.625000e-04j, -2.50000000e-05-1.875000e-05j,\n",
       "         0.00000000e+00+0.000000e+00j],\n",
       "       [ 6.77083333e-08+4.687500e-08j,  8.75000000e-07-6.562500e-07j,\n",
       "        -1.45312500e-06-4.359375e-06j, -4.95833333e-06+0.000000e+00j,\n",
       "        -1.45312500e-06+4.359375e-06j,  8.75000000e-07+6.562500e-07j,\n",
       "         6.77083333e-08-4.687500e-08j]])"
      ]
     },
     "execution_count": 8,
     "metadata": {},
     "output_type": "execute_result"
    }
   ],
   "source": [
    "p = 3\n",
    "op.M_expansion(p, op.cartesian_to_spherical(x1 - y1)).V_matrix"
   ]
  },
  {
   "cell_type": "code",
   "execution_count": 9,
   "metadata": {},
   "outputs": [
    {
     "data": {
      "text/plain": [
       "array([[ 0.00000000e+00+0.000000e+00j,  0.00000000e+00+0.000000e+00j,\n",
       "         0.00000000e+00+0.000000e+00j,  1.00000000e+00+0.000000e+00j,\n",
       "         0.00000000e+00+0.000000e+00j,  0.00000000e+00+0.000000e+00j,\n",
       "         0.00000000e+00+0.000000e+00j],\n",
       "       [ 0.00000000e+00+0.000000e+00j,  0.00000000e+00+0.000000e+00j,\n",
       "         2.50000000e-03+7.500000e-03j,  3.50000000e-02+0.000000e+00j,\n",
       "         2.50000000e-03-7.500000e-03j,  0.00000000e+00+0.000000e+00j,\n",
       "         0.00000000e+00+0.000000e+00j],\n",
       "       [ 0.00000000e+00+0.000000e+00j, -2.50000000e-05+1.875000e-05j,\n",
       "         8.75000000e-05+2.625000e-04j,  5.50000000e-04+0.000000e+00j,\n",
       "         8.75000000e-05-2.625000e-04j, -2.50000000e-05-1.875000e-05j,\n",
       "         0.00000000e+00+0.000000e+00j],\n",
       "       [-6.77083333e-08-4.687500e-08j, -8.75000000e-07+6.562500e-07j,\n",
       "         1.45312500e-06+4.359375e-06j,  4.95833333e-06+0.000000e+00j,\n",
       "         1.45312500e-06-4.359375e-06j, -8.75000000e-07-6.562500e-07j,\n",
       "        -6.77083333e-08+4.687500e-08j]])"
      ]
     },
     "execution_count": 9,
     "metadata": {},
     "output_type": "execute_result"
    }
   ],
   "source": [
    "op.M_expansion(p, op.cartesian_to_spherical(y1 - x1)).V_matrix"
   ]
  },
  {
   "cell_type": "code",
   "execution_count": null,
   "metadata": {
    "collapsed": true
   },
   "outputs": [],
   "source": []
  }
 ],
 "metadata": {
  "anaconda-cloud": {},
  "kernelspec": {
   "display_name": "Python 3",
   "language": "python",
   "name": "python3"
  },
  "language_info": {
   "codemirror_mode": {
    "name": "ipython",
    "version": 3
   },
   "file_extension": ".py",
   "mimetype": "text/x-python",
   "name": "python",
   "nbconvert_exporter": "python",
   "pygments_lexer": "ipython3",
   "version": "3.5.4"
  }
 },
 "nbformat": 4,
 "nbformat_minor": 1
}
