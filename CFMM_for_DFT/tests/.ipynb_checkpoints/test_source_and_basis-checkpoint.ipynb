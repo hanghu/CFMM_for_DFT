{
 "cells": [
  {
   "cell_type": "code",
   "execution_count": 1,
   "metadata": {
    "collapsed": true
   },
   "outputs": [],
   "source": [
    "import os\n",
    "import sys\n",
    "module_path = os.path.abspath(os.path.join('..'))\n",
    "if module_path not in sys.path:\n",
    "    sys.path.append(module_path)\n",
    "import numpy as np"
   ]
  },
  {
   "cell_type": "code",
   "execution_count": 2,
   "metadata": {},
   "outputs": [],
   "source": [
    "from fmm_source import ggq_dist\n",
    "from basic_operations import Vlm"
   ]
  },
  {
   "cell_type": "code",
   "execution_count": 3,
   "metadata": {
    "collapsed": true
   },
   "outputs": [],
   "source": [
    "a = ggq_dist([0.4, 0.5, 0.3], 0.4, 1, [0, 1, 1])"
   ]
  },
  {
   "cell_type": "code",
   "execution_count": 4,
   "metadata": {},
   "outputs": [],
   "source": [
    "a.Mlm = Vlm(5)"
   ]
  },
  {
   "cell_type": "code",
   "execution_count": 5,
   "metadata": {},
   "outputs": [],
   "source": [
    "[t,u,v] =a.Mlm_init()"
   ]
  },
  {
   "cell_type": "code",
   "execution_count": 6,
   "metadata": {},
   "outputs": [
    {
     "data": {
      "text/plain": [
       "array([[ 0. +0.        j,  0. +0.        j,  0. +0.        j,\n",
       "         0. +0.        j,  0. +0.        j,  0. +0.        j,\n",
       "         0. +0.        j,  0. +0.        j,  0. +0.        j,\n",
       "         0. +0.        j,  0. +0.        j],\n",
       "       [ 0. +0.        j,  0. +0.        j,  0. +0.        j,\n",
       "         0. +0.        j, -0. -0.        j,  0. +0.        j,\n",
       "        -0. +0.        j,  0. +0.        j,  0. +0.        j,\n",
       "         0. +0.        j,  0. +0.        j],\n",
       "       [ 0. +0.        j,  0. +0.        j,  0. +0.        j,\n",
       "         0. -0.        j, -0.+13.75671815j,  0. +0.        j,\n",
       "        -0.-13.75671815j,  0. +0.        j,  0. +0.        j,\n",
       "         0. +0.        j,  0. +0.        j],\n",
       "       [ 0. +0.        j,  0. +0.        j,  0. +0.        j,\n",
       "         0. +0.        j,  0. +0.        j,  0. +0.        j,\n",
       "         0. +0.        j,  0. +0.        j,  0. +0.        j,\n",
       "         0. +0.        j,  0. +0.        j],\n",
       "       [ 0. +0.        j,  0. +0.        j,  0. +0.        j,\n",
       "         0. +0.        j,  0. +0.        j,  0. +0.        j,\n",
       "         0. +0.        j,  0. +0.        j,  0. +0.        j,\n",
       "         0. +0.        j,  0. +0.        j],\n",
       "       [ 0. +0.        j,  0. +0.        j,  0. +0.        j,\n",
       "         0. +0.        j,  0. +0.        j,  0. +0.        j,\n",
       "         0. +0.        j,  0. +0.        j,  0. +0.        j,\n",
       "         0. +0.        j,  0. +0.        j]])"
      ]
     },
     "execution_count": 6,
     "metadata": {},
     "output_type": "execute_result"
    }
   ],
   "source": [
    "a.Mlm.V_matrix"
   ]
  },
  {
   "cell_type": "code",
   "execution_count": 7,
   "metadata": {},
   "outputs": [],
   "source": [
    "from contracted_basis import CAO_basis"
   ]
  },
  {
   "cell_type": "code",
   "execution_count": 8,
   "metadata": {},
   "outputs": [],
   "source": [
    "mu = CAO_basis(np.array([0.5, 0.5, 0.5]), \"C\", 2, np.array([1, 0, 0]))"
   ]
  },
  {
   "cell_type": "code",
   "execution_count": 9,
   "metadata": {},
   "outputs": [],
   "source": [
    "nu = CAO_basis(np.array([0.25, 0.25, 0.25]), \"C\", 2, np.array([0, 1, 0]))"
   ]
  },
  {
   "cell_type": "code",
   "execution_count": 10,
   "metadata": {},
   "outputs": [],
   "source": [
    "a_mu = np.array([mu.a]*len(mu.a))\n",
    "a_nu = np.array([nu.a]*3)"
   ]
  },
  {
   "cell_type": "code",
   "execution_count": 11,
   "metadata": {},
   "outputs": [],
   "source": [
    "x_mu = np.array([[mu.x]*3]*3)"
   ]
  },
  {
   "cell_type": "code",
   "execution_count": 12,
   "metadata": {},
   "outputs": [],
   "source": [
    "x_nu = np.array([[nu.x]*3]*3)"
   ]
  },
  {
   "cell_type": "code",
   "execution_count": 13,
   "metadata": {},
   "outputs": [
    {
     "data": {
      "text/plain": [
       "array([[2.9412494, 2.9412494, 2.9412494],\n",
       "       [0.6834831, 0.6834831, 0.6834831],\n",
       "       [0.2222899, 0.2222899, 0.2222899]])"
      ]
     },
     "execution_count": 13,
     "metadata": {},
     "output_type": "execute_result"
    }
   ],
   "source": [
    "a_mu.transpose()"
   ]
  },
  {
   "cell_type": "code",
   "execution_count": 14,
   "metadata": {},
   "outputs": [
    {
     "data": {
      "text/plain": [
       "array([[2.9412494, 0.6834831, 0.2222899],\n",
       "       [2.9412494, 0.6834831, 0.2222899],\n",
       "       [2.9412494, 0.6834831, 0.2222899]])"
      ]
     },
     "execution_count": 14,
     "metadata": {},
     "output_type": "execute_result"
    }
   ],
   "source": [
    "a_nu"
   ]
  },
  {
   "cell_type": "code",
   "execution_count": 15,
   "metadata": {},
   "outputs": [],
   "source": [
    "x_p = np.zeros(shape=(a_mu.shape[0], a_mu.shape[1], 3))"
   ]
  },
  {
   "cell_type": "code",
   "execution_count": null,
   "metadata": {
    "collapsed": true
   },
   "outputs": [],
   "source": []
  },
  {
   "cell_type": "code",
   "execution_count": 16,
   "metadata": {},
   "outputs": [
    {
     "data": {
      "text/plain": [
       "array([[[0., 0., 0.],\n",
       "        [0., 0., 0.],\n",
       "        [0., 0., 0.]],\n",
       "\n",
       "       [[0., 0., 0.],\n",
       "        [0., 0., 0.],\n",
       "        [0., 0., 0.]],\n",
       "\n",
       "       [[0., 0., 0.],\n",
       "        [0., 0., 0.],\n",
       "        [0., 0., 0.]]])"
      ]
     },
     "execution_count": 16,
     "metadata": {},
     "output_type": "execute_result"
    }
   ],
   "source": [
    "x_p"
   ]
  },
  {
   "cell_type": "code",
   "execution_count": 17,
   "metadata": {},
   "outputs": [],
   "source": [
    "for i in range(0, a_mu.shape[0]):\n",
    "    for j in range(0, a_mu.shape[1]):\n",
    "        x_p[i][j] = (x_mu[i][j] * a_mu[j][i] + x_nu[i][j] * a_nu[i][j]) / (a_mu[j][i] + a_nu[i][j])"
   ]
  },
  {
   "cell_type": "code",
   "execution_count": 18,
   "metadata": {},
   "outputs": [
    {
     "data": {
      "text/plain": [
       "array([[[0.375     , 0.375     , 0.375     ],\n",
       "        [0.45285976, 0.45285976, 0.45285976],\n",
       "        [0.48243345, 0.48243345, 0.48243345]],\n",
       "\n",
       "       [[0.29714024, 0.29714024, 0.29714024],\n",
       "        [0.375     , 0.375     , 0.375     ],\n",
       "        [0.43864636, 0.43864636, 0.43864636]],\n",
       "\n",
       "       [[0.26756655, 0.26756655, 0.26756655],\n",
       "        [0.31135364, 0.31135364, 0.31135364],\n",
       "        [0.375     , 0.375     , 0.375     ]]])"
      ]
     },
     "execution_count": 18,
     "metadata": {},
     "output_type": "execute_result"
    }
   ],
   "source": [
    "x_p"
   ]
  },
  {
   "cell_type": "code",
   "execution_count": 19,
   "metadata": {},
   "outputs": [
    {
     "data": {
      "text/plain": [
       "array([[[1.4706247 , 1.4706247 , 1.4706247 ],\n",
       "        [0.34174155, 0.34174155, 0.34174155],\n",
       "        [0.11114495, 0.11114495, 0.11114495]],\n",
       "\n",
       "       [[1.4706247 , 1.4706247 , 1.4706247 ],\n",
       "        [0.34174155, 0.34174155, 0.34174155],\n",
       "        [0.11114495, 0.11114495, 0.11114495]],\n",
       "\n",
       "       [[1.4706247 , 1.4706247 , 1.4706247 ],\n",
       "        [0.34174155, 0.34174155, 0.34174155],\n",
       "        [0.11114495, 0.11114495, 0.11114495]]])"
      ]
     },
     "execution_count": 19,
     "metadata": {},
     "output_type": "execute_result"
    }
   ],
   "source": [
    "a_mu.transpose() * x_mu "
   ]
  },
  {
   "cell_type": "code",
   "execution_count": 20,
   "metadata": {},
   "outputs": [
    {
     "data": {
      "text/plain": [
       "array([2.9412494, 0.6834831, 0.2222899])"
      ]
     },
     "execution_count": 20,
     "metadata": {},
     "output_type": "execute_result"
    }
   ],
   "source": [
    "nu.a"
   ]
  },
  {
   "cell_type": "code",
   "execution_count": 21,
   "metadata": {},
   "outputs": [
    {
     "data": {
      "text/plain": [
       "array([[8.65094803, 2.01029426, 0.65381004],\n",
       "       [2.01029426, 0.46714915, 0.15193139],\n",
       "       [0.65381004, 0.15193139, 0.0494128 ]])"
      ]
     },
     "execution_count": 21,
     "metadata": {},
     "output_type": "execute_result"
    }
   ],
   "source": [
    "np.outer(mu.a, nu.a)"
   ]
  },
  {
   "cell_type": "code",
   "execution_count": 22,
   "metadata": {
    "collapsed": true
   },
   "outputs": [],
   "source": [
    "from contracted_basis import shell_pair"
   ]
  },
  {
   "cell_type": "code",
   "execution_count": 23,
   "metadata": {},
   "outputs": [],
   "source": [
    "sp = shell_pair(mu, nu)"
   ]
  },
  {
   "cell_type": "code",
   "execution_count": 25,
   "metadata": {},
   "outputs": [
    {
     "data": {
      "text/plain": [
       "array([[[0.375     , 0.375     , 0.375     ],\n",
       "        [0.45285976, 0.45285976, 0.45285976],\n",
       "        [0.48243345, 0.48243345, 0.48243345]],\n",
       "\n",
       "       [[0.29714024, 0.29714024, 0.29714024],\n",
       "        [0.375     , 0.375     , 0.375     ],\n",
       "        [0.43864636, 0.43864636, 0.43864636]],\n",
       "\n",
       "       [[0.26756655, 0.26756655, 0.26756655],\n",
       "        [0.31135364, 0.31135364, 0.31135364],\n",
       "        [0.375     , 0.375     , 0.375     ]]])"
      ]
     },
     "execution_count": 25,
     "metadata": {},
     "output_type": "execute_result"
    }
   ],
   "source": [
    "sp.X_p"
   ]
  },
  {
   "cell_type": "code",
   "execution_count": null,
   "metadata": {
    "collapsed": true
   },
   "outputs": [],
   "source": []
  }
 ],
 "metadata": {
  "kernelspec": {
   "display_name": "Python 3",
   "language": "python",
   "name": "python3"
  },
  "language_info": {
   "codemirror_mode": {
    "name": "ipython",
    "version": 3
   },
   "file_extension": ".py",
   "mimetype": "text/x-python",
   "name": "python",
   "nbconvert_exporter": "python",
   "pygments_lexer": "ipython3",
   "version": "3.5.4"
  }
 },
 "nbformat": 4,
 "nbformat_minor": 2
}
