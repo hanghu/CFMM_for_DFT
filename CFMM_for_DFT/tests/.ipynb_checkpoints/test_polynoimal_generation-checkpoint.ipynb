{
 "cells": [
  {
   "cell_type": "code",
   "execution_count": 1,
   "metadata": {
    "collapsed": true
   },
   "outputs": [],
   "source": [
    "import os\n",
    "import sys\n",
    "module_path = os.path.abspath(os.path.join('..'))\n",
    "if module_path not in sys.path:\n",
    "    sys.path.append(module_path)\n",
    "    \n",
    "from fast_multipole_method import operation as op\n",
    "import numpy as np\n",
    "from scipy.special import factorial as fc\n",
    "from scipy.special import factorial2 as fc2"
   ]
  },
  {
   "cell_type": "code",
   "execution_count": 2,
   "metadata": {
    "collapsed": true
   },
   "outputs": [],
   "source": [
    "def Pmm(m, x):\n",
    "    return fc2(2*m-1) * np.power((1 - x*x), m/2) / fc(2*m)"
   ]
  },
  {
   "cell_type": "code",
   "execution_count": 3,
   "metadata": {},
   "outputs": [
    {
     "data": {
      "text/plain": [
       "0.0002603190213822153288"
      ]
     },
     "execution_count": 3,
     "metadata": {},
     "output_type": "execute_result"
    }
   ],
   "source": [
    "Pmm(5, np.float128(0.01224745))"
   ]
  },
  {
   "cell_type": "code",
   "execution_count": 4,
   "metadata": {},
   "outputs": [
    {
     "data": {
      "text/plain": [
       "0.4999624985857683"
      ]
     },
     "execution_count": 4,
     "metadata": {},
     "output_type": "execute_result"
    }
   ],
   "source": [
    "Pmm(1, np.float64(0.01224745))"
   ]
  },
  {
   "cell_type": "code",
   "execution_count": 5,
   "metadata": {},
   "outputs": [
    {
     "data": {
      "text/plain": [
       "0.012247450000000000003"
      ]
     },
     "execution_count": 5,
     "metadata": {},
     "output_type": "execute_result"
    }
   ],
   "source": [
    "np.float128(0.01224745)"
   ]
  },
  {
   "cell_type": "code",
   "execution_count": 6,
   "metadata": {
    "collapsed": true
   },
   "outputs": [],
   "source": [
    "def Plm(P1, P2, x, l, m):\n",
    "    return (x * (2*l-1) * P1 - P2) / ((l+m) * (l-m))"
   ]
  },
  {
   "cell_type": "code",
   "execution_count": 7,
   "metadata": {},
   "outputs": [
    {
     "data": {
      "text/plain": [
       "-0.013531646875000004"
      ]
     },
     "execution_count": 7,
     "metadata": {},
     "output_type": "execute_result"
    }
   ],
   "source": [
    "Plm(-0.21650635, -0.4330127, 0.5, 3, 1)"
   ]
  },
  {
   "cell_type": "code",
   "execution_count": 8,
   "metadata": {},
   "outputs": [
    {
     "data": {
      "text/plain": [
       "numpy.complex128"
      ]
     },
     "execution_count": 8,
     "metadata": {},
     "output_type": "execute_result"
    }
   ],
   "source": [
    "type(np.power(0.3, 2)*Pmm(1, 0.5)*np.exp(-2*0.4*1j))"
   ]
  },
  {
   "cell_type": "code",
   "execution_count": 9,
   "metadata": {},
   "outputs": [
    {
     "data": {
      "text/plain": [
       "(0.6967067093471655-0.7173560908995228j)"
      ]
     },
     "execution_count": 9,
     "metadata": {},
     "output_type": "execute_result"
    }
   ],
   "source": [
    "np.exp(-2*0.4*1j)"
   ]
  },
  {
   "cell_type": "code",
   "execution_count": 10,
   "metadata": {
    "collapsed": true
   },
   "outputs": [],
   "source": [
    "from scipy.special import factorial"
   ]
  },
  {
   "cell_type": "code",
   "execution_count": 11,
   "metadata": {},
   "outputs": [
    {
     "data": {
      "text/plain": [
       "numpy.float64"
      ]
     },
     "execution_count": 11,
     "metadata": {},
     "output_type": "execute_result"
    }
   ],
   "source": [
    "type(op.cartesian_to_spherical([0.25, 0.25, 0.25])[1])"
   ]
  },
  {
   "cell_type": "code",
   "execution_count": 12,
   "metadata": {},
   "outputs": [
    {
     "data": {
      "text/plain": [
       "0.7853981633974483"
      ]
     },
     "execution_count": 12,
     "metadata": {},
     "output_type": "execute_result"
    }
   ],
   "source": [
    "op.cartesian_to_spherical([0.25, 0.25, 0.25])[2]"
   ]
  },
  {
   "cell_type": "code",
   "execution_count": 13,
   "metadata": {},
   "outputs": [
    {
     "data": {
      "text/plain": [
       "0.7853981633974483"
      ]
     },
     "execution_count": 13,
     "metadata": {},
     "output_type": "execute_result"
    }
   ],
   "source": [
    "op.cartesian_to_spherical(np.array([0.25, 0.25, 0.25]))[2]"
   ]
  },
  {
   "cell_type": "code",
   "execution_count": 14,
   "metadata": {
    "collapsed": true
   },
   "outputs": [],
   "source": [
    "\n",
    "def AL_polynoimal(p, x):\n",
    "    if p < 0:\n",
    "        raise Exception(\"Error: input level can not be nagative\")\n",
    "        \n",
    "    P = np.zeros(shape=(p+1, p+1), dtype=np.float128)\n",
    "    \n",
    "    for l in range(0, p+1):\n",
    "        P[l][l] = np.power(-1, l) * int(fc2(2*l-1)) * np.power(1-x*x, l/2)\n",
    "    \n",
    "    if p==0:\n",
    "        return P\n",
    "    elif p==1:\n",
    "        P[1][0] = x\n",
    "        return P\n",
    "    \n",
    "    for l in range(0, p+1):\n",
    "        for m in range(0, l):\n",
    "            P[l][m] = ((2*l-1) * x * P[l-1][m] - (l+m-1) * P[l-2][m]) / (l-m)\n",
    "    \n",
    "    return P"
   ]
  },
  {
   "cell_type": "code",
   "execution_count": 15,
   "metadata": {},
   "outputs": [
    {
     "data": {
      "text/plain": [
       "array([[ 1.00000000e+00,  0.00000000e+00,  0.00000000e+00,\n",
       "         0.00000000e+00,  0.00000000e+00,  0.00000000e+00,\n",
       "         0.00000000e+00,  0.00000000e+00,  0.00000000e+00,\n",
       "         0.00000000e+00,  0.00000000e+00],\n",
       "       [ 1.22474500e-02, -9.99924997e-01,  0.00000000e+00,\n",
       "         0.00000000e+00,  0.00000000e+00,  0.00000000e+00,\n",
       "         0.00000000e+00,  0.00000000e+00,  0.00000000e+00,\n",
       "         0.00000000e+00,  0.00000000e+00],\n",
       "       [-4.99775000e-01, -3.67395942e-02,  2.99955000e+00,\n",
       "         0.00000000e+00,  0.00000000e+00,  0.00000000e+00,\n",
       "         0.00000000e+00,  0.00000000e+00,  0.00000000e+00,\n",
       "         0.00000000e+00,  0.00000000e+00],\n",
       "       [-1.83665822e-02,  1.49876258e+00,  1.83684193e-01,\n",
       "        -1.49966251e+01,  0.00000000e+00,  0.00000000e+00,\n",
       "         0.00000000e+00,  0.00000000e+00,  0.00000000e+00,\n",
       "         0.00000000e+00,  0.00000000e+00],\n",
       "       [ 3.74437598e-01,  9.18168384e-02, -7.49100118e+00,\n",
       "        -1.28569291e+00,  1.04968502e+02,  0.00000000e+00,\n",
       "         0.00000000e+00,  0.00000000e+00,  0.00000000e+00,\n",
       "         0.00000000e+00,  0.00000000e+00],\n",
       "       [ 2.29478961e-02, -1.87092305e+00, -6.42605374e-01,\n",
       "         5.24173289e+01,  1.15703684e+01, -9.44645665e+02,\n",
       "         0.00000000e+00,  0.00000000e+00,  0.00000000e+00,\n",
       "         0.00000000e+00,  0.00000000e+00],\n",
       "       [-3.11516068e-01, -1.60591086e-01,  1.30876088e+01,\n",
       "         5.78243603e+00, -4.71578869e+02, -1.27264506e+02,\n",
       "         1.03903230e+04,  0.00000000e+00,  0.00000000e+00,\n",
       "         0.00000000e+00,  0.00000000e+00],\n",
       "       [-2.67551406e-02,  2.17848209e+00,  1.44492217e+00,\n",
       "        -1.17708825e+02, -6.35956619e+01,  5.18541983e+03,\n",
       "         1.65431449e+03, -1.35064067e+05,  0.00000000e+00,\n",
       "         0.00000000e+00,  0.00000000e+00],\n",
       "       [ 2.71962155e-01,  2.40705921e-01, -1.95871717e+01,\n",
       "        -1.58897709e+01,  1.29392107e+03,  8.26598875e+02,\n",
       "        -6.73851407e+04, -2.48128562e+04,  2.02580906e+06,\n",
       "         0.00000000e+00,  0.00000000e+00],\n",
       "       [ 3.00739393e-02, -2.44452778e+00, -2.64677158e+00,\n",
       "         2.15248119e+02,  2.06510183e+02, -1.68095886e+04,\n",
       "        -1.23968124e+04,  1.01039740e+06,  4.21786918e+05,\n",
       "        -3.44361710e+07,  0.00000000e+00],\n",
       "       [-2.44066114e-01, -3.30656068e-01,  2.68553726e+01,\n",
       "         3.43951174e+01, -2.79548645e+03, -3.09680031e+03,\n",
       "         2.51973088e+05,  2.10708914e+05, -1.71703018e+07,\n",
       "        -8.01335037e+06,  6.54238175e+08]], dtype=float128)"
      ]
     },
     "execution_count": 15,
     "metadata": {},
     "output_type": "execute_result"
    }
   ],
   "source": [
    "AL = AL_polynoimal(10, np.float128(0.01224745)) \n",
    "AL"
   ]
  },
  {
   "cell_type": "code",
   "execution_count": 16,
   "metadata": {},
   "outputs": [
    {
     "data": {
      "text/plain": [
       "0.17593293469669278287"
      ]
     },
     "execution_count": 16,
     "metadata": {},
     "output_type": "execute_result"
    }
   ],
   "source": [
    "AL[10][10] ** 2 / fc(20)"
   ]
  },
  {
   "cell_type": "code",
   "execution_count": 17,
   "metadata": {
    "collapsed": true
   },
   "outputs": [],
   "source": [
    "from scipy.special import lpmn\n",
    "[P0lm, _] = lpmn(10, 10, np.float128(0.01224745))"
   ]
  },
  {
   "cell_type": "code",
   "execution_count": null,
   "metadata": {
    "collapsed": true
   },
   "outputs": [],
   "source": []
  }
 ],
 "metadata": {
  "anaconda-cloud": {},
  "kernelspec": {
   "display_name": "Python 3",
   "language": "python",
   "name": "python3"
  },
  "language_info": {
   "codemirror_mode": {
    "name": "ipython",
    "version": 3
   },
   "file_extension": ".py",
   "mimetype": "text/x-python",
   "name": "python",
   "nbconvert_exporter": "python",
   "pygments_lexer": "ipython3",
   "version": "3.5.4"
  }
 },
 "nbformat": 4,
 "nbformat_minor": 2
}
