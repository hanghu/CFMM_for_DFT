{
 "cells": [
  {
   "cell_type": "markdown",
   "metadata": {},
   "source": [
    "# Step 3 Calculating interaction of randomly generated particles in 3D space"
   ]
  },
  {
   "cell_type": "code",
   "execution_count": 1,
   "metadata": {
    "collapsed": true
   },
   "outputs": [],
   "source": [
    "import numpy as np\n",
    "from scipy.special import lpmn, factorial\n",
    "from multipole import Vlm\n",
    "from multipole import operation as op"
   ]
  },
  {
   "cell_type": "code",
   "execution_count": 2,
   "metadata": {
    "collapsed": true
   },
   "outputs": [],
   "source": [
    "import matplotlib.pyplot as plt\n",
    "from mpl_toolkits.mplot3d import Axes3D\n",
    "%matplotlib inline\n",
    "plt.style.use('ggplot')\n",
    "def plot_3d(x):\n",
    "    \"\"\"plot particles in 3 dimentional\"\"\"\n",
    "    y = np.transpose(x)\n",
    "    fig = plt.figure(figsize=(8,8))\n",
    "    ax = fig.add_subplot(111, projection='3d')\n",
    "    ax.scatter(y[0], y[1], y[2])\n",
    "    ax = ax.view_init(30)\n",
    "    plt.show()\n",
    "    return "
   ]
  },
  {
   "cell_type": "code",
   "execution_count": 48,
   "metadata": {
    "collapsed": true
   },
   "outputs": [],
   "source": [
    "#case 3.1 construction: random particles\n",
    "num_particles = 100\n",
    "x_i = np.ndarray(shape=(3, num_particles))\n",
    "x_i[0] = 20 * np.random.rand(num_particles) - 10\n",
    "x_i[1] = 20 * np.random.rand(num_particles) - 10\n",
    "x_i[2] = 20 * np.random.rand(num_particles) - 10\n",
    "x_i = np.transpose(x_i)\n",
    "q = np.ones(num_particles)"
   ]
  },
  {
   "cell_type": "code",
   "execution_count": 98,
   "metadata": {
    "collapsed": true
   },
   "outputs": [],
   "source": [
    "#case 3.2 construction: nearly uniform distributed particles:\n",
    "num_particles_in_a_box = 1\n",
    "num_particels_1D = 3\n",
    "num_particles = num_particles_in_a_box * num_particels_1D **3\n",
    "X = np.zeros(shape=(num_particles,3))\n",
    "\n",
    "for i in range(0,num_particels_1D):\n",
    "    for j in range(0,num_particels_1D):\n",
    "        for k in range(0,num_particels_1D):\n",
    "            X[i*num_particels_1D*num_particels_1D+j*num_particels_1D+k] = [i,j,k] \n",
    "\n",
    "q = np.ones(num_particles)"
   ]
  },
  {
   "cell_type": "code",
   "execution_count": null,
   "metadata": {
    "collapsed": false
   },
   "outputs": [],
   "source": [
    "plot_3d(x0_i)"
   ]
  },
  {
   "cell_type": "code",
   "execution_count": 99,
   "metadata": {
    "collapsed": true
   },
   "outputs": [],
   "source": [
    "[x0_i, scale_factor] = op.cartesian_scaling_to_unit_range(X)"
   ]
  },
  {
   "cell_type": "markdown",
   "metadata": {},
   "source": [
    "import timeit\n",
    "\n",
    "start = timeit.default_timer()\n",
    "\n",
    "[x0_i, scale_factor] = op.cartesian_scaling_to_unit_range(x_i)\n",
    "\n",
    "stop = timeit.default_timer()\n",
    "\n",
    "print(stop - start) "
   ]
  },
  {
   "cell_type": "code",
   "execution_count": 100,
   "metadata": {
    "collapsed": false
   },
   "outputs": [
    {
     "data": {
      "text/plain": [
       "array([[ 0.        ,  1.000001  ,  0.5000005 ,  1.000001  ,  0.70710749,\n",
       "         0.44721404,  0.5000005 ,  0.44721404,  0.35355374,  1.000001  ,\n",
       "         0.70710749,  0.44721404,  0.70710749,  0.57735085,  0.4082487 ,\n",
       "         0.44721404,  0.4082487 ,  0.33333367,  0.5000005 ,  0.44721404,\n",
       "         0.35355374,  0.44721404,  0.4082487 ,  0.33333367,  0.35355374,\n",
       "         0.33333367,  0.28867542],\n",
       "       [ 0.        ,  0.        ,  1.000001  ,  0.70710749,  1.000001  ,\n",
       "         0.70710749,  0.44721404,  0.5000005 ,  0.44721404,  0.70710749,\n",
       "         1.000001  ,  0.70710749,  0.57735085,  0.70710749,  0.57735085,\n",
       "         0.4082487 ,  0.44721404,  0.4082487 ,  0.44721404,  0.5000005 ,\n",
       "         0.44721404,  0.4082487 ,  0.44721404,  0.4082487 ,  0.33333367,\n",
       "         0.35355374,  0.33333367],\n",
       "       [ 0.        ,  0.        ,  0.        ,  0.44721404,  0.70710749,\n",
       "         1.000001  ,  0.35355374,  0.44721404,  0.5000005 ,  0.44721404,\n",
       "         0.70710749,  1.000001  ,  0.4082487 ,  0.57735085,  0.70710749,\n",
       "         0.33333367,  0.4082487 ,  0.44721404,  0.35355374,  0.44721404,\n",
       "         0.5000005 ,  0.33333367,  0.4082487 ,  0.44721404,  0.28867542,\n",
       "         0.33333367,  0.35355374],\n",
       "       [ 0.        ,  0.        ,  0.        ,  0.        ,  1.000001  ,\n",
       "         0.5000005 ,  1.000001  ,  0.70710749,  0.44721404,  0.70710749,\n",
       "         0.57735085,  0.4082487 ,  1.000001  ,  0.70710749,  0.44721404,\n",
       "         0.70710749,  0.57735085,  0.4082487 ,  0.44721404,  0.4082487 ,\n",
       "         0.33333367,  0.5000005 ,  0.44721404,  0.35355374,  0.44721404,\n",
       "         0.4082487 ,  0.33333367],\n",
       "       [ 0.        ,  0.        ,  0.        ,  0.        ,  0.        ,\n",
       "         1.000001  ,  0.70710749,  1.000001  ,  0.70710749,  0.57735085,\n",
       "         0.70710749,  0.57735085,  0.70710749,  1.000001  ,  0.70710749,\n",
       "         0.57735085,  0.70710749,  0.57735085,  0.4082487 ,  0.44721404,\n",
       "         0.4082487 ,  0.44721404,  0.5000005 ,  0.44721404,  0.4082487 ,\n",
       "         0.44721404,  0.4082487 ],\n",
       "       [ 0.        ,  0.        ,  0.        ,  0.        ,  0.        ,\n",
       "         0.        ,  0.44721404,  0.70710749,  1.000001  ,  0.4082487 ,\n",
       "         0.57735085,  0.70710749,  0.44721404,  0.70710749,  1.000001  ,\n",
       "         0.4082487 ,  0.57735085,  0.70710749,  0.33333367,  0.4082487 ,\n",
       "         0.44721404,  0.35355374,  0.44721404,  0.5000005 ,  0.33333367,\n",
       "         0.4082487 ,  0.44721404],\n",
       "       [ 0.        ,  0.        ,  0.        ,  0.        ,  0.        ,\n",
       "         0.        ,  0.        ,  1.000001  ,  0.5000005 ,  0.44721404,\n",
       "         0.4082487 ,  0.33333367,  0.70710749,  0.57735085,  0.4082487 ,\n",
       "         1.000001  ,  0.70710749,  0.44721404,  0.35355374,  0.33333367,\n",
       "         0.28867542,  0.44721404,  0.4082487 ,  0.33333367,  0.5000005 ,\n",
       "         0.44721404,  0.35355374],\n",
       "       [ 0.        ,  0.        ,  0.        ,  0.        ,  0.        ,\n",
       "         0.        ,  0.        ,  0.        ,  1.000001  ,  0.4082487 ,\n",
       "         0.44721404,  0.4082487 ,  0.57735085,  0.70710749,  0.57735085,\n",
       "         0.70710749,  1.000001  ,  0.70710749,  0.33333367,  0.35355374,\n",
       "         0.33333367,  0.4082487 ,  0.44721404,  0.4082487 ,  0.44721404,\n",
       "         0.5000005 ,  0.44721404],\n",
       "       [ 0.        ,  0.        ,  0.        ,  0.        ,  0.        ,\n",
       "         0.        ,  0.        ,  0.        ,  0.        ,  0.33333367,\n",
       "         0.4082487 ,  0.44721404,  0.4082487 ,  0.57735085,  0.70710749,\n",
       "         0.44721404,  0.70710749,  1.000001  ,  0.28867542,  0.33333367,\n",
       "         0.35355374,  0.33333367,  0.4082487 ,  0.44721404,  0.35355374,\n",
       "         0.44721404,  0.5000005 ],\n",
       "       [ 0.        ,  0.        ,  0.        ,  0.        ,  0.        ,\n",
       "         0.        ,  0.        ,  0.        ,  0.        ,  0.        ,\n",
       "         1.000001  ,  0.5000005 ,  1.000001  ,  0.70710749,  0.44721404,\n",
       "         0.5000005 ,  0.44721404,  0.35355374,  1.000001  ,  0.70710749,\n",
       "         0.44721404,  0.70710749,  0.57735085,  0.4082487 ,  0.44721404,\n",
       "         0.4082487 ,  0.33333367],\n",
       "       [ 0.        ,  0.        ,  0.        ,  0.        ,  0.        ,\n",
       "         0.        ,  0.        ,  0.        ,  0.        ,  0.        ,\n",
       "         0.        ,  1.000001  ,  0.70710749,  1.000001  ,  0.70710749,\n",
       "         0.44721404,  0.5000005 ,  0.44721404,  0.70710749,  1.000001  ,\n",
       "         0.70710749,  0.57735085,  0.70710749,  0.57735085,  0.4082487 ,\n",
       "         0.44721404,  0.4082487 ],\n",
       "       [ 0.        ,  0.        ,  0.        ,  0.        ,  0.        ,\n",
       "         0.        ,  0.        ,  0.        ,  0.        ,  0.        ,\n",
       "         0.        ,  0.        ,  0.44721404,  0.70710749,  1.000001  ,\n",
       "         0.35355374,  0.44721404,  0.5000005 ,  0.44721404,  0.70710749,\n",
       "         1.000001  ,  0.4082487 ,  0.57735085,  0.70710749,  0.33333367,\n",
       "         0.4082487 ,  0.44721404],\n",
       "       [ 0.        ,  0.        ,  0.        ,  0.        ,  0.        ,\n",
       "         0.        ,  0.        ,  0.        ,  0.        ,  0.        ,\n",
       "         0.        ,  0.        ,  0.        ,  1.000001  ,  0.5000005 ,\n",
       "         1.000001  ,  0.70710749,  0.44721404,  0.70710749,  0.57735085,\n",
       "         0.4082487 ,  1.000001  ,  0.70710749,  0.44721404,  0.70710749,\n",
       "         0.57735085,  0.4082487 ],\n",
       "       [ 0.        ,  0.        ,  0.        ,  0.        ,  0.        ,\n",
       "         0.        ,  0.        ,  0.        ,  0.        ,  0.        ,\n",
       "         0.        ,  0.        ,  0.        ,  0.        ,  1.000001  ,\n",
       "         0.70710749,  1.000001  ,  0.70710749,  0.57735085,  0.70710749,\n",
       "         0.57735085,  0.70710749,  1.000001  ,  0.70710749,  0.57735085,\n",
       "         0.70710749,  0.57735085],\n",
       "       [ 0.        ,  0.        ,  0.        ,  0.        ,  0.        ,\n",
       "         0.        ,  0.        ,  0.        ,  0.        ,  0.        ,\n",
       "         0.        ,  0.        ,  0.        ,  0.        ,  0.        ,\n",
       "         0.44721404,  0.70710749,  1.000001  ,  0.4082487 ,  0.57735085,\n",
       "         0.70710749,  0.44721404,  0.70710749,  1.000001  ,  0.4082487 ,\n",
       "         0.57735085,  0.70710749],\n",
       "       [ 0.        ,  0.        ,  0.        ,  0.        ,  0.        ,\n",
       "         0.        ,  0.        ,  0.        ,  0.        ,  0.        ,\n",
       "         0.        ,  0.        ,  0.        ,  0.        ,  0.        ,\n",
       "         0.        ,  1.000001  ,  0.5000005 ,  0.44721404,  0.4082487 ,\n",
       "         0.33333367,  0.70710749,  0.57735085,  0.4082487 ,  1.000001  ,\n",
       "         0.70710749,  0.44721404],\n",
       "       [ 0.        ,  0.        ,  0.        ,  0.        ,  0.        ,\n",
       "         0.        ,  0.        ,  0.        ,  0.        ,  0.        ,\n",
       "         0.        ,  0.        ,  0.        ,  0.        ,  0.        ,\n",
       "         0.        ,  0.        ,  1.000001  ,  0.4082487 ,  0.44721404,\n",
       "         0.4082487 ,  0.57735085,  0.70710749,  0.57735085,  0.70710749,\n",
       "         1.000001  ,  0.70710749],\n",
       "       [ 0.        ,  0.        ,  0.        ,  0.        ,  0.        ,\n",
       "         0.        ,  0.        ,  0.        ,  0.        ,  0.        ,\n",
       "         0.        ,  0.        ,  0.        ,  0.        ,  0.        ,\n",
       "         0.        ,  0.        ,  0.        ,  0.33333367,  0.4082487 ,\n",
       "         0.44721404,  0.4082487 ,  0.57735085,  0.70710749,  0.44721404,\n",
       "         0.70710749,  1.000001  ],\n",
       "       [ 0.        ,  0.        ,  0.        ,  0.        ,  0.        ,\n",
       "         0.        ,  0.        ,  0.        ,  0.        ,  0.        ,\n",
       "         0.        ,  0.        ,  0.        ,  0.        ,  0.        ,\n",
       "         0.        ,  0.        ,  0.        ,  0.        ,  1.000001  ,\n",
       "         0.5000005 ,  1.000001  ,  0.70710749,  0.44721404,  0.5000005 ,\n",
       "         0.44721404,  0.35355374],\n",
       "       [ 0.        ,  0.        ,  0.        ,  0.        ,  0.        ,\n",
       "         0.        ,  0.        ,  0.        ,  0.        ,  0.        ,\n",
       "         0.        ,  0.        ,  0.        ,  0.        ,  0.        ,\n",
       "         0.        ,  0.        ,  0.        ,  0.        ,  0.        ,\n",
       "         1.000001  ,  0.70710749,  1.000001  ,  0.70710749,  0.44721404,\n",
       "         0.5000005 ,  0.44721404],\n",
       "       [ 0.        ,  0.        ,  0.        ,  0.        ,  0.        ,\n",
       "         0.        ,  0.        ,  0.        ,  0.        ,  0.        ,\n",
       "         0.        ,  0.        ,  0.        ,  0.        ,  0.        ,\n",
       "         0.        ,  0.        ,  0.        ,  0.        ,  0.        ,\n",
       "         0.        ,  0.44721404,  0.70710749,  1.000001  ,  0.35355374,\n",
       "         0.44721404,  0.5000005 ],\n",
       "       [ 0.        ,  0.        ,  0.        ,  0.        ,  0.        ,\n",
       "         0.        ,  0.        ,  0.        ,  0.        ,  0.        ,\n",
       "         0.        ,  0.        ,  0.        ,  0.        ,  0.        ,\n",
       "         0.        ,  0.        ,  0.        ,  0.        ,  0.        ,\n",
       "         0.        ,  0.        ,  1.000001  ,  0.5000005 ,  1.000001  ,\n",
       "         0.70710749,  0.44721404],\n",
       "       [ 0.        ,  0.        ,  0.        ,  0.        ,  0.        ,\n",
       "         0.        ,  0.        ,  0.        ,  0.        ,  0.        ,\n",
       "         0.        ,  0.        ,  0.        ,  0.        ,  0.        ,\n",
       "         0.        ,  0.        ,  0.        ,  0.        ,  0.        ,\n",
       "         0.        ,  0.        ,  0.        ,  1.000001  ,  0.70710749,\n",
       "         1.000001  ,  0.70710749],\n",
       "       [ 0.        ,  0.        ,  0.        ,  0.        ,  0.        ,\n",
       "         0.        ,  0.        ,  0.        ,  0.        ,  0.        ,\n",
       "         0.        ,  0.        ,  0.        ,  0.        ,  0.        ,\n",
       "         0.        ,  0.        ,  0.        ,  0.        ,  0.        ,\n",
       "         0.        ,  0.        ,  0.        ,  0.        ,  0.44721404,\n",
       "         0.70710749,  1.000001  ],\n",
       "       [ 0.        ,  0.        ,  0.        ,  0.        ,  0.        ,\n",
       "         0.        ,  0.        ,  0.        ,  0.        ,  0.        ,\n",
       "         0.        ,  0.        ,  0.        ,  0.        ,  0.        ,\n",
       "         0.        ,  0.        ,  0.        ,  0.        ,  0.        ,\n",
       "         0.        ,  0.        ,  0.        ,  0.        ,  0.        ,\n",
       "         1.000001  ,  0.5000005 ],\n",
       "       [ 0.        ,  0.        ,  0.        ,  0.        ,  0.        ,\n",
       "         0.        ,  0.        ,  0.        ,  0.        ,  0.        ,\n",
       "         0.        ,  0.        ,  0.        ,  0.        ,  0.        ,\n",
       "         0.        ,  0.        ,  0.        ,  0.        ,  0.        ,\n",
       "         0.        ,  0.        ,  0.        ,  0.        ,  0.        ,\n",
       "         0.        ,  1.000001  ],\n",
       "       [ 0.        ,  0.        ,  0.        ,  0.        ,  0.        ,\n",
       "         0.        ,  0.        ,  0.        ,  0.        ,  0.        ,\n",
       "         0.        ,  0.        ,  0.        ,  0.        ,  0.        ,\n",
       "         0.        ,  0.        ,  0.        ,  0.        ,  0.        ,\n",
       "         0.        ,  0.        ,  0.        ,  0.        ,  0.        ,\n",
       "         0.        ,  0.        ]])"
      ]
     },
     "execution_count": 100,
     "metadata": {},
     "output_type": "execute_result"
    }
   ],
   "source": [
    "# analytical answer\n",
    "pair_potential = np.zeros(shape=(num_particles,num_particles)) \n",
    "for i in range(0, num_particles):\n",
    "    for j in range(i+1, num_particles):\n",
    "        pair_potential[i][j] = 1 / (op.distance_cal(x0_i[i], x0_i[j]) * scale_factor[1])\n",
    "        \n",
    "pair_potential"
   ]
  },
  {
   "cell_type": "code",
   "execution_count": 101,
   "metadata": {
    "collapsed": false
   },
   "outputs": [
    {
     "data": {
      "text/plain": [
       "array([ 13.45604582,  15.02674426,  13.45604582,  15.02674426,\n",
       "        16.88811976,  15.02674426,  13.45604582,  15.02674426,\n",
       "        13.45604582,  15.02674426,  16.88811976,  15.02674426,\n",
       "        16.88811976,  19.10410263,  16.88811976,  15.02674426,\n",
       "        16.88811976,  15.02674426,  13.45604582,  15.02674426,\n",
       "        13.45604582,  15.02674426,  16.88811976,  15.02674426,\n",
       "        13.45604582,  15.02674426,  13.45604582])"
      ]
     },
     "execution_count": 101,
     "metadata": {},
     "output_type": "execute_result"
    }
   ],
   "source": [
    "J_analytic = np.zeros(num_particles)\n",
    "for i in range(0, num_particles):\n",
    "    for j in range(0, num_particles):\n",
    "        if j<i:\n",
    "            J_analytic[i] += pair_potential[j][i]\n",
    "        if j>i:\n",
    "            J_analytic[i] += pair_potential[i][j]\n",
    "\n",
    "J_analytic"
   ]
  },
  {
   "cell_type": "code",
   "execution_count": 102,
   "metadata": {
    "collapsed": false
   },
   "outputs": [
    {
     "data": {
      "text/plain": [
       "204.20105944767533"
      ]
     },
     "execution_count": 102,
     "metadata": {},
     "output_type": "execute_result"
    }
   ],
   "source": [
    "total_energy = 0.5 * sum(J_analytic)\n",
    "total_energy"
   ]
  },
  {
   "cell_type": "code",
   "execution_count": 103,
   "metadata": {
    "collapsed": true
   },
   "outputs": [],
   "source": [
    "from multipole import fmm_level as fl\n",
    "from multipole import fmm_q_source as fq"
   ]
  },
  {
   "cell_type": "code",
   "execution_count": 104,
   "metadata": {
    "collapsed": false
   },
   "outputs": [],
   "source": [
    "# build list of q_source\n",
    "q_source = np.ndarray(shape=(len(x0_i)), dtype=fq) \n",
    "for i in range(0, len(x0_i)):\n",
    "    q_source[i] = fq(x0_i[i], q[i])\n",
    "    "
   ]
  },
  {
   "cell_type": "code",
   "execution_count": 130,
   "metadata": {
    "collapsed": false
   },
   "outputs": [
    {
     "name": "stdout",
     "output_type": "stream",
     "text": [
      "3\n",
      "2\n",
      "----------\n",
      "2\n",
      "3\n"
     ]
    },
    {
     "data": {
      "text/plain": [
       "3"
      ]
     },
     "execution_count": 130,
     "metadata": {},
     "output_type": "execute_result"
    }
   ],
   "source": [
    "# run the calculation:\n",
    "#1 construction of boxes at each level with Olm\n",
    "btm_level = 3\n",
    "p = 10\n",
    "ws_index = 4\n",
    "f_btm_level = fl(btm_level, q_source, 5, ws_index)\n",
    "\n",
    "f_top_level = f_btm_level\n",
    "while (f_top_level.level != 1):\n",
    "    print(f_top_level.level)\n",
    "    f_top_level = f_top_level.lower_level_construction()\n",
    "    \n",
    "#2 calculation the interaction and translation the potential\n",
    "print('----------')\n",
    "f_level_i = f_top_level\n",
    "while (f_level_i.level != f_btm_level.level):\n",
    "    f_level_i.Mlm_translation_to_higher_level()\n",
    "    f_level_i = f_level_i.higher_level\n",
    "    print(f_level_i.level)\n",
    "    f_level_i.box_interactions()\n",
    "    \n",
    "f_level_i.level"
   ]
  },
  {
   "cell_type": "code",
   "execution_count": 131,
   "metadata": {
    "collapsed": false
   },
   "outputs": [],
   "source": [
    "#3 calculation of J far field\n",
    "J_far_field = np.zeros(num_particles)\n",
    "for i in range(0, num_particles):\n",
    "    if not f_btm_level.box_list[q_source[i].box_id].Mlm:\n",
    "        J_far_field[i] = 0.\n",
    "    else:\n",
    "        J_far_field[i] = f_btm_level.box_list[q_source[i].box_id].Mlm.product(q_source[i].Olm).sum().real \n",
    "\n",
    "J_far_field /= scale_factor[1]"
   ]
  },
  {
   "cell_type": "code",
   "execution_count": 132,
   "metadata": {
    "collapsed": false
   },
   "outputs": [
    {
     "data": {
      "text/plain": [
       "array([ 8.8184464 ,  7.24548657,  8.68962549,  7.00974925,  4.17229221,\n",
       "        6.94535621,  8.73696041,  7.18809017,  8.61024151,  7.40145023,\n",
       "        4.76418802,  7.32211245,  4.40013171,  0.        ,  4.40013362,\n",
       "        7.33644176,  4.76418328,  7.25710409,  8.59579249,  7.17352594,\n",
       "        8.47273741,  6.82971383,  4.17229628,  6.76532121,  8.51314684,\n",
       "        7.11612927,  8.39219374])"
      ]
     },
     "execution_count": 132,
     "metadata": {},
     "output_type": "execute_result"
    }
   ],
   "source": [
    "J_far_field"
   ]
  },
  {
   "cell_type": "code",
   "execution_count": 133,
   "metadata": {
    "collapsed": true
   },
   "outputs": [],
   "source": [
    "#4 calculation of J near filed\n",
    "J_near_field = np.zeros(num_particles)\n",
    "for i in range(0,num_particles):\n",
    "    J_near_field[i] = 0.\n",
    "    for j in f_btm_level.box_list[q_source[i].box_id].q_source_id_set:\n",
    "        if j == i:\n",
    "            continue\n",
    "        J_near_field[i] += 1  / (op.distance_cal(q_source[i].x, q_source[j].x) * scale_factor[1])\n",
    "    for NN_box_id in f_btm_level.box_list[q_source[i].box_id].NN_box_id_set:\n",
    "        for j in f_btm_level.box_list[NN_box_id].q_source_id_set:\n",
    "            J_near_field[i] += 1  / (op.distance_cal(q_source[i].x, q_source[j].x) * scale_factor[1])"
   ]
  },
  {
   "cell_type": "code",
   "execution_count": 134,
   "metadata": {
    "collapsed": false
   },
   "outputs": [
    {
     "data": {
      "text/plain": [
       "array([  5.69867631,   8.69024313,   5.69867631,   8.69024313,\n",
       "        12.96626829,   8.69024313,   5.69867631,   8.69024313,\n",
       "         5.69867631,   8.69024313,  12.96626829,   8.69024313,\n",
       "        12.96626829,  19.10410263,  12.96626829,   8.69024313,\n",
       "        12.96626829,   8.69024313,   5.69867631,   8.69024313,\n",
       "         5.69867631,   8.69024313,  12.96626829,   8.69024313,\n",
       "         5.69867631,   8.69024313,   5.69867631])"
      ]
     },
     "execution_count": 134,
     "metadata": {},
     "output_type": "execute_result"
    }
   ],
   "source": [
    "J_near_field"
   ]
  },
  {
   "cell_type": "code",
   "execution_count": 135,
   "metadata": {
    "collapsed": false
   },
   "outputs": [
    {
     "data": {
      "text/plain": [
       "array([ 14.51712271,  15.93572971,  14.38830181,  15.69999238,\n",
       "        17.1385605 ,  15.63559935,  14.43563672,  15.8783333 ,\n",
       "        14.30891782,  16.09169336,  17.73045631,  16.01235558,\n",
       "        17.3664    ,  19.10410263,  17.36640191,  16.0266849 ,\n",
       "        17.73045157,  15.94734722,  14.2944688 ,  15.86376908,\n",
       "        14.17141373,  15.51995696,  17.13856457,  15.45556434,\n",
       "        14.21182315,  15.8063724 ,  14.09087005])"
      ]
     },
     "execution_count": 135,
     "metadata": {},
     "output_type": "execute_result"
    }
   ],
   "source": [
    "J_total = J_far_field + J_near_field\n",
    "J_total"
   ]
  },
  {
   "cell_type": "code",
   "execution_count": 136,
   "metadata": {
    "collapsed": false
   },
   "outputs": [
    {
     "data": {
      "text/plain": [
       "213.93344544061151"
      ]
     },
     "execution_count": 136,
     "metadata": {},
     "output_type": "execute_result"
    }
   ],
   "source": [
    "total_energy = 0.5 * sum(J_total)\n",
    "total_energy"
   ]
  },
  {
   "cell_type": "code",
   "execution_count": 129,
   "metadata": {
    "collapsed": false
   },
   "outputs": [
    {
     "data": {
      "text/plain": [
       "array([  7.88550294e-02,   6.04911770e-02,   6.92815704e-02,\n",
       "         4.48033257e-02,   1.48294037e-02,   4.05180972e-02,\n",
       "         7.27993139e-02,   5.66715598e-02,   6.33820673e-02,\n",
       "         7.08702485e-02,   4.98774621e-02,   6.55904768e-02,\n",
       "         2.83205148e-02,   1.85966007e-16,   2.83206278e-02,\n",
       "         6.65440642e-02,   4.98771816e-02,   6.12642995e-02,\n",
       "         6.23082731e-02,   5.57023397e-02,   5.31633079e-02,\n",
       "         3.28223259e-02,   1.48296446e-02,   2.85371251e-02,\n",
       "         5.61663763e-02,   5.18827048e-02,   4.71776212e-02])"
      ]
     },
     "execution_count": 129,
     "metadata": {},
     "output_type": "execute_result"
    }
   ],
   "source": [
    "J_error = np.abs(J_total-J_analytic) / J_analytic\n",
    "J_error"
   ]
  },
  {
   "cell_type": "code",
   "execution_count": null,
   "metadata": {
    "collapsed": false
   },
   "outputs": [],
   "source": [
    "for i in range(0,len(f_btm_level.box_list)):\n",
    "    if f_btm_level.box_list[i]:\n",
    "        print(i)"
   ]
  },
  {
   "cell_type": "code",
   "execution_count": null,
   "metadata": {
    "collapsed": false
   },
   "outputs": [],
   "source": [
    "index1 = 27\n",
    "index2 = 465\n",
    "\n",
    "\n",
    "Y = np.ndarray(shape=(4,3)) #Cartesian coordiantes of box centers\n",
    "Y[0] = f_btm_level.box_list[index1].x\n",
    "Y[1] = f_btm_level.box_list[index2].x\n",
    "Y[2] = f_btm_level.lower_level.box_list[f_btm_level.box_id_to_lower_level(index1)].x\n",
    "Y[3] = f_btm_level.lower_level.box_list[f_btm_level.box_id_to_lower_level(index2)].x\n",
    "\n",
    "y_i = np.ndarray(shape=(2,3))\n",
    "y_i[0] = q_source[0].x\n",
    "y_i[1] = q_source[1].x\n"
   ]
  },
  {
   "cell_type": "code",
   "execution_count": null,
   "metadata": {
    "collapsed": true
   },
   "outputs": [],
   "source": [
    "Y"
   ]
  },
  {
   "cell_type": "code",
   "execution_count": null,
   "metadata": {
    "collapsed": true
   },
   "outputs": [],
   "source": [
    "analytic_potential = 0 \n",
    "for i in range(0, len(y_i)):\n",
    "    for j in range(i+1, len(y_i)):\n",
    "        analytic_potential += 1 / op.distance_cal(y_i[i], y_i[j])\n",
    "\n",
    "analytic_potential / scale_factor[1]"
   ]
  },
  {
   "cell_type": "code",
   "execution_count": null,
   "metadata": {
    "collapsed": true
   },
   "outputs": [],
   "source": [
    "# test on conversion operation\n",
    "p1 = 5\n",
    "\n",
    "r1_1 = op.cartesian_to_spherical(y_i[0] - Y[0])\n",
    "Olm_q1_x1_k = op.O_expansion(p1, r1_1)\n",
    "\n",
    "Olm_q1_x1_k.Vp"
   ]
  },
  {
   "cell_type": "code",
   "execution_count": null,
   "metadata": {
    "collapsed": true
   },
   "outputs": [],
   "source": [
    "q_source[0].Olm.Vp"
   ]
  },
  {
   "cell_type": "code",
   "execution_count": null,
   "metadata": {
    "collapsed": true
   },
   "outputs": [],
   "source": [
    "Y31 = Y[0] - Y[2]\n",
    "Olm_q1_x3_k = op.O_to_O(Olm_q1_x1_k, Y31)\n",
    "\n",
    "Olm_q1_x3_k.Vp"
   ]
  },
  {
   "cell_type": "code",
   "execution_count": null,
   "metadata": {
    "collapsed": true
   },
   "outputs": [],
   "source": [
    "f_btm_level.lower_level.box_list[f_btm_level.box_id_to_lower_level(index1)].Olm.Vp"
   ]
  },
  {
   "cell_type": "code",
   "execution_count": null,
   "metadata": {
    "collapsed": true
   },
   "outputs": [],
   "source": [
    "Y34 = Y[3] - Y[2]\n",
    "Mlm_q1_x4_k = op.O_to_M(Olm_q1_x3_k, Y34)\n",
    "Mlm_q1_x4_k.Vp"
   ]
  },
  {
   "cell_type": "code",
   "execution_count": null,
   "metadata": {
    "collapsed": true
   },
   "outputs": [],
   "source": [
    "f_btm_level.lower_level.box_list[f_btm_level.box_id_to_lower_level(index2)].Mlm.Vp"
   ]
  },
  {
   "cell_type": "code",
   "execution_count": null,
   "metadata": {
    "collapsed": true
   },
   "outputs": [],
   "source": [
    "Y42 = Y[1] - Y[3]\n",
    "Mlm_q1_x2_k = op.M_to_M(Mlm_q1_x4_k, Y42)\n",
    "\n",
    "Mlm_q1_x2_k.Vp"
   ]
  },
  {
   "cell_type": "code",
   "execution_count": null,
   "metadata": {
    "collapsed": true
   },
   "outputs": [],
   "source": [
    "f_btm_level.box_list[index2].Mlm.Vp"
   ]
  },
  {
   "cell_type": "code",
   "execution_count": null,
   "metadata": {
    "collapsed": true
   },
   "outputs": [],
   "source": []
  }
 ],
 "metadata": {
  "anaconda-cloud": {},
  "kernelspec": {
   "display_name": "Python [default]",
   "language": "python",
   "name": "python3"
  },
  "language_info": {
   "codemirror_mode": {
    "name": "ipython",
    "version": 3
   },
   "file_extension": ".py",
   "mimetype": "text/x-python",
   "name": "python",
   "nbconvert_exporter": "python",
   "pygments_lexer": "ipython3",
   "version": "3.5.2"
  }
 },
 "nbformat": 4,
 "nbformat_minor": 1
}
