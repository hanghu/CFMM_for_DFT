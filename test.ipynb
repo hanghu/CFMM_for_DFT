{
 "cells": [
  {
   "cell_type": "code",
   "execution_count": 1,
   "metadata": {
    "collapsed": true
   },
   "outputs": [],
   "source": [
    "import numpy as np\n",
    "from scipy.special import lpmn, factorial"
   ]
  },
  {
   "cell_type": "code",
   "execution_count": 2,
   "metadata": {
    "collapsed": true
   },
   "outputs": [],
   "source": [
    "import numpy as np\n",
    "\n",
    "def spherical_to_cartesian(r):\n",
    "    x=np.ndarray(shape=(len(r), 3))\n",
    "    for i in range(0, len(r)):\n",
    "        x[i][0] = r[i][0] * np.cos(r[i][1]) * np.sin(r[i][2])\n",
    "        x[i][1] = r[i][0] * np.sin(r[i][1]) * np.sin(r[i][2])\n",
    "        x[i][2] = r[i][0] * np.cos(r[i][2])\n",
    "    return x\n",
    "\n",
    "def cartesian_to_spherical(x):\n",
    "    r=np.ndarray(shape=(len(x), 3))\n",
    "    for i in range(0, len(x)):\n",
    "        r[i][0] = np.sqrt(sum( x[i] * x[i]))\n",
    "        r[i][1] = np.arctan( x[i][1] / x[i][0])\n",
    "        r[i][2] = np.arctan( np.sqrt(x[i][0]*x[i][0] + x[i][1]*x[i][1]) / x[i][2] )\n",
    "    return r\n",
    "\n",
    "def distance_cal(x1, x2):\n",
    "    return np.sqrt(sum( (x1-x2) * (x1-x2) ))"
   ]
  },
  {
   "cell_type": "code",
   "execution_count": 75,
   "metadata": {
    "collapsed": true
   },
   "outputs": [],
   "source": [
    "# STEP 1\n",
    "r1 = [2, 0.3*np.pi, 0.25*np.pi]\n",
    "r2 = [15, -0.3*np.pi, -0.3*np.pi]\n",
    "r = [r1, r2]\n",
    "x = spherical_to_cartesian(r)"
   ]
  },
  {
   "cell_type": "code",
   "execution_count": 76,
   "metadata": {},
   "outputs": [
    {
     "data": {
      "text/plain": [
       "array([[ 0.83125388,  1.14412281,  1.41421356],\n",
       "       [-7.13292387,  9.81762746,  8.81677878]])"
      ]
     },
     "execution_count": 76,
     "metadata": {},
     "output_type": "execute_result"
    }
   ],
   "source": [
    "x"
   ]
  },
  {
   "cell_type": "code",
   "execution_count": 77,
   "metadata": {},
   "outputs": [
    {
     "data": {
      "text/plain": [
       "0.0718967307406988"
      ]
     },
     "execution_count": 77,
     "metadata": {},
     "output_type": "execute_result"
    }
   ],
   "source": [
    "1 / distance_cal(x[0], x[1])"
   ]
  },
  {
   "cell_type": "code",
   "execution_count": 78,
   "metadata": {
    "collapsed": true
   },
   "outputs": [],
   "source": [
    "def polynoimal_generation(p, z):\n",
    "    [P0lm, _] = lpmn(p, p, z)\n",
    "    P1lm = np.ndarray(shape=P0lm.shape) \n",
    "    P2lm = np.ndarray(shape=P0lm.shape) \n",
    "    for l in range(0, P0lm.shape[1]):\n",
    "        for m in range(0, P0lm.shape[0]):\n",
    "            P1lm[l][m] = factorial(l-m) * P0lm[m][l]\n",
    "            P2lm[l][m] = P0lm[m][l] / factorial(l+m)\n",
    "\n",
    "    return [P1lm, P2lm]\n",
    "\n",
    "def chargeless_multipole_moment(p, r): \n",
    "    [P1lm_r, _] = polynoimal_generation(p, np.cos(r[1]))\n",
    "    Olm = np.ndarray(shape=P1lm_r.shape, dtype=np.complex128)\n",
    "    for l in range(0, Olm.shape[0]):\n",
    "        r_power = np.power(r[0], l)\n",
    "        for m in range(0, l+1):\n",
    "            Olm[l][m] = r_power * P1lm_r[l][m] * np.exp(-m*r[2]*1j)\n",
    "\n",
    "    return Olm\n",
    "\n",
    "def chargeless_taylor_expansion_coefficient(p, r):\n",
    "    [_, P1lm_r] = polynoimal_generation(p, np.cos(r[1]))\n",
    "    Mlm = np.ndarray(shape=P1lm_r.shape, dtype=np.complex128)\n",
    "    for l in range(0, Mlm.shape[0]):\n",
    "        r_power = 1 / np.power(r[0], l+1)\n",
    "        for m in range(0, l+1):\n",
    "            Mlm[l][m] = r_power * P1lm_r[l][m] * np.exp(m*r[2]*1j)\n",
    "\n",
    "    return Mlm"
   ]
  },
  {
   "cell_type": "code",
   "execution_count": 80,
   "metadata": {},
   "outputs": [
    {
     "data": {
      "text/plain": [
       "0.06828084521493875"
      ]
     },
     "execution_count": 80,
     "metadata": {},
     "output_type": "execute_result"
    }
   ],
   "source": [
    "p0 = 50\n",
    "potential = 0\n",
    "\n",
    "Mlm = chargeless_taylor_expansion_coefficient(p0, r[1])\n",
    "Olm = chargeless_multipole_moment(p0, r[0])\n",
    "\n",
    "for l in range (0, Mlm.shape[0]):\n",
    "    potential += Olm[l][0] * Mlm[l][0]\n",
    "    for m in range (1, l+1):\n",
    "        potential += 2 * Olm[l][m] * Mlm[l][m]\n",
    "\n",
    "potential.real"
   ]
  },
  {
   "cell_type": "code",
   "execution_count": 100,
   "metadata": {
    "collapsed": true
   },
   "outputs": [],
   "source": [
    "#STEP 2\n",
    "#Construction:\n",
    "d = 1\n",
    "X = np.ndarray(shape=(2,3))\n",
    "X[0] = [3,1,4]\n",
    "X[1] = [-4,-2,-3]\n",
    "num_charge = 10\n",
    "x0_i = np.ndarray(shape=(2*num_charge,3))\n",
    "\n",
    "for i in range(0, num_charge):\n",
    "    xi_dev = np.random.rand(3)\n",
    "    x0_i[i] = X[0] + xi_dev\n",
    "    xi_dev = np.random.rand(3)\n",
    "    x0_i[i+num_charge] = X[1] + xi_dev\n"
   ]
  },
  {
   "cell_type": "code",
   "execution_count": 101,
   "metadata": {},
   "outputs": [
    {
     "ename": "NameError",
     "evalue": "name 'OlmQ1_X1' is not defined",
     "output_type": "error",
     "traceback": [
      "\u001b[0;31m---------------------------------------------------------------------------\u001b[0m",
      "\u001b[0;31mNameError\u001b[0m                                 Traceback (most recent call last)",
      "\u001b[0;32m<ipython-input-101-027ec081aa09>\u001b[0m in \u001b[0;36m<module>\u001b[0;34m()\u001b[0m\n\u001b[1;32m      6\u001b[0m \u001b[0;34m\u001b[0m\u001b[0m\n\u001b[1;32m      7\u001b[0m \u001b[0;32mfor\u001b[0m \u001b[0mi\u001b[0m \u001b[0;32min\u001b[0m \u001b[0mrange\u001b[0m\u001b[0;34m(\u001b[0m\u001b[0;36m0\u001b[0m\u001b[0;34m,\u001b[0m \u001b[0mnum_charge\u001b[0m\u001b[0;34m)\u001b[0m\u001b[0;34m:\u001b[0m\u001b[0;34m\u001b[0m\u001b[0m\n\u001b[0;32m----> 8\u001b[0;31m     \u001b[0mOlmQ1_X1\u001b[0m \u001b[0;34m+=\u001b[0m \u001b[0mchargeless_multipole_moment\u001b[0m\u001b[0;34m(\u001b[0m\u001b[0mp\u001b[0m\u001b[0;34m,\u001b[0m \u001b[0mra_k\u001b[0m\u001b[0;34m[\u001b[0m\u001b[0mi\u001b[0m\u001b[0;34m]\u001b[0m\u001b[0;34m)\u001b[0m\u001b[0;34m\u001b[0m\u001b[0m\n\u001b[0m\u001b[1;32m      9\u001b[0m \u001b[0;34m\u001b[0m\u001b[0m\n\u001b[1;32m     10\u001b[0m \u001b[0mMlmQ1_X2\u001b[0m\u001b[0;34m\u001b[0m\u001b[0m\n",
      "\u001b[0;31mNameError\u001b[0m: name 'OlmQ1_X1' is not defined"
     ]
    }
   ],
   "source": [
    "p = 5\n",
    "s = p+1\n",
    "OlmQ_X1 = np.zeros(shape=(s, s), dtype=np.complex128)\n",
    "xa_k = x0_i[0:num_charge] - X[0]\n",
    "ra_k = cartesian_to_spherical(xa_k)\n",
    "\n",
    "for i in range(0, num_charge):\n",
    "    OlmQ1_X1 += chargeless_multipole_moment(p, ra_k[i])\n",
    "\n",
    "MlmQ1_X2 "
   ]
  },
  {
   "cell_type": "code",
   "execution_count": null,
   "metadata": {
    "collapsed": true
   },
   "outputs": [],
   "source": [
    "#construction conversion operator C\n",
    "def conversion_operation(Ojk_x1_1, X12, p):\n",
    "    Clmjk_X12 = chargeless_taylor_expansion_coefficient(p*2, X12)\n",
    "    Mlm_x2_1 = np.ndarray(shape=Ojk_x1_1.shape, dtype=np.complex128)\n",
    "    for l in range(0, Mlm_x2_1.shape[1]):\n",
    "        for m in range(0, l+1):\n",
    "            Mlm_x2_1 = "
   ]
  },
  {
   "cell_type": "code",
   "execution_count": 86,
   "metadata": {},
   "outputs": [
    {
     "data": {
      "text/plain": [
       "array([[0.40829444, 0.40645093, 0.20393395],\n",
       "       [0.68376455, 0.96515441, 0.59845951],\n",
       "       [0.73324664, 0.35693885, 0.12634662],\n",
       "       [0.4421118 , 0.72578772, 0.42328666],\n",
       "       [0.34681546, 0.34164562, 0.51604562],\n",
       "       [0.00703333, 0.2119606 , 0.64564601],\n",
       "       [0.74178821, 0.87015986, 0.70338321],\n",
       "       [0.40230423, 0.98358706, 0.17746667],\n",
       "       [0.34708503, 0.42951777, 0.26393482],\n",
       "       [0.60673371, 0.98864167, 0.71755215]])"
      ]
     },
     "execution_count": 86,
     "metadata": {},
     "output_type": "execute_result"
    }
   ],
   "source": [
    "xa_k"
   ]
  },
  {
   "cell_type": "code",
   "execution_count": 91,
   "metadata": {},
   "outputs": [
    {
     "name": "stdout",
     "output_type": "stream",
     "text": [
      "0\n"
     ]
    }
   ],
   "source": [
    "for x in range(0,1):\n",
    "    print(x)"
   ]
  },
  {
   "cell_type": "code",
   "execution_count": null,
   "metadata": {
    "collapsed": true
   },
   "outputs": [],
   "source": []
  }
 ],
 "metadata": {
  "kernelspec": {
   "display_name": "Python 3",
   "language": "python",
   "name": "python3"
  },
  "language_info": {
   "codemirror_mode": {
    "name": "ipython",
    "version": 3
   },
   "file_extension": ".py",
   "mimetype": "text/x-python",
   "name": "python",
   "nbconvert_exporter": "python",
   "pygments_lexer": "ipython3",
   "version": "3.5.4"
  }
 },
 "nbformat": 4,
 "nbformat_minor": 2
}
