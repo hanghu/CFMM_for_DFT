{
 "cells": [
  {
   "cell_type": "code",
   "execution_count": 1,
   "metadata": {
    "collapsed": true
   },
   "outputs": [],
   "source": [
    "import numpy as np\n",
    "from scipy.special import lpmn, factorial"
   ]
  },
  {
   "cell_type": "code",
   "execution_count": 2,
   "metadata": {
    "collapsed": true
   },
   "outputs": [],
   "source": [
    "import numpy as np\n",
    "\n",
    "def spherical_to_cartesian(r):\n",
    "    x=np.ndarray(shape=(len(r), 3))\n",
    "    for i in range(0, len(r)):\n",
    "        x[i][0] = r[i][0] * np.cos(r[i][1]) * np.sin(r[i][2])\n",
    "        x[i][1] = r[i][0] * np.sin(r[i][1]) * np.sin(r[i][2])\n",
    "        x[i][2] = r[i][0] * np.cos(r[i][2])\n",
    "    return x\n",
    "\n",
    "def cartesian_to_spherical(x):\n",
    "    r=np.ndarray(shape=(len(x), 3))\n",
    "    for i in range(0, len(x)):\n",
    "        r[i][0] = np.sqrt(sum( x[i] * x[i]))\n",
    "        r[i][1] = np.arctan( x[i][1] / x[i][0])\n",
    "        r[i][2] = np.arctan( np.sqrt(x[i][0]*x[i][0] + x[i][1]*x[i][1]) / x[i][2] )\n",
    "    return r\n",
    "\n",
    "def distance_cal(x1, x2):\n",
    "    return np.sqrt(sum( (x1-x2) * (x1-x2) ))"
   ]
  },
  {
   "cell_type": "code",
   "execution_count": 3,
   "metadata": {
    "collapsed": true
   },
   "outputs": [],
   "source": [
    "# STEP 1\n",
    "r1 = [2, 0.3*np.pi, 0.25*np.pi]\n",
    "r2 = [15, -0.3*np.pi, -0.3*np.pi]\n",
    "r = [r1, r2]\n",
    "x = spherical_to_cartesian(r)"
   ]
  },
  {
   "cell_type": "code",
   "execution_count": 4,
   "metadata": {
    "collapsed": false
   },
   "outputs": [
    {
     "data": {
      "text/plain": [
       "array([[ 0.83125388,  1.14412281,  1.41421356],\n",
       "       [-7.13292387,  9.81762746,  8.81677878]])"
      ]
     },
     "execution_count": 4,
     "metadata": {},
     "output_type": "execute_result"
    }
   ],
   "source": [
    "x"
   ]
  },
  {
   "cell_type": "code",
   "execution_count": 5,
   "metadata": {
    "collapsed": false
   },
   "outputs": [
    {
     "data": {
      "text/plain": [
       "0.0718967307406988"
      ]
     },
     "execution_count": 5,
     "metadata": {},
     "output_type": "execute_result"
    }
   ],
   "source": [
    "1 / distance_cal(x[0], x[1])"
   ]
  },
  {
   "cell_type": "code",
   "execution_count": 6,
   "metadata": {
    "collapsed": true
   },
   "outputs": [],
   "source": [
    "def polynoimal_generation(p, z):\n",
    "    [P0lm, _] = lpmn(p, p, z)\n",
    "    P1lm = np.ndarray(shape=P0lm.shape) \n",
    "    P2lm = np.ndarray(shape=P0lm.shape) \n",
    "    for l in range(0, P0lm.shape[1]):\n",
    "        for m in range(0, P0lm.shape[0]):\n",
    "            P1lm[l][m] = factorial(l-m) * P0lm[m][l]\n",
    "            P2lm[l][m] = P0lm[m][l] / factorial(l+m)\n",
    "\n",
    "    return [P1lm, P2lm]\n",
    "\n",
    "def chargeless_multipole_moment(p, r): \n",
    "    [P1lm_r, _] = polynoimal_generation(p, np.cos(r[1]))\n",
    "    Olm = np.ndarray(shape=P1lm_r.shape, dtype=np.complex128)\n",
    "    for l in range(0, Olm.shape[0]):\n",
    "        r_power = np.power(r[0], l)\n",
    "        for m in range(0, l+1):\n",
    "            Olm[l][m] = r_power * P1lm_r[l][m] * np.exp(-m*r[2]*1j)\n",
    "\n",
    "    return Olm\n",
    "\n",
    "def chargeless_taylor_expansion_coefficient(p, r):\n",
    "    [_, P1lm_r] = polynoimal_generation(p, np.cos(r[1]))\n",
    "    Mlm = np.ndarray(shape=P1lm_r.shape, dtype=np.complex128)\n",
    "    for l in range(0, Mlm.shape[0]):\n",
    "        r_power = 1 / np.power(r[0], l+1)\n",
    "        for m in range(0, l+1):\n",
    "            Mlm[l][m] = r_power * P1lm_r[l][m] * np.exp(m*r[2]*1j)\n",
    "\n",
    "    return Mlm"
   ]
  },
  {
   "cell_type": "code",
   "execution_count": 7,
   "metadata": {
    "collapsed": false
   },
   "outputs": [
    {
     "name": "stderr",
     "output_type": "stream",
     "text": [
      "/Users/hunting/miniconda3/lib/python3.5/site-packages/ipykernel/__main__.py:26: RuntimeWarning: invalid value encountered in power\n"
     ]
    },
    {
     "data": {
      "text/plain": [
       "0.06830563799494857"
      ]
     },
     "execution_count": 7,
     "metadata": {},
     "output_type": "execute_result"
    }
   ],
   "source": [
    "p0 = 50\n",
    "potential = 0\n",
    "\n",
    "Mlm = chargeless_taylor_expansion_coefficient(p0, r[1])\n",
    "Olm = chargeless_multipole_moment(p0, r[0])\n",
    "\n",
    "for l in range (0, Mlm.shape[0]):\n",
    "    potential += Olm[l][0] * Mlm[l][0]\n",
    "    for m in range (1, l+1):\n",
    "        potential += 2 * Olm[l][m] * Mlm[l][m]\n",
    "\n",
    "potential.real"
   ]
  },
  {
   "cell_type": "code",
   "execution_count": 8,
   "metadata": {
    "collapsed": true
   },
   "outputs": [],
   "source": [
    "#STEP 2\n",
    "#Construction:\n",
    "d = 1\n",
    "X = np.ndarray(shape=(2,3))\n",
    "X[0] = [3,1,4]\n",
    "X[1] = [-4,-2,-3]\n",
    "num_charge = 10\n",
    "x0_i = np.ndarray(shape=(2*num_charge,3))\n",
    "\n",
    "for i in range(0, num_charge):\n",
    "    xi_dev = np.random.rand(3)\n",
    "    x0_i[i] = X[0] + xi_dev\n",
    "    xi_dev = np.random.rand(3)\n",
    "    x0_i[i+num_charge] = X[1] + xi_dev\n"
   ]
  },
  {
   "cell_type": "code",
   "execution_count": 9,
   "metadata": {
    "collapsed": false
   },
   "outputs": [
    {
     "ename": "NameError",
     "evalue": "name 'OlmQ1_X1' is not defined",
     "output_type": "error",
     "traceback": [
      "\u001b[0;31m---------------------------------------------------------------------------\u001b[0m",
      "\u001b[0;31mNameError\u001b[0m                                 Traceback (most recent call last)",
      "\u001b[0;32m<ipython-input-9-027ec081aa09>\u001b[0m in \u001b[0;36m<module>\u001b[0;34m()\u001b[0m\n\u001b[1;32m      6\u001b[0m \u001b[0;34m\u001b[0m\u001b[0m\n\u001b[1;32m      7\u001b[0m \u001b[0;32mfor\u001b[0m \u001b[0mi\u001b[0m \u001b[0;32min\u001b[0m \u001b[0mrange\u001b[0m\u001b[0;34m(\u001b[0m\u001b[0;36m0\u001b[0m\u001b[0;34m,\u001b[0m \u001b[0mnum_charge\u001b[0m\u001b[0;34m)\u001b[0m\u001b[0;34m:\u001b[0m\u001b[0;34m\u001b[0m\u001b[0m\n\u001b[0;32m----> 8\u001b[0;31m     \u001b[0mOlmQ1_X1\u001b[0m \u001b[0;34m+=\u001b[0m \u001b[0mchargeless_multipole_moment\u001b[0m\u001b[0;34m(\u001b[0m\u001b[0mp\u001b[0m\u001b[0;34m,\u001b[0m \u001b[0mra_k\u001b[0m\u001b[0;34m[\u001b[0m\u001b[0mi\u001b[0m\u001b[0;34m]\u001b[0m\u001b[0;34m)\u001b[0m\u001b[0;34m\u001b[0m\u001b[0m\n\u001b[0m\u001b[1;32m      9\u001b[0m \u001b[0;34m\u001b[0m\u001b[0m\n\u001b[1;32m     10\u001b[0m \u001b[0mMlmQ1_X2\u001b[0m\u001b[0;34m\u001b[0m\u001b[0m\n",
      "\u001b[0;31mNameError\u001b[0m: name 'OlmQ1_X1' is not defined"
     ]
    }
   ],
   "source": [
    "p = 5\n",
    "s = p+1\n",
    "OlmQ_X1 = np.zeros(shape=(s, s), dtype=np.complex128)\n",
    "xa_k = x0_i[0:num_charge] - X[0]\n",
    "ra_k = cartesian_to_spherical(xa_k)\n",
    "\n",
    "for i in range(0, num_charge):\n",
    "    OlmQ1_X1 += chargeless_multipole_moment(p, ra_k[i])\n",
    "\n",
    "MlmQ1_X2 "
   ]
  },
  {
   "cell_type": "code",
   "execution_count": null,
   "metadata": {
    "collapsed": true
   },
   "outputs": [],
   "source": [
    "#construction conversion operator C\n",
    "def conversion_operation(Ojk_x1_1, X12, p):\n",
    "    Clmjk_X12 = chargeless_taylor_expansion_coefficient(p*2, X12)\n",
    "    Mlm_x2_1 = np.ndarray(shape=Ojk_x1_1.shape, dtype=np.complex128)\n",
    "    for l in range(0, Mlm_x2_1.shape[1]):\n",
    "        for m in range(0, l+1):\n",
    "            Mlm_x2_1 = "
   ]
  },
  {
   "cell_type": "code",
   "execution_count": null,
   "metadata": {
    "collapsed": false
   },
   "outputs": [],
   "source": [
    "xa_k"
   ]
  },
  {
   "cell_type": "code",
   "execution_count": null,
   "metadata": {
    "collapsed": false
   },
   "outputs": [],
   "source": [
    "for x in range(0,1):\n",
    "    print(x)"
   ]
  },
  {
   "cell_type": "code",
   "execution_count": null,
   "metadata": {
    "collapsed": true
   },
   "outputs": [],
   "source": [
    "from multipole import operation as op"
   ]
  },
  {
   "cell_type": "code",
   "execution_count": null,
   "metadata": {
    "collapsed": true
   },
   "outputs": [],
   "source": [
    "x = [1, 2, 3]"
   ]
  },
  {
   "cell_type": "code",
   "execution_count": null,
   "metadata": {
    "collapsed": false
   },
   "outputs": [],
   "source": [
    "op.cartesian_to_spherical(x)"
   ]
  },
  {
   "cell_type": "code",
   "execution_count": null,
   "metadata": {
    "collapsed": false
   },
   "outputs": [],
   "source": [
    "import numpy as np \n",
    "np.dtype(x)"
   ]
  },
  {
   "cell_type": "code",
   "execution_count": null,
   "metadata": {
    "collapsed": false
   },
   "outputs": [],
   "source": [
    "type(x) "
   ]
  },
  {
   "cell_type": "code",
   "execution_count": null,
   "metadata": {
    "collapsed": false
   },
   "outputs": [],
   "source": [
    "y = np.ndarray([2,3])"
   ]
  },
  {
   "cell_type": "code",
   "execution_count": null,
   "metadata": {
    "collapsed": false
   },
   "outputs": [],
   "source": [
    "y"
   ]
  },
  {
   "cell_type": "code",
   "execution_count": null,
   "metadata": {
    "collapsed": false
   },
   "outputs": [],
   "source": [
    "if type(y) == np.ndarray:\n",
    "    print(x)"
   ]
  },
  {
   "cell_type": "code",
   "execution_count": null,
   "metadata": {
    "collapsed": false
   },
   "outputs": [],
   "source": [
    "z = "
   ]
  },
  {
   "cell_type": "code",
   "execution_count": null,
   "metadata": {
    "collapsed": false
   },
   "outputs": [],
   "source": [
    "y.shape[1]"
   ]
  },
  {
   "cell_type": "code",
   "execution_count": null,
   "metadata": {
    "collapsed": false
   },
   "outputs": [],
   "source": [
    "len(np.array([0,0,0]).shape)"
   ]
  },
  {
   "cell_type": "code",
   "execution_count": null,
   "metadata": {
    "collapsed": false
   },
   "outputs": [],
   "source": [
    "from multipole import operation as op"
   ]
  },
  {
   "cell_type": "code",
   "execution_count": null,
   "metadata": {
    "collapsed": false
   },
   "outputs": [],
   "source": [
    "op.spherical_to_cartesian(y)"
   ]
  },
  {
   "cell_type": "code",
   "execution_count": null,
   "metadata": {
    "collapsed": true
   },
   "outputs": [],
   "source": [
    "x =  [1,2,3]"
   ]
  },
  {
   "cell_type": "code",
   "execution_count": null,
   "metadata": {
    "collapsed": false
   },
   "outputs": [],
   "source": [
    "type(int(0.76 // 0.5))"
   ]
  },
  {
   "cell_type": "code",
   "execution_count": null,
   "metadata": {
    "collapsed": false
   },
   "outputs": [],
   "source": [
    "0.4 // 0.25"
   ]
  },
  {
   "cell_type": "code",
   "execution_count": 10,
   "metadata": {
    "collapsed": false
   },
   "outputs": [
    {
     "data": {
      "text/plain": [
       "'0b100b100'"
      ]
     },
     "execution_count": 10,
     "metadata": {},
     "output_type": "execute_result"
    }
   ],
   "source": [
    "bin(2) + bin(4)"
   ]
  },
  {
   "cell_type": "code",
   "execution_count": 11,
   "metadata": {
    "collapsed": false
   },
   "outputs": [
    {
     "data": {
      "text/plain": [
       "2"
      ]
     },
     "execution_count": 11,
     "metadata": {},
     "output_type": "execute_result"
    }
   ],
   "source": [
    "0b10"
   ]
  },
  {
   "cell_type": "code",
   "execution_count": 12,
   "metadata": {
    "collapsed": false
   },
   "outputs": [
    {
     "data": {
      "text/plain": [
       "'0o12'"
      ]
     },
     "execution_count": 12,
     "metadata": {},
     "output_type": "execute_result"
    }
   ],
   "source": [
    "oct(10)"
   ]
  },
  {
   "cell_type": "code",
   "execution_count": 13,
   "metadata": {
    "collapsed": false
   },
   "outputs": [
    {
     "ename": "TypeError",
     "evalue": "only integer arrays with one element can be converted to an index",
     "output_type": "error",
     "traceback": [
      "\u001b[0;31m---------------------------------------------------------------------------\u001b[0m",
      "\u001b[0;31mTypeError\u001b[0m                                 Traceback (most recent call last)",
      "\u001b[0;32m<ipython-input-13-f4ecb5654ba5>\u001b[0m in \u001b[0;36m<module>\u001b[0;34m()\u001b[0m\n\u001b[0;32m----> 1\u001b[0;31m \u001b[0mbin\u001b[0m\u001b[0;34m(\u001b[0m\u001b[0mnp\u001b[0m\u001b[0;34m.\u001b[0m\u001b[0marray\u001b[0m\u001b[0;34m(\u001b[0m\u001b[0;34m[\u001b[0m\u001b[0;36m1\u001b[0m\u001b[0;34m,\u001b[0m\u001b[0;36m2\u001b[0m\u001b[0;34m,\u001b[0m\u001b[0;36m3\u001b[0m\u001b[0;34m]\u001b[0m\u001b[0;34m)\u001b[0m\u001b[0;34m)\u001b[0m\u001b[0;34m\u001b[0m\u001b[0m\n\u001b[0m",
      "\u001b[0;31mTypeError\u001b[0m: only integer arrays with one element can be converted to an index"
     ]
    }
   ],
   "source": [
    "bin(np.array([1,2,3]))"
   ]
  },
  {
   "cell_type": "code",
   "execution_count": null,
   "metadata": {
    "collapsed": true
   },
   "outputs": [],
   "source": [
    "'ob'"
   ]
  }
 ],
 "metadata": {
  "anaconda-cloud": {},
  "kernelspec": {
   "display_name": "Python [default]",
   "language": "python",
   "name": "python3"
  },
  "language_info": {
   "codemirror_mode": {
    "name": "ipython",
    "version": 3
   },
   "file_extension": ".py",
   "mimetype": "text/x-python",
   "name": "python",
   "nbconvert_exporter": "python",
   "pygments_lexer": "ipython3",
   "version": "3.5.2"
  }
 },
 "nbformat": 4,
 "nbformat_minor": 2
}
