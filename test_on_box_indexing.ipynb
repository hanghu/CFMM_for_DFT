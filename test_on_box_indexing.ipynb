{
 "cells": [
  {
   "cell_type": "code",
   "execution_count": 1,
   "metadata": {
    "collapsed": true
   },
   "outputs": [],
   "source": [
    "import numpy as np\n",
    "from fast_multipole_method import fmm_level"
   ]
  },
  {
   "cell_type": "code",
   "execution_count": 2,
   "metadata": {},
   "outputs": [
    {
     "name": "stdout",
     "output_type": "stream",
     "text": [
      "Entering test mode of this class\n"
     ]
    }
   ],
   "source": [
    "a = fmm_level(2, \"test mode\", 5,)"
   ]
  },
  {
   "cell_type": "code",
   "execution_count": 3,
   "metadata": {},
   "outputs": [
    {
     "data": {
      "text/plain": [
       "array([None, None, None, None, None, None, None, None, None, None, None,\n",
       "       None, None, None, None, None, None, None, None, None, None, None,\n",
       "       None, None, None, None, None, None, None, None, None, None, None,\n",
       "       None, None, None, None, None, None, None, None, None, None, None,\n",
       "       None, None, None, None, None, None, None, None, None, None, None,\n",
       "       None, None, None, None, None, None, None, None, None], dtype=object)"
      ]
     },
     "execution_count": 3,
     "metadata": {},
     "output_type": "execute_result"
    }
   ],
   "source": [
    "a.box_list"
   ]
  },
  {
   "cell_type": "code",
   "execution_count": 4,
   "metadata": {},
   "outputs": [
    {
     "name": "stdout",
     "output_type": "stream",
     "text": [
      "0 [0, 0, 0]\n",
      "1 [1, 0, 0]\n",
      "2 [0, 1, 0]\n",
      "3 [1, 1, 0]\n",
      "4 [0, 0, 1]\n",
      "5 [1, 0, 1]\n",
      "6 [0, 1, 1]\n",
      "7 [1, 1, 1]\n",
      "8 [2, 0, 0]\n",
      "9 [3, 0, 0]\n",
      "10 [2, 1, 0]\n",
      "11 [3, 1, 0]\n",
      "12 [2, 0, 1]\n",
      "13 [3, 0, 1]\n",
      "14 [2, 1, 1]\n",
      "15 [3, 1, 1]\n",
      "16 [0, 2, 0]\n",
      "17 [1, 2, 0]\n",
      "18 [0, 3, 0]\n",
      "19 [1, 3, 0]\n",
      "20 [0, 2, 1]\n",
      "21 [1, 2, 1]\n",
      "22 [0, 3, 1]\n",
      "23 [1, 3, 1]\n",
      "24 [2, 2, 0]\n",
      "25 [3, 2, 0]\n",
      "26 [2, 3, 0]\n",
      "27 [3, 3, 0]\n",
      "28 [2, 2, 1]\n",
      "29 [3, 2, 1]\n",
      "30 [2, 3, 1]\n",
      "31 [3, 3, 1]\n",
      "32 [0, 0, 2]\n",
      "33 [1, 0, 2]\n",
      "34 [0, 1, 2]\n",
      "35 [1, 1, 2]\n",
      "36 [0, 0, 3]\n",
      "37 [1, 0, 3]\n",
      "38 [0, 1, 3]\n",
      "39 [1, 1, 3]\n",
      "40 [2, 0, 2]\n",
      "41 [3, 0, 2]\n",
      "42 [2, 1, 2]\n",
      "43 [3, 1, 2]\n",
      "44 [2, 0, 3]\n",
      "45 [3, 0, 3]\n",
      "46 [2, 1, 3]\n",
      "47 [3, 1, 3]\n",
      "48 [0, 2, 2]\n",
      "49 [1, 2, 2]\n",
      "50 [0, 3, 2]\n",
      "51 [1, 3, 2]\n",
      "52 [0, 2, 3]\n",
      "53 [1, 2, 3]\n",
      "54 [0, 3, 3]\n",
      "55 [1, 3, 3]\n",
      "56 [2, 2, 2]\n",
      "57 [3, 2, 2]\n",
      "58 [2, 3, 2]\n",
      "59 [3, 3, 2]\n",
      "60 [2, 2, 3]\n",
      "61 [3, 2, 3]\n",
      "62 [2, 3, 3]\n",
      "63 [3, 3, 3]\n"
     ]
    }
   ],
   "source": [
    "for i in range(0, len(a.box_list)):\n",
    "    print( i, a.index_1d_to_3d(i))"
   ]
  },
  {
   "cell_type": "code",
   "execution_count": 5,
   "metadata": {},
   "outputs": [
    {
     "name": "stdout",
     "output_type": "stream",
     "text": [
      "[0, 0, 0] 0\n",
      "[0, 0, 1] 4\n",
      "[0, 0, 2] 32\n",
      "[0, 0, 3] 36\n",
      "[0, 1, 0] 2\n",
      "[0, 1, 1] 6\n",
      "[0, 1, 2] 34\n",
      "[0, 1, 3] 38\n",
      "[0, 2, 0] 16\n",
      "[0, 2, 1] 20\n",
      "[0, 2, 2] 48\n",
      "[0, 2, 3] 52\n",
      "[0, 3, 0] 18\n",
      "[0, 3, 1] 22\n",
      "[0, 3, 2] 50\n",
      "[0, 3, 3] 54\n",
      "[1, 0, 0] 1\n",
      "[1, 0, 1] 5\n",
      "[1, 0, 2] 33\n",
      "[1, 0, 3] 37\n",
      "[1, 1, 0] 3\n",
      "[1, 1, 1] 7\n",
      "[1, 1, 2] 35\n",
      "[1, 1, 3] 39\n",
      "[1, 2, 0] 17\n",
      "[1, 2, 1] 21\n",
      "[1, 2, 2] 49\n",
      "[1, 2, 3] 53\n",
      "[1, 3, 0] 19\n",
      "[1, 3, 1] 23\n",
      "[1, 3, 2] 51\n",
      "[1, 3, 3] 55\n",
      "[2, 0, 0] 8\n",
      "[2, 0, 1] 12\n",
      "[2, 0, 2] 40\n",
      "[2, 0, 3] 44\n",
      "[2, 1, 0] 10\n",
      "[2, 1, 1] 14\n",
      "[2, 1, 2] 42\n",
      "[2, 1, 3] 46\n",
      "[2, 2, 0] 24\n",
      "[2, 2, 1] 28\n",
      "[2, 2, 2] 56\n",
      "[2, 2, 3] 60\n",
      "[2, 3, 0] 26\n",
      "[2, 3, 1] 30\n",
      "[2, 3, 2] 58\n",
      "[2, 3, 3] 62\n",
      "[3, 0, 0] 9\n",
      "[3, 0, 1] 13\n",
      "[3, 0, 2] 41\n",
      "[3, 0, 3] 45\n",
      "[3, 1, 0] 11\n",
      "[3, 1, 1] 15\n",
      "[3, 1, 2] 43\n",
      "[3, 1, 3] 47\n",
      "[3, 2, 0] 25\n",
      "[3, 2, 1] 29\n",
      "[3, 2, 2] 57\n",
      "[3, 2, 3] 61\n",
      "[3, 3, 0] 27\n",
      "[3, 3, 1] 31\n",
      "[3, 3, 2] 59\n",
      "[3, 3, 3] 63\n"
     ]
    }
   ],
   "source": [
    "for i in range(0,4):\n",
    "    for j in range(0,4):\n",
    "        for k in range(0,4):\n",
    "            print( [i,j,k], a.index_3d_to_1d([i,j,k]))"
   ]
  },
  {
   "cell_type": "code",
   "execution_count": 6,
   "metadata": {},
   "outputs": [
    {
     "name": "stdout",
     "output_type": "stream",
     "text": [
      "0 0\n",
      "1 0\n",
      "2 0\n",
      "3 0\n",
      "4 0\n",
      "5 0\n",
      "6 0\n",
      "7 0\n",
      "8 1\n",
      "9 1\n",
      "10 1\n",
      "11 1\n",
      "12 1\n",
      "13 1\n",
      "14 1\n",
      "15 1\n",
      "16 2\n",
      "17 2\n",
      "18 2\n",
      "19 2\n",
      "20 2\n",
      "21 2\n",
      "22 2\n",
      "23 2\n",
      "24 3\n",
      "25 3\n",
      "26 3\n",
      "27 3\n",
      "28 3\n",
      "29 3\n",
      "30 3\n",
      "31 3\n",
      "32 4\n",
      "33 4\n",
      "34 4\n",
      "35 4\n",
      "36 4\n",
      "37 4\n",
      "38 4\n",
      "39 4\n",
      "40 5\n",
      "41 5\n",
      "42 5\n",
      "43 5\n",
      "44 5\n",
      "45 5\n",
      "46 5\n",
      "47 5\n",
      "48 6\n",
      "49 6\n",
      "50 6\n",
      "51 6\n",
      "52 6\n",
      "53 6\n",
      "54 6\n",
      "55 6\n",
      "56 7\n",
      "57 7\n",
      "58 7\n",
      "59 7\n",
      "60 7\n",
      "61 7\n",
      "62 7\n",
      "63 7\n"
     ]
    }
   ],
   "source": [
    "for i in range(0, len(a.box_list)):\n",
    "    print( i, a.box_id_at_parent_level(i))"
   ]
  },
  {
   "cell_type": "code",
   "execution_count": 10,
   "metadata": {},
   "outputs": [
    {
     "name": "stdout",
     "output_type": "stream",
     "text": [
      "0 {0, 1, 2, 3, 4, 5, 6, 7}\n",
      "1 {8, 9, 10, 11, 12, 13, 14, 15}\n",
      "2 {16, 17, 18, 19, 20, 21, 22, 23}\n",
      "3 {24, 25, 26, 27, 28, 29, 30, 31}\n",
      "4 {32, 33, 34, 35, 36, 37, 38, 39}\n",
      "5 {40, 41, 42, 43, 44, 45, 46, 47}\n",
      "6 {48, 49, 50, 51, 52, 53, 54, 55}\n",
      "7 {56, 57, 58, 59, 60, 61, 62, 63}\n"
     ]
    }
   ],
   "source": [
    "b = a.parent_level_construction()\n",
    "for i in range(0, len(b.box_list)):\n",
    "    print( i, b.box_id_at_child_level(i))"
   ]
  },
  {
   "cell_type": "code",
   "execution_count": 7,
   "metadata": {},
   "outputs": [
    {
     "name": "stdout",
     "output_type": "stream",
     "text": [
      "0 set()\n",
      "1 set()\n",
      "2 set()\n",
      "3 set()\n",
      "4 set()\n",
      "5 set()\n",
      "6 set()\n",
      "7 set()\n"
     ]
    }
   ],
   "source": [
    "b = a.parent_level_construction()\n",
    "for i in range(0, len(b.box_list)):\n",
    "    print( i, b.box_id_at_child_level(i))"
   ]
  }
 ],
 "metadata": {
  "kernelspec": {
   "display_name": "Python 3",
   "language": "python",
   "name": "python3"
  },
  "language_info": {
   "codemirror_mode": {
    "name": "ipython",
    "version": 3
   },
   "file_extension": ".py",
   "mimetype": "text/x-python",
   "name": "python",
   "nbconvert_exporter": "python",
   "pygments_lexer": "ipython3",
   "version": "3.5.4"
  }
 },
 "nbformat": 4,
 "nbformat_minor": 2
}
