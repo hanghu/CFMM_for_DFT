{
 "cells": [
  {
   "cell_type": "code",
   "execution_count": 1,
   "metadata": {},
   "outputs": [],
   "source": [
    "from multipole import fmm_level, fmm_q_source\n",
    "from multipole import Vlm\n",
    "import numpy as np \n",
    "a = fmm_level(2, 1,3)"
   ]
  },
  {
   "cell_type": "code",
   "execution_count": 2,
   "metadata": {},
   "outputs": [],
   "source": []
  },
  {
   "cell_type": "code",
   "execution_count": 3,
   "metadata": {
    "collapsed": true
   },
   "outputs": [],
   "source": [
    "b = fmm_q_source(4,5)"
   ]
  },
  {
   "cell_type": "code",
   "execution_count": 4,
   "metadata": {},
   "outputs": [
    {
     "data": {
      "text/plain": [
       "array([[  0.00000000e+000,   0.00000000e+000],\n",
       "       [  1.33466594e-315,   2.78134232e-309]])"
      ]
     },
     "execution_count": 4,
     "metadata": {},
     "output_type": "execute_result"
    }
   ],
   "source": [
    "np.ndarray(shape=(2,2))"
   ]
  },
  {
   "cell_type": "code",
   "execution_count": 5,
   "metadata": {},
   "outputs": [
    {
     "data": {
      "text/plain": [
       "2"
      ]
     },
     "execution_count": 5,
     "metadata": {},
     "output_type": "execute_result"
    }
   ],
   "source": [
    "a.WS_index"
   ]
  },
  {
   "cell_type": "code",
   "execution_count": 6,
   "metadata": {},
   "outputs": [
    {
     "data": {
      "text/plain": [
       "64"
      ]
     },
     "execution_count": 6,
     "metadata": {},
     "output_type": "execute_result"
    }
   ],
   "source": [
    "a.num_boxes"
   ]
  },
  {
   "cell_type": "code",
   "execution_count": null,
   "metadata": {},
   "outputs": [],
   "source": [
    "a.boxes_generation(a)"
   ]
  },
  {
   "cell_type": "code",
   "execution_count": null,
   "metadata": {},
   "outputs": [],
   "source": [
    "list()"
   ]
  },
  {
   "cell_type": "code",
   "execution_count": null,
   "metadata": {},
   "outputs": [],
   "source": [
    "c = bin(10)"
   ]
  },
  {
   "cell_type": "code",
   "execution_count": null,
   "metadata": {},
   "outputs": [],
   "source": [
    "type(c)"
   ]
  },
  {
   "cell_type": "code",
   "execution_count": null,
   "metadata": {},
   "outputs": [],
   "source": [
    "len(c)"
   ]
  },
  {
   "cell_type": "code",
   "execution_count": null,
   "metadata": {},
   "outputs": [],
   "source": [
    "c[2:]"
   ]
  },
  {
   "cell_type": "code",
   "execution_count": null,
   "metadata": {},
   "outputs": [],
   "source": [
    "'00' + c[2:]"
   ]
  },
  {
   "cell_type": "code",
   "execution_count": null,
   "metadata": {},
   "outputs": [],
   "source": [
    "'0' * 4 + c[2:]"
   ]
  },
  {
   "cell_type": "code",
   "execution_count": null,
   "metadata": {
    "collapsed": true
   },
   "outputs": [],
   "source": [
    "def oneD_index_to_threeD_index(oneD, l, m):\n",
    "    bin_oneD = m * '0' + bin(oneD)[2:]\n",
    "    threeD = []\n",
    "    print(bin_oneD)\n",
    "    for i in range(0,3*l, l):\n",
    "        print(i)\n",
    "        print(bin_oneD[i:i+l])\n",
    "        threeD.append(int('0b' + bin_oneD[i:i+l], 2))\n",
    "    \n",
    "    return threeD\n",
    "    "
   ]
  },
  {
   "cell_type": "code",
   "execution_count": null,
   "metadata": {},
   "outputs": [],
   "source": [
    "bin(7)"
   ]
  },
  {
   "cell_type": "code",
   "execution_count": null,
   "metadata": {},
   "outputs": [],
   "source": [
    "oneD_index_to_threeD_index(8, 2, 2)"
   ]
  },
  {
   "cell_type": "code",
   "execution_count": null,
   "metadata": {},
   "outputs": [],
   "source": [
    "int('0b00', 2)"
   ]
  },
  {
   "cell_type": "code",
   "execution_count": null,
   "metadata": {},
   "outputs": [],
   "source": [
    "0b010101"
   ]
  },
  {
   "cell_type": "code",
   "execution_count": null,
   "metadata": {},
   "outputs": [],
   "source": [
    "0b111"
   ]
  },
  {
   "cell_type": "code",
   "execution_count": null,
   "metadata": {},
   "outputs": [],
   "source": [
    "def index_3D_to_index_1D(l, threeD):\n",
    "        bin_threeD = '0b'\n",
    "        for i in range(0, 3):\n",
    "            bin_threeD += (l + 2 - len(bin(threeD[i]))) * '0' + bin(threeD[i])[2:]\n",
    "\n",
    "        return int(bin_threeD, 2)"
   ]
  },
  {
   "cell_type": "code",
   "execution_count": null,
   "metadata": {},
   "outputs": [],
   "source": [
    "index_3D_to_index_1D(1, [1, 1, 1])"
   ]
  },
  {
   "cell_type": "code",
   "execution_count": 3,
   "metadata": {},
   "outputs": [
    {
     "data": {
      "text/plain": [
       "[2, 0, 3]"
      ]
     },
     "execution_count": 3,
     "metadata": {},
     "output_type": "execute_result"
    }
   ],
   "source": [
    "a.index_1D_to_index_3D(50)"
   ]
  },
  {
   "cell_type": "code",
   "execution_count": 4,
   "metadata": {},
   "outputs": [
    {
     "data": {
      "text/plain": [
       "50"
      ]
     },
     "execution_count": 4,
     "metadata": {},
     "output_type": "execute_result"
    }
   ],
   "source": [
    "a.index_3D_to_index_1D([2,0,3])"
   ]
  },
  {
   "cell_type": "code",
   "execution_count": 14,
   "metadata": {},
   "outputs": [
    {
     "data": {
      "text/plain": [
       "2"
      ]
     },
     "execution_count": 14,
     "metadata": {},
     "output_type": "execute_result"
    }
   ],
   "source": [
    "a.box_id_higher_level_to_lower(8)"
   ]
  },
  {
   "cell_type": "code",
   "execution_count": null,
   "metadata": {},
   "outputs": [],
   "source": [
    "from multipole import fmm_level, fmm_q_source\n",
    "a = fmm_level(2, 1)\n",
    "b = a.box_smallest_coordinates()"
   ]
  },
  {
   "cell_type": "code",
   "execution_count": null,
   "metadata": {},
   "outputs": [],
   "source": [
    "b"
   ]
  },
  {
   "cell_type": "code",
   "execution_count": null,
   "metadata": {},
   "outputs": [],
   "source": [
    "a.box_list"
   ]
  },
  {
   "cell_type": "code",
   "execution_count": null,
   "metadata": {
    "collapsed": true
   },
   "outputs": [],
   "source": [
    "x = '1234567'\n"
   ]
  },
  {
   "cell_type": "code",
   "execution_count": null,
   "metadata": {},
   "outputs": [],
   "source": [
    "x[0:2]"
   ]
  },
  {
   "cell_type": "code",
   "execution_count": null,
   "metadata": {},
   "outputs": [],
   "source": [
    "x[-1:]"
   ]
  },
  {
   "cell_type": "code",
   "execution_count": null,
   "metadata": {},
   "outputs": [],
   "source": [
    "x[2:-1]"
   ]
  },
  {
   "cell_type": "code",
   "execution_count": 3,
   "metadata": {
    "collapsed": true
   },
   "outputs": [],
   "source": [
    "b = fmm_level(1, 1,3)"
   ]
  },
  {
   "cell_type": "code",
   "execution_count": 4,
   "metadata": {},
   "outputs": [
    {
     "name": "stdout",
     "output_type": "stream",
     "text": [
      "0 0 [0, 0, 0] [0, 0, 0]\n",
      "1 0 [1, 0, 0] [0, 0, 0]\n",
      "2 1 [2, 0, 0] [1, 0, 0]\n",
      "3 1 [3, 0, 0] [1, 0, 0]\n",
      "4 0 [0, 1, 0] [0, 0, 0]\n",
      "5 0 [1, 1, 0] [0, 0, 0]\n",
      "6 1 [2, 1, 0] [1, 0, 0]\n",
      "7 1 [3, 1, 0] [1, 0, 0]\n",
      "8 2 [0, 2, 0] [0, 1, 0]\n",
      "9 2 [1, 2, 0] [0, 1, 0]\n",
      "10 3 [2, 2, 0] [1, 1, 0]\n",
      "11 3 [3, 2, 0] [1, 1, 0]\n",
      "12 2 [0, 3, 0] [0, 1, 0]\n",
      "13 2 [1, 3, 0] [0, 1, 0]\n",
      "14 3 [2, 3, 0] [1, 1, 0]\n",
      "15 3 [3, 3, 0] [1, 1, 0]\n",
      "16 0 [0, 0, 1] [0, 0, 0]\n",
      "17 0 [1, 0, 1] [0, 0, 0]\n",
      "18 1 [2, 0, 1] [1, 0, 0]\n",
      "19 1 [3, 0, 1] [1, 0, 0]\n",
      "20 0 [0, 1, 1] [0, 0, 0]\n",
      "21 0 [1, 1, 1] [0, 0, 0]\n",
      "22 1 [2, 1, 1] [1, 0, 0]\n",
      "23 1 [3, 1, 1] [1, 0, 0]\n",
      "24 2 [0, 2, 1] [0, 1, 0]\n",
      "25 2 [1, 2, 1] [0, 1, 0]\n",
      "26 3 [2, 2, 1] [1, 1, 0]\n",
      "27 3 [3, 2, 1] [1, 1, 0]\n",
      "28 2 [0, 3, 1] [0, 1, 0]\n",
      "29 2 [1, 3, 1] [0, 1, 0]\n",
      "30 3 [2, 3, 1] [1, 1, 0]\n",
      "31 3 [3, 3, 1] [1, 1, 0]\n",
      "32 4 [0, 0, 2] [0, 0, 1]\n",
      "33 4 [1, 0, 2] [0, 0, 1]\n",
      "34 5 [2, 0, 2] [1, 0, 1]\n",
      "35 5 [3, 0, 2] [1, 0, 1]\n",
      "36 4 [0, 1, 2] [0, 0, 1]\n",
      "37 4 [1, 1, 2] [0, 0, 1]\n",
      "38 5 [2, 1, 2] [1, 0, 1]\n",
      "39 5 [3, 1, 2] [1, 0, 1]\n",
      "40 6 [0, 2, 2] [0, 1, 1]\n",
      "41 6 [1, 2, 2] [0, 1, 1]\n",
      "42 7 [2, 2, 2] [1, 1, 1]\n",
      "43 7 [3, 2, 2] [1, 1, 1]\n",
      "44 6 [0, 3, 2] [0, 1, 1]\n",
      "45 6 [1, 3, 2] [0, 1, 1]\n",
      "46 7 [2, 3, 2] [1, 1, 1]\n",
      "47 7 [3, 3, 2] [1, 1, 1]\n",
      "48 4 [0, 0, 3] [0, 0, 1]\n",
      "49 4 [1, 0, 3] [0, 0, 1]\n",
      "50 5 [2, 0, 3] [1, 0, 1]\n",
      "51 5 [3, 0, 3] [1, 0, 1]\n",
      "52 4 [0, 1, 3] [0, 0, 1]\n",
      "53 4 [1, 1, 3] [0, 0, 1]\n",
      "54 5 [2, 1, 3] [1, 0, 1]\n",
      "55 5 [3, 1, 3] [1, 0, 1]\n",
      "56 6 [0, 2, 3] [0, 1, 1]\n",
      "57 6 [1, 2, 3] [0, 1, 1]\n",
      "58 7 [2, 2, 3] [1, 1, 1]\n",
      "59 7 [3, 2, 3] [1, 1, 1]\n",
      "60 6 [0, 3, 3] [0, 1, 1]\n",
      "61 6 [1, 3, 3] [0, 1, 1]\n",
      "62 7 [2, 3, 3] [1, 1, 1]\n",
      "63 7 [3, 3, 3] [1, 1, 1]\n"
     ]
    }
   ],
   "source": [
    "for i in range(0,64):\n",
    "    j = a.box_id_higher_level_to_lower(i)\n",
    "    z = a.index_1D_to_index_3D(i)\n",
    "    k = b.index_1D_to_index_3D(j)\n",
    "    print(i,j,z, k)"
   ]
  },
  {
   "cell_type": "code",
   "execution_count": 1,
   "metadata": {},
   "outputs": [],
   "source": [
    "from multipole import fmm_level, fmm_q_source\n",
    "from multipole import Vlm\n",
    "import numpy as np \n",
    "a = fmm_level(3, 1, 3)\n",
    "#a.well_seperated_boxes([0,0,0])"
   ]
  },
  {
   "cell_type": "code",
   "execution_count": 2,
   "metadata": {},
   "outputs": [
    {
     "data": {
      "text/plain": [
       "['0b010', '0b110', '0b000']"
      ]
     },
     "execution_count": 2,
     "metadata": {},
     "output_type": "execute_result"
    }
   ],
   "source": [
    "a.index_1D_to_index_3D_bin(50)"
   ]
  },
  {
   "cell_type": "code",
   "execution_count": 3,
   "metadata": {},
   "outputs": [
    {
     "data": {
      "text/plain": [
       "13"
      ]
     },
     "execution_count": 3,
     "metadata": {},
     "output_type": "execute_result"
    }
   ],
   "source": [
    "a.box_id_to_lower_level(50)"
   ]
  },
  {
   "cell_type": "code",
   "execution_count": 4,
   "metadata": {},
   "outputs": [
    {
     "data": {
      "text/plain": [
       "{2, 3, 18, 19, 258, 259, 274, 275}"
      ]
     },
     "execution_count": 4,
     "metadata": {},
     "output_type": "execute_result"
    }
   ],
   "source": [
    "a.box_id_to_higher_level(1)"
   ]
  },
  {
   "cell_type": "code",
   "execution_count": 2,
   "metadata": {
    "collapsed": true
   },
   "outputs": [],
   "source": [
    "a = fmm_level(1,2,3)"
   ]
  },
  {
   "cell_type": "code",
   "execution_count": 20,
   "metadata": {},
   "outputs": [
    {
     "data": {
      "text/plain": [
       "{0, 1, 16, 17, 256, 257, 272, 273}"
      ]
     },
     "execution_count": 20,
     "metadata": {},
     "output_type": "execute_result"
    }
   ],
   "source": [
    "a.box_id_to_higher_level(0)"
   ]
  },
  {
   "cell_type": "code",
   "execution_count": 21,
   "metadata": {
    "collapsed": true
   },
   "outputs": [],
   "source": [
    "b = fmm_level(4,2,3)"
   ]
  },
  {
   "cell_type": "code",
   "execution_count": 22,
   "metadata": {},
   "outputs": [
    {
     "name": "stdout",
     "output_type": "stream",
     "text": [
      "0\n",
      "0\n",
      "0\n",
      "0\n",
      "0\n",
      "0\n",
      "0\n",
      "0\n"
     ]
    }
   ],
   "source": [
    "for i in a.box_id_to_higher_level(0):\n",
    "    print(b.box_id_to_lower_level(i))"
   ]
  },
  {
   "cell_type": "code",
   "execution_count": 24,
   "metadata": {},
   "outputs": [],
   "source": [
    "d ='s'"
   ]
  },
  {
   "cell_type": "code",
   "execution_count": 25,
   "metadata": {},
   "outputs": [
    {
     "data": {
      "text/plain": [
       "False"
      ]
     },
     "execution_count": 25,
     "metadata": {},
     "output_type": "execute_result"
    }
   ],
   "source": [
    "not d"
   ]
  },
  {
   "cell_type": "code",
   "execution_count": 41,
   "metadata": {
    "collapsed": true
   },
   "outputs": [],
   "source": [
    "c = None"
   ]
  },
  {
   "cell_type": "code",
   "execution_count": 42,
   "metadata": {},
   "outputs": [
    {
     "data": {
      "text/plain": [
       "True"
      ]
     },
     "execution_count": 42,
     "metadata": {},
     "output_type": "execute_result"
    }
   ],
   "source": [
    "c is not 0"
   ]
  },
  {
   "cell_type": "code",
   "execution_count": 7,
   "metadata": {},
   "outputs": [],
   "source": [
    "c = set('')"
   ]
  },
  {
   "cell_type": "code",
   "execution_count": 11,
   "metadata": {},
   "outputs": [],
   "source": [
    "c.add(12)"
   ]
  },
  {
   "cell_type": "code",
   "execution_count": 3,
   "metadata": {
    "collapsed": true
   },
   "outputs": [],
   "source": [
    "a.box_list[1]"
   ]
  },
  {
   "cell_type": "code",
   "execution_count": 4,
   "metadata": {
    "collapsed": true
   },
   "outputs": [],
   "source": [
    "a = set()"
   ]
  },
  {
   "cell_type": "code",
   "execution_count": 5,
   "metadata": {},
   "outputs": [
    {
     "data": {
      "text/plain": [
       "0"
      ]
     },
     "execution_count": 5,
     "metadata": {},
     "output_type": "execute_result"
    }
   ],
   "source": [
    "len(a)"
   ]
  },
  {
   "cell_type": "code",
   "execution_count": 12,
   "metadata": {
    "collapsed": true
   },
   "outputs": [],
   "source": [
    "a.update(c)"
   ]
  },
  {
   "cell_type": "code",
   "execution_count": 13,
   "metadata": {},
   "outputs": [
    {
     "data": {
      "text/plain": [
       "{12, 's'}"
      ]
     },
     "execution_count": 13,
     "metadata": {},
     "output_type": "execute_result"
    }
   ],
   "source": [
    "a"
   ]
  },
  {
   "cell_type": "code",
   "execution_count": null,
   "metadata": {
    "collapsed": true
   },
   "outputs": [],
   "source": []
  }
 ],
 "metadata": {
  "anaconda-cloud": {},
  "kernelspec": {
   "display_name": "Python 3",
   "language": "python",
   "name": "python3"
  },
  "language_info": {
   "codemirror_mode": {
    "name": "ipython",
    "version": 3
   },
   "file_extension": ".py",
   "mimetype": "text/x-python",
   "name": "python",
   "nbconvert_exporter": "python",
   "pygments_lexer": "ipython3",
   "version": "3.5.4"
  }
 },
 "nbformat": 4,
 "nbformat_minor": 2
}
